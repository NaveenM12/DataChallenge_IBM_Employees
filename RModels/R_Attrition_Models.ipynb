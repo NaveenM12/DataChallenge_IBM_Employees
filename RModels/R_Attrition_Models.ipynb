{
 "cells": [
  {
   "cell_type": "code",
   "execution_count": 1,
   "metadata": {},
   "outputs": [],
   "source": [
    "setwd(\"~/IBM_Attrition_DataChallenge/\") # sets proper working directory"
   ]
  },
  {
   "cell_type": "code",
   "execution_count": 2,
   "metadata": {},
   "outputs": [],
   "source": [
    "# import R libraries to use later\n",
    "suppressPackageStartupMessages(library('caret'))\n",
    "suppressPackageStartupMessages(library('mlbench'))\n",
    "suppressPackageStartupMessages(library(plyr))"
   ]
  },
  {
   "cell_type": "markdown",
   "metadata": {},
   "source": [
    "First read in the raw data. Then as a standard practice, return the first few rows to check the dataframe is correct."
   ]
  },
  {
   "cell_type": "code",
   "execution_count": 3,
   "metadata": {
    "scrolled": true
   },
   "outputs": [
    {
     "data": {
      "text/html": [
       "<table>\n",
       "<caption>A data.frame: 6 × 35</caption>\n",
       "<thead>\n",
       "\t<tr><th></th><th scope=col>Age</th><th scope=col>Attrition</th><th scope=col>BusinessTravel</th><th scope=col>DailyRate</th><th scope=col>Department</th><th scope=col>DistanceFromHome</th><th scope=col>Education</th><th scope=col>EducationField</th><th scope=col>EmployeeCount</th><th scope=col>EmployeeNumber</th><th scope=col>⋯</th><th scope=col>RelationshipSatisfaction</th><th scope=col>StandardHours</th><th scope=col>StockOptionLevel</th><th scope=col>TotalWorkingYears</th><th scope=col>TrainingTimesLastYear</th><th scope=col>WorkLifeBalance</th><th scope=col>YearsAtCompany</th><th scope=col>YearsInCurrentRole</th><th scope=col>YearsSinceLastPromotion</th><th scope=col>YearsWithCurrManager</th></tr>\n",
       "\t<tr><th></th><th scope=col>&lt;int&gt;</th><th scope=col>&lt;chr&gt;</th><th scope=col>&lt;chr&gt;</th><th scope=col>&lt;int&gt;</th><th scope=col>&lt;chr&gt;</th><th scope=col>&lt;int&gt;</th><th scope=col>&lt;int&gt;</th><th scope=col>&lt;chr&gt;</th><th scope=col>&lt;int&gt;</th><th scope=col>&lt;int&gt;</th><th scope=col>⋯</th><th scope=col>&lt;int&gt;</th><th scope=col>&lt;int&gt;</th><th scope=col>&lt;int&gt;</th><th scope=col>&lt;int&gt;</th><th scope=col>&lt;int&gt;</th><th scope=col>&lt;int&gt;</th><th scope=col>&lt;int&gt;</th><th scope=col>&lt;int&gt;</th><th scope=col>&lt;int&gt;</th><th scope=col>&lt;int&gt;</th></tr>\n",
       "</thead>\n",
       "<tbody>\n",
       "\t<tr><th scope=row>1</th><td>41</td><td>Yes</td><td>Travel_Rarely    </td><td>1102</td><td>Sales                 </td><td>1</td><td>2</td><td>Life Sciences</td><td>1</td><td>1</td><td>⋯</td><td>1</td><td>80</td><td>0</td><td> 8</td><td>0</td><td>1</td><td> 6</td><td>4</td><td>0</td><td>5</td></tr>\n",
       "\t<tr><th scope=row>2</th><td>49</td><td>No </td><td>Travel_Frequently</td><td> 279</td><td>Research &amp; Development</td><td>8</td><td>1</td><td>Life Sciences</td><td>1</td><td>2</td><td>⋯</td><td>4</td><td>80</td><td>1</td><td>10</td><td>3</td><td>3</td><td>10</td><td>7</td><td>1</td><td>7</td></tr>\n",
       "\t<tr><th scope=row>3</th><td>37</td><td>Yes</td><td><span style=white-space:pre-wrap>Travel_Rarely    </span></td><td>1373</td><td>Research &amp; Development</td><td>2</td><td>2</td><td><span style=white-space:pre-wrap>Other        </span></td><td>1</td><td>4</td><td>⋯</td><td>2</td><td>80</td><td>0</td><td> 7</td><td>3</td><td>3</td><td> 0</td><td>0</td><td>0</td><td>0</td></tr>\n",
       "\t<tr><th scope=row>4</th><td>33</td><td>No </td><td>Travel_Frequently</td><td>1392</td><td>Research &amp; Development</td><td>3</td><td>4</td><td>Life Sciences</td><td>1</td><td>5</td><td>⋯</td><td>3</td><td>80</td><td>0</td><td> 8</td><td>3</td><td>3</td><td> 8</td><td>7</td><td>3</td><td>0</td></tr>\n",
       "\t<tr><th scope=row>5</th><td>27</td><td>No </td><td><span style=white-space:pre-wrap>Travel_Rarely    </span></td><td> 591</td><td>Research &amp; Development</td><td>2</td><td>1</td><td><span style=white-space:pre-wrap>Medical      </span></td><td>1</td><td>7</td><td>⋯</td><td>4</td><td>80</td><td>1</td><td> 6</td><td>3</td><td>3</td><td> 2</td><td>2</td><td>2</td><td>2</td></tr>\n",
       "\t<tr><th scope=row>6</th><td>32</td><td>No </td><td>Travel_Frequently</td><td>1005</td><td>Research &amp; Development</td><td>2</td><td>2</td><td>Life Sciences</td><td>1</td><td>8</td><td>⋯</td><td>3</td><td>80</td><td>0</td><td> 8</td><td>2</td><td>2</td><td> 7</td><td>7</td><td>3</td><td>6</td></tr>\n",
       "</tbody>\n",
       "</table>\n"
      ],
      "text/latex": [
       "A data.frame: 6 × 35\n",
       "\\begin{tabular}{r|lllllllllllllllllllll}\n",
       "  & Age & Attrition & BusinessTravel & DailyRate & Department & DistanceFromHome & Education & EducationField & EmployeeCount & EmployeeNumber & ⋯ & RelationshipSatisfaction & StandardHours & StockOptionLevel & TotalWorkingYears & TrainingTimesLastYear & WorkLifeBalance & YearsAtCompany & YearsInCurrentRole & YearsSinceLastPromotion & YearsWithCurrManager\\\\\n",
       "  & <int> & <chr> & <chr> & <int> & <chr> & <int> & <int> & <chr> & <int> & <int> & ⋯ & <int> & <int> & <int> & <int> & <int> & <int> & <int> & <int> & <int> & <int>\\\\\n",
       "\\hline\n",
       "\t1 & 41 & Yes & Travel\\_Rarely     & 1102 & Sales                  & 1 & 2 & Life Sciences & 1 & 1 & ⋯ & 1 & 80 & 0 &  8 & 0 & 1 &  6 & 4 & 0 & 5\\\\\n",
       "\t2 & 49 & No  & Travel\\_Frequently &  279 & Research \\& Development & 8 & 1 & Life Sciences & 1 & 2 & ⋯ & 4 & 80 & 1 & 10 & 3 & 3 & 10 & 7 & 1 & 7\\\\\n",
       "\t3 & 37 & Yes & Travel\\_Rarely     & 1373 & Research \\& Development & 2 & 2 & Other         & 1 & 4 & ⋯ & 2 & 80 & 0 &  7 & 3 & 3 &  0 & 0 & 0 & 0\\\\\n",
       "\t4 & 33 & No  & Travel\\_Frequently & 1392 & Research \\& Development & 3 & 4 & Life Sciences & 1 & 5 & ⋯ & 3 & 80 & 0 &  8 & 3 & 3 &  8 & 7 & 3 & 0\\\\\n",
       "\t5 & 27 & No  & Travel\\_Rarely     &  591 & Research \\& Development & 2 & 1 & Medical       & 1 & 7 & ⋯ & 4 & 80 & 1 &  6 & 3 & 3 &  2 & 2 & 2 & 2\\\\\n",
       "\t6 & 32 & No  & Travel\\_Frequently & 1005 & Research \\& Development & 2 & 2 & Life Sciences & 1 & 8 & ⋯ & 3 & 80 & 0 &  8 & 2 & 2 &  7 & 7 & 3 & 6\\\\\n",
       "\\end{tabular}\n"
      ],
      "text/markdown": [
       "\n",
       "A data.frame: 6 × 35\n",
       "\n",
       "| <!--/--> | Age &lt;int&gt; | Attrition &lt;chr&gt; | BusinessTravel &lt;chr&gt; | DailyRate &lt;int&gt; | Department &lt;chr&gt; | DistanceFromHome &lt;int&gt; | Education &lt;int&gt; | EducationField &lt;chr&gt; | EmployeeCount &lt;int&gt; | EmployeeNumber &lt;int&gt; | ⋯ ⋯ | RelationshipSatisfaction &lt;int&gt; | StandardHours &lt;int&gt; | StockOptionLevel &lt;int&gt; | TotalWorkingYears &lt;int&gt; | TrainingTimesLastYear &lt;int&gt; | WorkLifeBalance &lt;int&gt; | YearsAtCompany &lt;int&gt; | YearsInCurrentRole &lt;int&gt; | YearsSinceLastPromotion &lt;int&gt; | YearsWithCurrManager &lt;int&gt; |\n",
       "|---|---|---|---|---|---|---|---|---|---|---|---|---|---|---|---|---|---|---|---|---|---|\n",
       "| 1 | 41 | Yes | Travel_Rarely     | 1102 | Sales                  | 1 | 2 | Life Sciences | 1 | 1 | ⋯ | 1 | 80 | 0 |  8 | 0 | 1 |  6 | 4 | 0 | 5 |\n",
       "| 2 | 49 | No  | Travel_Frequently |  279 | Research &amp; Development | 8 | 1 | Life Sciences | 1 | 2 | ⋯ | 4 | 80 | 1 | 10 | 3 | 3 | 10 | 7 | 1 | 7 |\n",
       "| 3 | 37 | Yes | Travel_Rarely     | 1373 | Research &amp; Development | 2 | 2 | Other         | 1 | 4 | ⋯ | 2 | 80 | 0 |  7 | 3 | 3 |  0 | 0 | 0 | 0 |\n",
       "| 4 | 33 | No  | Travel_Frequently | 1392 | Research &amp; Development | 3 | 4 | Life Sciences | 1 | 5 | ⋯ | 3 | 80 | 0 |  8 | 3 | 3 |  8 | 7 | 3 | 0 |\n",
       "| 5 | 27 | No  | Travel_Rarely     |  591 | Research &amp; Development | 2 | 1 | Medical       | 1 | 7 | ⋯ | 4 | 80 | 1 |  6 | 3 | 3 |  2 | 2 | 2 | 2 |\n",
       "| 6 | 32 | No  | Travel_Frequently | 1005 | Research &amp; Development | 2 | 2 | Life Sciences | 1 | 8 | ⋯ | 3 | 80 | 0 |  8 | 2 | 2 |  7 | 7 | 3 | 6 |\n",
       "\n"
      ],
      "text/plain": [
       "  Age Attrition BusinessTravel    DailyRate Department            \n",
       "1 41  Yes       Travel_Rarely     1102      Sales                 \n",
       "2 49  No        Travel_Frequently  279      Research & Development\n",
       "3 37  Yes       Travel_Rarely     1373      Research & Development\n",
       "4 33  No        Travel_Frequently 1392      Research & Development\n",
       "5 27  No        Travel_Rarely      591      Research & Development\n",
       "6 32  No        Travel_Frequently 1005      Research & Development\n",
       "  DistanceFromHome Education EducationField EmployeeCount EmployeeNumber ⋯\n",
       "1 1                2         Life Sciences  1             1              ⋯\n",
       "2 8                1         Life Sciences  1             2              ⋯\n",
       "3 2                2         Other          1             4              ⋯\n",
       "4 3                4         Life Sciences  1             5              ⋯\n",
       "5 2                1         Medical        1             7              ⋯\n",
       "6 2                2         Life Sciences  1             8              ⋯\n",
       "  RelationshipSatisfaction StandardHours StockOptionLevel TotalWorkingYears\n",
       "1 1                        80            0                 8               \n",
       "2 4                        80            1                10               \n",
       "3 2                        80            0                 7               \n",
       "4 3                        80            0                 8               \n",
       "5 4                        80            1                 6               \n",
       "6 3                        80            0                 8               \n",
       "  TrainingTimesLastYear WorkLifeBalance YearsAtCompany YearsInCurrentRole\n",
       "1 0                     1                6             4                 \n",
       "2 3                     3               10             7                 \n",
       "3 3                     3                0             0                 \n",
       "4 3                     3                8             7                 \n",
       "5 3                     3                2             2                 \n",
       "6 2                     2                7             7                 \n",
       "  YearsSinceLastPromotion YearsWithCurrManager\n",
       "1 0                       5                   \n",
       "2 1                       7                   \n",
       "3 0                       0                   \n",
       "4 3                       0                   \n",
       "5 2                       2                   \n",
       "6 3                       6                   "
      ]
     },
     "metadata": {},
     "output_type": "display_data"
    }
   ],
   "source": [
    "dataframe <- read.csv(file='WA_Fn-UseC_-HR-Employee-Attrition.csv') # IBM data is stored in variable 'dataframe'\n",
    "head(dataframe)"
   ]
  },
  {
   "cell_type": "markdown",
   "metadata": {},
   "source": [
    "We can realize there are four columns that are the same/arbitrary for each person, so we will remove these below."
   ]
  },
  {
   "cell_type": "code",
   "execution_count": 4,
   "metadata": {},
   "outputs": [
    {
     "data": {
      "text/html": [
       "<table>\n",
       "<caption>A data.frame: 6 × 32</caption>\n",
       "<thead>\n",
       "\t<tr><th></th><th scope=col>Age</th><th scope=col>Attrition</th><th scope=col>BusinessTravel</th><th scope=col>DailyRate</th><th scope=col>Department</th><th scope=col>DistanceFromHome</th><th scope=col>Education</th><th scope=col>EducationField</th><th scope=col>EmployeeNumber</th><th scope=col>EnvironmentSatisfaction</th><th scope=col>⋯</th><th scope=col>PerformanceRating</th><th scope=col>RelationshipSatisfaction</th><th scope=col>StockOptionLevel</th><th scope=col>TotalWorkingYears</th><th scope=col>TrainingTimesLastYear</th><th scope=col>WorkLifeBalance</th><th scope=col>YearsAtCompany</th><th scope=col>YearsInCurrentRole</th><th scope=col>YearsSinceLastPromotion</th><th scope=col>YearsWithCurrManager</th></tr>\n",
       "\t<tr><th></th><th scope=col>&lt;int&gt;</th><th scope=col>&lt;chr&gt;</th><th scope=col>&lt;chr&gt;</th><th scope=col>&lt;int&gt;</th><th scope=col>&lt;chr&gt;</th><th scope=col>&lt;int&gt;</th><th scope=col>&lt;int&gt;</th><th scope=col>&lt;chr&gt;</th><th scope=col>&lt;int&gt;</th><th scope=col>&lt;int&gt;</th><th scope=col>⋯</th><th scope=col>&lt;int&gt;</th><th scope=col>&lt;int&gt;</th><th scope=col>&lt;int&gt;</th><th scope=col>&lt;int&gt;</th><th scope=col>&lt;int&gt;</th><th scope=col>&lt;int&gt;</th><th scope=col>&lt;int&gt;</th><th scope=col>&lt;int&gt;</th><th scope=col>&lt;int&gt;</th><th scope=col>&lt;int&gt;</th></tr>\n",
       "</thead>\n",
       "<tbody>\n",
       "\t<tr><th scope=row>1</th><td>41</td><td>Yes</td><td>Travel_Rarely    </td><td>1102</td><td>Sales                 </td><td>1</td><td>2</td><td>Life Sciences</td><td>1</td><td>2</td><td>⋯</td><td>3</td><td>1</td><td>0</td><td> 8</td><td>0</td><td>1</td><td> 6</td><td>4</td><td>0</td><td>5</td></tr>\n",
       "\t<tr><th scope=row>2</th><td>49</td><td>No </td><td>Travel_Frequently</td><td> 279</td><td>Research &amp; Development</td><td>8</td><td>1</td><td>Life Sciences</td><td>2</td><td>3</td><td>⋯</td><td>4</td><td>4</td><td>1</td><td>10</td><td>3</td><td>3</td><td>10</td><td>7</td><td>1</td><td>7</td></tr>\n",
       "\t<tr><th scope=row>3</th><td>37</td><td>Yes</td><td><span style=white-space:pre-wrap>Travel_Rarely    </span></td><td>1373</td><td>Research &amp; Development</td><td>2</td><td>2</td><td><span style=white-space:pre-wrap>Other        </span></td><td>4</td><td>4</td><td>⋯</td><td>3</td><td>2</td><td>0</td><td> 7</td><td>3</td><td>3</td><td> 0</td><td>0</td><td>0</td><td>0</td></tr>\n",
       "\t<tr><th scope=row>4</th><td>33</td><td>No </td><td>Travel_Frequently</td><td>1392</td><td>Research &amp; Development</td><td>3</td><td>4</td><td>Life Sciences</td><td>5</td><td>4</td><td>⋯</td><td>3</td><td>3</td><td>0</td><td> 8</td><td>3</td><td>3</td><td> 8</td><td>7</td><td>3</td><td>0</td></tr>\n",
       "\t<tr><th scope=row>5</th><td>27</td><td>No </td><td><span style=white-space:pre-wrap>Travel_Rarely    </span></td><td> 591</td><td>Research &amp; Development</td><td>2</td><td>1</td><td><span style=white-space:pre-wrap>Medical      </span></td><td>7</td><td>1</td><td>⋯</td><td>3</td><td>4</td><td>1</td><td> 6</td><td>3</td><td>3</td><td> 2</td><td>2</td><td>2</td><td>2</td></tr>\n",
       "\t<tr><th scope=row>6</th><td>32</td><td>No </td><td>Travel_Frequently</td><td>1005</td><td>Research &amp; Development</td><td>2</td><td>2</td><td>Life Sciences</td><td>8</td><td>4</td><td>⋯</td><td>3</td><td>3</td><td>0</td><td> 8</td><td>2</td><td>2</td><td> 7</td><td>7</td><td>3</td><td>6</td></tr>\n",
       "</tbody>\n",
       "</table>\n"
      ],
      "text/latex": [
       "A data.frame: 6 × 32\n",
       "\\begin{tabular}{r|lllllllllllllllllllll}\n",
       "  & Age & Attrition & BusinessTravel & DailyRate & Department & DistanceFromHome & Education & EducationField & EmployeeNumber & EnvironmentSatisfaction & ⋯ & PerformanceRating & RelationshipSatisfaction & StockOptionLevel & TotalWorkingYears & TrainingTimesLastYear & WorkLifeBalance & YearsAtCompany & YearsInCurrentRole & YearsSinceLastPromotion & YearsWithCurrManager\\\\\n",
       "  & <int> & <chr> & <chr> & <int> & <chr> & <int> & <int> & <chr> & <int> & <int> & ⋯ & <int> & <int> & <int> & <int> & <int> & <int> & <int> & <int> & <int> & <int>\\\\\n",
       "\\hline\n",
       "\t1 & 41 & Yes & Travel\\_Rarely     & 1102 & Sales                  & 1 & 2 & Life Sciences & 1 & 2 & ⋯ & 3 & 1 & 0 &  8 & 0 & 1 &  6 & 4 & 0 & 5\\\\\n",
       "\t2 & 49 & No  & Travel\\_Frequently &  279 & Research \\& Development & 8 & 1 & Life Sciences & 2 & 3 & ⋯ & 4 & 4 & 1 & 10 & 3 & 3 & 10 & 7 & 1 & 7\\\\\n",
       "\t3 & 37 & Yes & Travel\\_Rarely     & 1373 & Research \\& Development & 2 & 2 & Other         & 4 & 4 & ⋯ & 3 & 2 & 0 &  7 & 3 & 3 &  0 & 0 & 0 & 0\\\\\n",
       "\t4 & 33 & No  & Travel\\_Frequently & 1392 & Research \\& Development & 3 & 4 & Life Sciences & 5 & 4 & ⋯ & 3 & 3 & 0 &  8 & 3 & 3 &  8 & 7 & 3 & 0\\\\\n",
       "\t5 & 27 & No  & Travel\\_Rarely     &  591 & Research \\& Development & 2 & 1 & Medical       & 7 & 1 & ⋯ & 3 & 4 & 1 &  6 & 3 & 3 &  2 & 2 & 2 & 2\\\\\n",
       "\t6 & 32 & No  & Travel\\_Frequently & 1005 & Research \\& Development & 2 & 2 & Life Sciences & 8 & 4 & ⋯ & 3 & 3 & 0 &  8 & 2 & 2 &  7 & 7 & 3 & 6\\\\\n",
       "\\end{tabular}\n"
      ],
      "text/markdown": [
       "\n",
       "A data.frame: 6 × 32\n",
       "\n",
       "| <!--/--> | Age &lt;int&gt; | Attrition &lt;chr&gt; | BusinessTravel &lt;chr&gt; | DailyRate &lt;int&gt; | Department &lt;chr&gt; | DistanceFromHome &lt;int&gt; | Education &lt;int&gt; | EducationField &lt;chr&gt; | EmployeeNumber &lt;int&gt; | EnvironmentSatisfaction &lt;int&gt; | ⋯ ⋯ | PerformanceRating &lt;int&gt; | RelationshipSatisfaction &lt;int&gt; | StockOptionLevel &lt;int&gt; | TotalWorkingYears &lt;int&gt; | TrainingTimesLastYear &lt;int&gt; | WorkLifeBalance &lt;int&gt; | YearsAtCompany &lt;int&gt; | YearsInCurrentRole &lt;int&gt; | YearsSinceLastPromotion &lt;int&gt; | YearsWithCurrManager &lt;int&gt; |\n",
       "|---|---|---|---|---|---|---|---|---|---|---|---|---|---|---|---|---|---|---|---|---|---|\n",
       "| 1 | 41 | Yes | Travel_Rarely     | 1102 | Sales                  | 1 | 2 | Life Sciences | 1 | 2 | ⋯ | 3 | 1 | 0 |  8 | 0 | 1 |  6 | 4 | 0 | 5 |\n",
       "| 2 | 49 | No  | Travel_Frequently |  279 | Research &amp; Development | 8 | 1 | Life Sciences | 2 | 3 | ⋯ | 4 | 4 | 1 | 10 | 3 | 3 | 10 | 7 | 1 | 7 |\n",
       "| 3 | 37 | Yes | Travel_Rarely     | 1373 | Research &amp; Development | 2 | 2 | Other         | 4 | 4 | ⋯ | 3 | 2 | 0 |  7 | 3 | 3 |  0 | 0 | 0 | 0 |\n",
       "| 4 | 33 | No  | Travel_Frequently | 1392 | Research &amp; Development | 3 | 4 | Life Sciences | 5 | 4 | ⋯ | 3 | 3 | 0 |  8 | 3 | 3 |  8 | 7 | 3 | 0 |\n",
       "| 5 | 27 | No  | Travel_Rarely     |  591 | Research &amp; Development | 2 | 1 | Medical       | 7 | 1 | ⋯ | 3 | 4 | 1 |  6 | 3 | 3 |  2 | 2 | 2 | 2 |\n",
       "| 6 | 32 | No  | Travel_Frequently | 1005 | Research &amp; Development | 2 | 2 | Life Sciences | 8 | 4 | ⋯ | 3 | 3 | 0 |  8 | 2 | 2 |  7 | 7 | 3 | 6 |\n",
       "\n"
      ],
      "text/plain": [
       "  Age Attrition BusinessTravel    DailyRate Department            \n",
       "1 41  Yes       Travel_Rarely     1102      Sales                 \n",
       "2 49  No        Travel_Frequently  279      Research & Development\n",
       "3 37  Yes       Travel_Rarely     1373      Research & Development\n",
       "4 33  No        Travel_Frequently 1392      Research & Development\n",
       "5 27  No        Travel_Rarely      591      Research & Development\n",
       "6 32  No        Travel_Frequently 1005      Research & Development\n",
       "  DistanceFromHome Education EducationField EmployeeNumber\n",
       "1 1                2         Life Sciences  1             \n",
       "2 8                1         Life Sciences  2             \n",
       "3 2                2         Other          4             \n",
       "4 3                4         Life Sciences  5             \n",
       "5 2                1         Medical        7             \n",
       "6 2                2         Life Sciences  8             \n",
       "  EnvironmentSatisfaction ⋯ PerformanceRating RelationshipSatisfaction\n",
       "1 2                       ⋯ 3                 1                       \n",
       "2 3                       ⋯ 4                 4                       \n",
       "3 4                       ⋯ 3                 2                       \n",
       "4 4                       ⋯ 3                 3                       \n",
       "5 1                       ⋯ 3                 4                       \n",
       "6 4                       ⋯ 3                 3                       \n",
       "  StockOptionLevel TotalWorkingYears TrainingTimesLastYear WorkLifeBalance\n",
       "1 0                 8                0                     1              \n",
       "2 1                10                3                     3              \n",
       "3 0                 7                3                     3              \n",
       "4 0                 8                3                     3              \n",
       "5 1                 6                3                     3              \n",
       "6 0                 8                2                     2              \n",
       "  YearsAtCompany YearsInCurrentRole YearsSinceLastPromotion\n",
       "1  6             4                  0                      \n",
       "2 10             7                  1                      \n",
       "3  0             0                  0                      \n",
       "4  8             7                  3                      \n",
       "5  2             2                  2                      \n",
       "6  7             7                  3                      \n",
       "  YearsWithCurrManager\n",
       "1 5                   \n",
       "2 7                   \n",
       "3 0                   \n",
       "4 0                   \n",
       "5 2                   \n",
       "6 6                   "
      ]
     },
     "metadata": {},
     "output_type": "display_data"
    }
   ],
   "source": [
    "drops <- c(\"EmployeeCount\", \"Over18\", \"StandardHours\")\n",
    "dataframe <- dataframe[ , !(names(dataframe) %in% drops)]\n",
    "head(dataframe)"
   ]
  },
  {
   "cell_type": "markdown",
   "metadata": {},
   "source": [
    "We will check for missing data to ensure that no rows have to be removed/edited. If some values are missing, there are multiple ways to correct the issue. We could use a deletion method (listwise, pairwise, etc.) to remove rows or variables with missing data; however, this is not best practice because it could result in losing lots of information. We could also try to fill in the data using some imputation method. Imputation methods can range from simple mean/median/mode calculations to more complex techniques like the 'nearest neighbors' method, which extracts an estimate only from rows with similar traits."
   ]
  },
  {
   "cell_type": "code",
   "execution_count": 5,
   "metadata": {},
   "outputs": [
    {
     "data": {
      "text/html": [
       "0"
      ],
      "text/latex": [
       "0"
      ],
      "text/markdown": [
       "0"
      ],
      "text/plain": [
       "[1] 0"
      ]
     },
     "metadata": {},
     "output_type": "display_data"
    }
   ],
   "source": [
    "sum(is.na(dataframe)) # sums the number of NA (null) values in the dataframe "
   ]
  },
  {
   "cell_type": "markdown",
   "metadata": {},
   "source": [
    "There are no null values! This means we don't have to bother with missing data and can move on to the next step."
   ]
  },
  {
   "cell_type": "markdown",
   "metadata": {},
   "source": [
    "Next, we will remove any columns with the same value in each row, as they are the same for everyone and will provide no additional information."
   ]
  },
  {
   "cell_type": "code",
   "execution_count": 6,
   "metadata": {},
   "outputs": [],
   "source": [
    "dataframe <- dataframe[vapply(dataframe, function(x) length(unique(x)) > 1, logical(1L))] # remove cols with one value"
   ]
  },
  {
   "cell_type": "markdown",
   "metadata": {},
   "source": [
    "We will now check that each employee is only entered in the dataset once. When calculating attrition, it would be fine if an employee was counted twice, say if attrition changes after some promotion/work-life change. However, when gathering general statistics on IBM employees (number of workers, distribution of jobs, etc.), we want to avoid double counting. We will do this through noticing that there is an Employee Number column with unique identifiers."
   ]
  },
  {
   "cell_type": "code",
   "execution_count": 7,
   "metadata": {},
   "outputs": [
    {
     "data": {
      "text/html": [
       "TRUE"
      ],
      "text/latex": [
       "TRUE"
      ],
      "text/markdown": [
       "TRUE"
      ],
      "text/plain": [
       "[1] TRUE"
      ]
     },
     "metadata": {},
     "output_type": "display_data"
    }
   ],
   "source": [
    "# check that column EmployeeNumber is the same before and after duplicate values have been removed\n",
    "all(unique(dataframe$EmployeeNumber) == dataframe$EmployeeNumber) "
   ]
  },
  {
   "cell_type": "markdown",
   "metadata": {},
   "source": [
    "Great! Because the column is the same before and after duplicates are removed, there are no employee recurrences to worry about!"
   ]
  },
  {
   "cell_type": "markdown",
   "metadata": {},
   "source": [
    "We also have to eliminate correlated data from the dataframe. Correlated data are variables that have a strong association with eachother and will thus tend to follow related patterns (note: not causation). This is an important step in cleaning the data, as we do not want multiple independent variables conveying the same information to the model. Correlated data can make models unstable and introduce variance/ovrfitting to the dataset by double-counting."
   ]
  },
  {
   "cell_type": "markdown",
   "metadata": {},
   "source": [
    "We can only check correlations between numeric values, so we will first remove the categorical variables."
   ]
  },
  {
   "cell_type": "code",
   "execution_count": 8,
   "metadata": {},
   "outputs": [
    {
     "data": {
      "text/html": [
       "<table>\n",
       "<caption>A data.frame: 6 × 24</caption>\n",
       "<thead>\n",
       "\t<tr><th></th><th scope=col>Age</th><th scope=col>DailyRate</th><th scope=col>DistanceFromHome</th><th scope=col>Education</th><th scope=col>EmployeeNumber</th><th scope=col>EnvironmentSatisfaction</th><th scope=col>HourlyRate</th><th scope=col>JobInvolvement</th><th scope=col>JobLevel</th><th scope=col>JobSatisfaction</th><th scope=col>⋯</th><th scope=col>PerformanceRating</th><th scope=col>RelationshipSatisfaction</th><th scope=col>StockOptionLevel</th><th scope=col>TotalWorkingYears</th><th scope=col>TrainingTimesLastYear</th><th scope=col>WorkLifeBalance</th><th scope=col>YearsAtCompany</th><th scope=col>YearsInCurrentRole</th><th scope=col>YearsSinceLastPromotion</th><th scope=col>YearsWithCurrManager</th></tr>\n",
       "\t<tr><th></th><th scope=col>&lt;int&gt;</th><th scope=col>&lt;int&gt;</th><th scope=col>&lt;int&gt;</th><th scope=col>&lt;int&gt;</th><th scope=col>&lt;int&gt;</th><th scope=col>&lt;int&gt;</th><th scope=col>&lt;int&gt;</th><th scope=col>&lt;int&gt;</th><th scope=col>&lt;int&gt;</th><th scope=col>&lt;int&gt;</th><th scope=col>⋯</th><th scope=col>&lt;int&gt;</th><th scope=col>&lt;int&gt;</th><th scope=col>&lt;int&gt;</th><th scope=col>&lt;int&gt;</th><th scope=col>&lt;int&gt;</th><th scope=col>&lt;int&gt;</th><th scope=col>&lt;int&gt;</th><th scope=col>&lt;int&gt;</th><th scope=col>&lt;int&gt;</th><th scope=col>&lt;int&gt;</th></tr>\n",
       "</thead>\n",
       "<tbody>\n",
       "\t<tr><th scope=row>1</th><td>41</td><td>1102</td><td>1</td><td>2</td><td>1</td><td>2</td><td>94</td><td>3</td><td>2</td><td>4</td><td>⋯</td><td>3</td><td>1</td><td>0</td><td> 8</td><td>0</td><td>1</td><td> 6</td><td>4</td><td>0</td><td>5</td></tr>\n",
       "\t<tr><th scope=row>2</th><td>49</td><td> 279</td><td>8</td><td>1</td><td>2</td><td>3</td><td>61</td><td>2</td><td>2</td><td>2</td><td>⋯</td><td>4</td><td>4</td><td>1</td><td>10</td><td>3</td><td>3</td><td>10</td><td>7</td><td>1</td><td>7</td></tr>\n",
       "\t<tr><th scope=row>3</th><td>37</td><td>1373</td><td>2</td><td>2</td><td>4</td><td>4</td><td>92</td><td>2</td><td>1</td><td>3</td><td>⋯</td><td>3</td><td>2</td><td>0</td><td> 7</td><td>3</td><td>3</td><td> 0</td><td>0</td><td>0</td><td>0</td></tr>\n",
       "\t<tr><th scope=row>4</th><td>33</td><td>1392</td><td>3</td><td>4</td><td>5</td><td>4</td><td>56</td><td>3</td><td>1</td><td>3</td><td>⋯</td><td>3</td><td>3</td><td>0</td><td> 8</td><td>3</td><td>3</td><td> 8</td><td>7</td><td>3</td><td>0</td></tr>\n",
       "\t<tr><th scope=row>5</th><td>27</td><td> 591</td><td>2</td><td>1</td><td>7</td><td>1</td><td>40</td><td>3</td><td>1</td><td>2</td><td>⋯</td><td>3</td><td>4</td><td>1</td><td> 6</td><td>3</td><td>3</td><td> 2</td><td>2</td><td>2</td><td>2</td></tr>\n",
       "\t<tr><th scope=row>6</th><td>32</td><td>1005</td><td>2</td><td>2</td><td>8</td><td>4</td><td>79</td><td>3</td><td>1</td><td>4</td><td>⋯</td><td>3</td><td>3</td><td>0</td><td> 8</td><td>2</td><td>2</td><td> 7</td><td>7</td><td>3</td><td>6</td></tr>\n",
       "</tbody>\n",
       "</table>\n"
      ],
      "text/latex": [
       "A data.frame: 6 × 24\n",
       "\\begin{tabular}{r|lllllllllllllllllllll}\n",
       "  & Age & DailyRate & DistanceFromHome & Education & EmployeeNumber & EnvironmentSatisfaction & HourlyRate & JobInvolvement & JobLevel & JobSatisfaction & ⋯ & PerformanceRating & RelationshipSatisfaction & StockOptionLevel & TotalWorkingYears & TrainingTimesLastYear & WorkLifeBalance & YearsAtCompany & YearsInCurrentRole & YearsSinceLastPromotion & YearsWithCurrManager\\\\\n",
       "  & <int> & <int> & <int> & <int> & <int> & <int> & <int> & <int> & <int> & <int> & ⋯ & <int> & <int> & <int> & <int> & <int> & <int> & <int> & <int> & <int> & <int>\\\\\n",
       "\\hline\n",
       "\t1 & 41 & 1102 & 1 & 2 & 1 & 2 & 94 & 3 & 2 & 4 & ⋯ & 3 & 1 & 0 &  8 & 0 & 1 &  6 & 4 & 0 & 5\\\\\n",
       "\t2 & 49 &  279 & 8 & 1 & 2 & 3 & 61 & 2 & 2 & 2 & ⋯ & 4 & 4 & 1 & 10 & 3 & 3 & 10 & 7 & 1 & 7\\\\\n",
       "\t3 & 37 & 1373 & 2 & 2 & 4 & 4 & 92 & 2 & 1 & 3 & ⋯ & 3 & 2 & 0 &  7 & 3 & 3 &  0 & 0 & 0 & 0\\\\\n",
       "\t4 & 33 & 1392 & 3 & 4 & 5 & 4 & 56 & 3 & 1 & 3 & ⋯ & 3 & 3 & 0 &  8 & 3 & 3 &  8 & 7 & 3 & 0\\\\\n",
       "\t5 & 27 &  591 & 2 & 1 & 7 & 1 & 40 & 3 & 1 & 2 & ⋯ & 3 & 4 & 1 &  6 & 3 & 3 &  2 & 2 & 2 & 2\\\\\n",
       "\t6 & 32 & 1005 & 2 & 2 & 8 & 4 & 79 & 3 & 1 & 4 & ⋯ & 3 & 3 & 0 &  8 & 2 & 2 &  7 & 7 & 3 & 6\\\\\n",
       "\\end{tabular}\n"
      ],
      "text/markdown": [
       "\n",
       "A data.frame: 6 × 24\n",
       "\n",
       "| <!--/--> | Age &lt;int&gt; | DailyRate &lt;int&gt; | DistanceFromHome &lt;int&gt; | Education &lt;int&gt; | EmployeeNumber &lt;int&gt; | EnvironmentSatisfaction &lt;int&gt; | HourlyRate &lt;int&gt; | JobInvolvement &lt;int&gt; | JobLevel &lt;int&gt; | JobSatisfaction &lt;int&gt; | ⋯ ⋯ | PerformanceRating &lt;int&gt; | RelationshipSatisfaction &lt;int&gt; | StockOptionLevel &lt;int&gt; | TotalWorkingYears &lt;int&gt; | TrainingTimesLastYear &lt;int&gt; | WorkLifeBalance &lt;int&gt; | YearsAtCompany &lt;int&gt; | YearsInCurrentRole &lt;int&gt; | YearsSinceLastPromotion &lt;int&gt; | YearsWithCurrManager &lt;int&gt; |\n",
       "|---|---|---|---|---|---|---|---|---|---|---|---|---|---|---|---|---|---|---|---|---|---|\n",
       "| 1 | 41 | 1102 | 1 | 2 | 1 | 2 | 94 | 3 | 2 | 4 | ⋯ | 3 | 1 | 0 |  8 | 0 | 1 |  6 | 4 | 0 | 5 |\n",
       "| 2 | 49 |  279 | 8 | 1 | 2 | 3 | 61 | 2 | 2 | 2 | ⋯ | 4 | 4 | 1 | 10 | 3 | 3 | 10 | 7 | 1 | 7 |\n",
       "| 3 | 37 | 1373 | 2 | 2 | 4 | 4 | 92 | 2 | 1 | 3 | ⋯ | 3 | 2 | 0 |  7 | 3 | 3 |  0 | 0 | 0 | 0 |\n",
       "| 4 | 33 | 1392 | 3 | 4 | 5 | 4 | 56 | 3 | 1 | 3 | ⋯ | 3 | 3 | 0 |  8 | 3 | 3 |  8 | 7 | 3 | 0 |\n",
       "| 5 | 27 |  591 | 2 | 1 | 7 | 1 | 40 | 3 | 1 | 2 | ⋯ | 3 | 4 | 1 |  6 | 3 | 3 |  2 | 2 | 2 | 2 |\n",
       "| 6 | 32 | 1005 | 2 | 2 | 8 | 4 | 79 | 3 | 1 | 4 | ⋯ | 3 | 3 | 0 |  8 | 2 | 2 |  7 | 7 | 3 | 6 |\n",
       "\n"
      ],
      "text/plain": [
       "  Age DailyRate DistanceFromHome Education EmployeeNumber\n",
       "1 41  1102      1                2         1             \n",
       "2 49   279      8                1         2             \n",
       "3 37  1373      2                2         4             \n",
       "4 33  1392      3                4         5             \n",
       "5 27   591      2                1         7             \n",
       "6 32  1005      2                2         8             \n",
       "  EnvironmentSatisfaction HourlyRate JobInvolvement JobLevel JobSatisfaction ⋯\n",
       "1 2                       94         3              2        4               ⋯\n",
       "2 3                       61         2              2        2               ⋯\n",
       "3 4                       92         2              1        3               ⋯\n",
       "4 4                       56         3              1        3               ⋯\n",
       "5 1                       40         3              1        2               ⋯\n",
       "6 4                       79         3              1        4               ⋯\n",
       "  PerformanceRating RelationshipSatisfaction StockOptionLevel TotalWorkingYears\n",
       "1 3                 1                        0                 8               \n",
       "2 4                 4                        1                10               \n",
       "3 3                 2                        0                 7               \n",
       "4 3                 3                        0                 8               \n",
       "5 3                 4                        1                 6               \n",
       "6 3                 3                        0                 8               \n",
       "  TrainingTimesLastYear WorkLifeBalance YearsAtCompany YearsInCurrentRole\n",
       "1 0                     1                6             4                 \n",
       "2 3                     3               10             7                 \n",
       "3 3                     3                0             0                 \n",
       "4 3                     3                8             7                 \n",
       "5 3                     3                2             2                 \n",
       "6 2                     2                7             7                 \n",
       "  YearsSinceLastPromotion YearsWithCurrManager\n",
       "1 0                       5                   \n",
       "2 1                       7                   \n",
       "3 0                       0                   \n",
       "4 3                       0                   \n",
       "5 2                       2                   \n",
       "6 3                       6                   "
      ]
     },
     "metadata": {},
     "output_type": "display_data"
    }
   ],
   "source": [
    "numericData <- dataframe[sapply(dataframe, is.numeric)]  # retains only the columns following is.numeric\n",
    "head(numericData)                                        # visualizes the numeric data"
   ]
  },
  {
   "cell_type": "markdown",
   "metadata": {},
   "source": [
    "Now we will use the numeric data to calculate variable correlations. We will use the built-in cor function to create a matrix containing correlation values. An absolute value close to 1 represents a high correlation between variables. The cor function uses Pearson's rank-based measure of association. "
   ]
  },
  {
   "cell_type": "code",
   "execution_count": 9,
   "metadata": {},
   "outputs": [
    {
     "data": {
      "text/html": [
       "<table>\n",
       "<caption>A matrix: 6 × 24 of type dbl</caption>\n",
       "<thead>\n",
       "\t<tr><th></th><th scope=col>Age</th><th scope=col>DailyRate</th><th scope=col>DistanceFromHome</th><th scope=col>Education</th><th scope=col>EmployeeNumber</th><th scope=col>EnvironmentSatisfaction</th><th scope=col>HourlyRate</th><th scope=col>JobInvolvement</th><th scope=col>JobLevel</th><th scope=col>JobSatisfaction</th><th scope=col>⋯</th><th scope=col>PerformanceRating</th><th scope=col>RelationshipSatisfaction</th><th scope=col>StockOptionLevel</th><th scope=col>TotalWorkingYears</th><th scope=col>TrainingTimesLastYear</th><th scope=col>WorkLifeBalance</th><th scope=col>YearsAtCompany</th><th scope=col>YearsInCurrentRole</th><th scope=col>YearsSinceLastPromotion</th><th scope=col>YearsWithCurrManager</th></tr>\n",
       "</thead>\n",
       "<tbody>\n",
       "\t<tr><th scope=row>Age</th><td> 1.00000000</td><td> 0.010660943</td><td>-0.001686120</td><td> 0.20803373</td><td>-0.01014547</td><td> 0.01014643</td><td> 0.02428654</td><td> 0.029819959</td><td> 0.509604228</td><td>-0.004891877</td><td>⋯</td><td> 0.0019038955</td><td> 0.053534720</td><td>0.037509712</td><td> 0.680380536</td><td>-0.019620819</td><td>-0.021490028</td><td> 0.311308770</td><td> 0.212901056</td><td> 0.216513368</td><td> 0.202088602</td></tr>\n",
       "\t<tr><th scope=row>DailyRate</th><td> 0.01066094</td><td> 1.000000000</td><td>-0.004985337</td><td>-0.01680643</td><td>-0.05099043</td><td> 0.01835485</td><td> 0.02338142</td><td> 0.046134874</td><td> 0.002966335</td><td> 0.030571008</td><td>⋯</td><td> 0.0004732963</td><td> 0.007846031</td><td>0.042142796</td><td> 0.014514739</td><td> 0.002452543</td><td>-0.037848051</td><td>-0.034054768</td><td> 0.009932015</td><td>-0.033228985</td><td>-0.026363178</td></tr>\n",
       "\t<tr><th scope=row>DistanceFromHome</th><td>-0.00168612</td><td>-0.004985337</td><td> 1.000000000</td><td> 0.02104183</td><td> 0.03291641</td><td>-0.01607533</td><td> 0.03113059</td><td> 0.008783280</td><td> 0.005302731</td><td>-0.003668839</td><td>⋯</td><td> 0.0271096185</td><td> 0.006557475</td><td>0.044871999</td><td> 0.004628426</td><td>-0.036942234</td><td>-0.026556004</td><td> 0.009507720</td><td> 0.018844999</td><td> 0.010028836</td><td> 0.014406048</td></tr>\n",
       "\t<tr><th scope=row>Education</th><td> 0.20803373</td><td>-0.016806433</td><td> 0.021041826</td><td> 1.00000000</td><td> 0.04207009</td><td>-0.02712831</td><td> 0.01677483</td><td> 0.042437634</td><td> 0.101588886</td><td>-0.011296117</td><td>⋯</td><td>-0.0245387912</td><td>-0.009118377</td><td>0.018422220</td><td> 0.148279697</td><td>-0.025100241</td><td> 0.009819189</td><td> 0.069113696</td><td> 0.060235554</td><td> 0.054254334</td><td> 0.069065378</td></tr>\n",
       "\t<tr><th scope=row>EmployeeNumber</th><td>-0.01014547</td><td>-0.050990434</td><td> 0.032916407</td><td> 0.04207009</td><td> 1.00000000</td><td> 0.01762080</td><td> 0.03517921</td><td>-0.006887923</td><td>-0.018519194</td><td>-0.046246735</td><td>⋯</td><td>-0.0203588251</td><td>-0.069861411</td><td>0.062226693</td><td>-0.014365198</td><td> 0.023603170</td><td> 0.010308641</td><td>-0.011240464</td><td>-0.008416312</td><td>-0.009019064</td><td>-0.009196645</td></tr>\n",
       "\t<tr><th scope=row>EnvironmentSatisfaction</th><td> 0.01014643</td><td> 0.018354854</td><td>-0.016075327</td><td>-0.02712831</td><td> 0.01762080</td><td> 1.00000000</td><td>-0.04985696</td><td>-0.008277598</td><td> 0.001211699</td><td>-0.006784353</td><td>⋯</td><td>-0.0295479523</td><td> 0.007665384</td><td>0.003432158</td><td>-0.002693070</td><td>-0.019359308</td><td> 0.027627295</td><td> 0.001457549</td><td> 0.018007460</td><td> 0.016193606</td><td>-0.004998723</td></tr>\n",
       "</tbody>\n",
       "</table>\n"
      ],
      "text/latex": [
       "A matrix: 6 × 24 of type dbl\n",
       "\\begin{tabular}{r|lllllllllllllllllllll}\n",
       "  & Age & DailyRate & DistanceFromHome & Education & EmployeeNumber & EnvironmentSatisfaction & HourlyRate & JobInvolvement & JobLevel & JobSatisfaction & ⋯ & PerformanceRating & RelationshipSatisfaction & StockOptionLevel & TotalWorkingYears & TrainingTimesLastYear & WorkLifeBalance & YearsAtCompany & YearsInCurrentRole & YearsSinceLastPromotion & YearsWithCurrManager\\\\\n",
       "\\hline\n",
       "\tAge &  1.00000000 &  0.010660943 & -0.001686120 &  0.20803373 & -0.01014547 &  0.01014643 &  0.02428654 &  0.029819959 &  0.509604228 & -0.004891877 & ⋯ &  0.0019038955 &  0.053534720 & 0.037509712 &  0.680380536 & -0.019620819 & -0.021490028 &  0.311308770 &  0.212901056 &  0.216513368 &  0.202088602\\\\\n",
       "\tDailyRate &  0.01066094 &  1.000000000 & -0.004985337 & -0.01680643 & -0.05099043 &  0.01835485 &  0.02338142 &  0.046134874 &  0.002966335 &  0.030571008 & ⋯ &  0.0004732963 &  0.007846031 & 0.042142796 &  0.014514739 &  0.002452543 & -0.037848051 & -0.034054768 &  0.009932015 & -0.033228985 & -0.026363178\\\\\n",
       "\tDistanceFromHome & -0.00168612 & -0.004985337 &  1.000000000 &  0.02104183 &  0.03291641 & -0.01607533 &  0.03113059 &  0.008783280 &  0.005302731 & -0.003668839 & ⋯ &  0.0271096185 &  0.006557475 & 0.044871999 &  0.004628426 & -0.036942234 & -0.026556004 &  0.009507720 &  0.018844999 &  0.010028836 &  0.014406048\\\\\n",
       "\tEducation &  0.20803373 & -0.016806433 &  0.021041826 &  1.00000000 &  0.04207009 & -0.02712831 &  0.01677483 &  0.042437634 &  0.101588886 & -0.011296117 & ⋯ & -0.0245387912 & -0.009118377 & 0.018422220 &  0.148279697 & -0.025100241 &  0.009819189 &  0.069113696 &  0.060235554 &  0.054254334 &  0.069065378\\\\\n",
       "\tEmployeeNumber & -0.01014547 & -0.050990434 &  0.032916407 &  0.04207009 &  1.00000000 &  0.01762080 &  0.03517921 & -0.006887923 & -0.018519194 & -0.046246735 & ⋯ & -0.0203588251 & -0.069861411 & 0.062226693 & -0.014365198 &  0.023603170 &  0.010308641 & -0.011240464 & -0.008416312 & -0.009019064 & -0.009196645\\\\\n",
       "\tEnvironmentSatisfaction &  0.01014643 &  0.018354854 & -0.016075327 & -0.02712831 &  0.01762080 &  1.00000000 & -0.04985696 & -0.008277598 &  0.001211699 & -0.006784353 & ⋯ & -0.0295479523 &  0.007665384 & 0.003432158 & -0.002693070 & -0.019359308 &  0.027627295 &  0.001457549 &  0.018007460 &  0.016193606 & -0.004998723\\\\\n",
       "\\end{tabular}\n"
      ],
      "text/markdown": [
       "\n",
       "A matrix: 6 × 24 of type dbl\n",
       "\n",
       "| <!--/--> | Age | DailyRate | DistanceFromHome | Education | EmployeeNumber | EnvironmentSatisfaction | HourlyRate | JobInvolvement | JobLevel | JobSatisfaction | ⋯ | PerformanceRating | RelationshipSatisfaction | StockOptionLevel | TotalWorkingYears | TrainingTimesLastYear | WorkLifeBalance | YearsAtCompany | YearsInCurrentRole | YearsSinceLastPromotion | YearsWithCurrManager |\n",
       "|---|---|---|---|---|---|---|---|---|---|---|---|---|---|---|---|---|---|---|---|---|---|\n",
       "| Age |  1.00000000 |  0.010660943 | -0.001686120 |  0.20803373 | -0.01014547 |  0.01014643 |  0.02428654 |  0.029819959 |  0.509604228 | -0.004891877 | ⋯ |  0.0019038955 |  0.053534720 | 0.037509712 |  0.680380536 | -0.019620819 | -0.021490028 |  0.311308770 |  0.212901056 |  0.216513368 |  0.202088602 |\n",
       "| DailyRate |  0.01066094 |  1.000000000 | -0.004985337 | -0.01680643 | -0.05099043 |  0.01835485 |  0.02338142 |  0.046134874 |  0.002966335 |  0.030571008 | ⋯ |  0.0004732963 |  0.007846031 | 0.042142796 |  0.014514739 |  0.002452543 | -0.037848051 | -0.034054768 |  0.009932015 | -0.033228985 | -0.026363178 |\n",
       "| DistanceFromHome | -0.00168612 | -0.004985337 |  1.000000000 |  0.02104183 |  0.03291641 | -0.01607533 |  0.03113059 |  0.008783280 |  0.005302731 | -0.003668839 | ⋯ |  0.0271096185 |  0.006557475 | 0.044871999 |  0.004628426 | -0.036942234 | -0.026556004 |  0.009507720 |  0.018844999 |  0.010028836 |  0.014406048 |\n",
       "| Education |  0.20803373 | -0.016806433 |  0.021041826 |  1.00000000 |  0.04207009 | -0.02712831 |  0.01677483 |  0.042437634 |  0.101588886 | -0.011296117 | ⋯ | -0.0245387912 | -0.009118377 | 0.018422220 |  0.148279697 | -0.025100241 |  0.009819189 |  0.069113696 |  0.060235554 |  0.054254334 |  0.069065378 |\n",
       "| EmployeeNumber | -0.01014547 | -0.050990434 |  0.032916407 |  0.04207009 |  1.00000000 |  0.01762080 |  0.03517921 | -0.006887923 | -0.018519194 | -0.046246735 | ⋯ | -0.0203588251 | -0.069861411 | 0.062226693 | -0.014365198 |  0.023603170 |  0.010308641 | -0.011240464 | -0.008416312 | -0.009019064 | -0.009196645 |\n",
       "| EnvironmentSatisfaction |  0.01014643 |  0.018354854 | -0.016075327 | -0.02712831 |  0.01762080 |  1.00000000 | -0.04985696 | -0.008277598 |  0.001211699 | -0.006784353 | ⋯ | -0.0295479523 |  0.007665384 | 0.003432158 | -0.002693070 | -0.019359308 |  0.027627295 |  0.001457549 |  0.018007460 |  0.016193606 | -0.004998723 |\n",
       "\n"
      ],
      "text/plain": [
       "                        Age         DailyRate    DistanceFromHome Education  \n",
       "Age                      1.00000000  0.010660943 -0.001686120      0.20803373\n",
       "DailyRate                0.01066094  1.000000000 -0.004985337     -0.01680643\n",
       "DistanceFromHome        -0.00168612 -0.004985337  1.000000000      0.02104183\n",
       "Education                0.20803373 -0.016806433  0.021041826      1.00000000\n",
       "EmployeeNumber          -0.01014547 -0.050990434  0.032916407      0.04207009\n",
       "EnvironmentSatisfaction  0.01014643  0.018354854 -0.016075327     -0.02712831\n",
       "                        EmployeeNumber EnvironmentSatisfaction HourlyRate \n",
       "Age                     -0.01014547     0.01014643              0.02428654\n",
       "DailyRate               -0.05099043     0.01835485              0.02338142\n",
       "DistanceFromHome         0.03291641    -0.01607533              0.03113059\n",
       "Education                0.04207009    -0.02712831              0.01677483\n",
       "EmployeeNumber           1.00000000     0.01762080              0.03517921\n",
       "EnvironmentSatisfaction  0.01762080     1.00000000             -0.04985696\n",
       "                        JobInvolvement JobLevel     JobSatisfaction ⋯\n",
       "Age                      0.029819959    0.509604228 -0.004891877    ⋯\n",
       "DailyRate                0.046134874    0.002966335  0.030571008    ⋯\n",
       "DistanceFromHome         0.008783280    0.005302731 -0.003668839    ⋯\n",
       "Education                0.042437634    0.101588886 -0.011296117    ⋯\n",
       "EmployeeNumber          -0.006887923   -0.018519194 -0.046246735    ⋯\n",
       "EnvironmentSatisfaction -0.008277598    0.001211699 -0.006784353    ⋯\n",
       "                        PerformanceRating RelationshipSatisfaction\n",
       "Age                      0.0019038955      0.053534720            \n",
       "DailyRate                0.0004732963      0.007846031            \n",
       "DistanceFromHome         0.0271096185      0.006557475            \n",
       "Education               -0.0245387912     -0.009118377            \n",
       "EmployeeNumber          -0.0203588251     -0.069861411            \n",
       "EnvironmentSatisfaction -0.0295479523      0.007665384            \n",
       "                        StockOptionLevel TotalWorkingYears\n",
       "Age                     0.037509712       0.680380536     \n",
       "DailyRate               0.042142796       0.014514739     \n",
       "DistanceFromHome        0.044871999       0.004628426     \n",
       "Education               0.018422220       0.148279697     \n",
       "EmployeeNumber          0.062226693      -0.014365198     \n",
       "EnvironmentSatisfaction 0.003432158      -0.002693070     \n",
       "                        TrainingTimesLastYear WorkLifeBalance YearsAtCompany\n",
       "Age                     -0.019620819          -0.021490028     0.311308770  \n",
       "DailyRate                0.002452543          -0.037848051    -0.034054768  \n",
       "DistanceFromHome        -0.036942234          -0.026556004     0.009507720  \n",
       "Education               -0.025100241           0.009819189     0.069113696  \n",
       "EmployeeNumber           0.023603170           0.010308641    -0.011240464  \n",
       "EnvironmentSatisfaction -0.019359308           0.027627295     0.001457549  \n",
       "                        YearsInCurrentRole YearsSinceLastPromotion\n",
       "Age                      0.212901056        0.216513368           \n",
       "DailyRate                0.009932015       -0.033228985           \n",
       "DistanceFromHome         0.018844999        0.010028836           \n",
       "Education                0.060235554        0.054254334           \n",
       "EmployeeNumber          -0.008416312       -0.009019064           \n",
       "EnvironmentSatisfaction  0.018007460        0.016193606           \n",
       "                        YearsWithCurrManager\n",
       "Age                      0.202088602        \n",
       "DailyRate               -0.026363178        \n",
       "DistanceFromHome         0.014406048        \n",
       "Education                0.069065378        \n",
       "EmployeeNumber          -0.009196645        \n",
       "EnvironmentSatisfaction -0.004998723        "
      ]
     },
     "metadata": {},
     "output_type": "display_data"
    }
   ],
   "source": [
    "corrMatrix <- cor(numericData)  # generates correlation matrix from numeric data.\n",
    "head(corrMatrix)                "
   ]
  },
  {
   "cell_type": "markdown",
   "metadata": {},
   "source": [
    "We will now implement the findCorrelation function from the R package 'caret'. We will use this method to parse the correlation matrix, returning the index of any variables with a correlation over some value. In this case, we will use the standard 0.75 as the cutoff."
   ]
  },
  {
   "cell_type": "code",
   "execution_count": 10,
   "metadata": {},
   "outputs": [
    {
     "data": {
      "text/html": [
       "<style>\n",
       ".list-inline {list-style: none; margin:0; padding: 0}\n",
       ".list-inline>li {display: inline-block}\n",
       ".list-inline>li:not(:last-child)::after {content: \"\\00b7\"; padding: 0 .5ex}\n",
       "</style>\n",
       "<ol class=list-inline><li>'TotalWorkingYears'</li><li>'YearsAtCompany'</li><li>'JobLevel'</li><li>'PercentSalaryHike'</li></ol>\n"
      ],
      "text/latex": [
       "\\begin{enumerate*}\n",
       "\\item 'TotalWorkingYears'\n",
       "\\item 'YearsAtCompany'\n",
       "\\item 'JobLevel'\n",
       "\\item 'PercentSalaryHike'\n",
       "\\end{enumerate*}\n"
      ],
      "text/markdown": [
       "1. 'TotalWorkingYears'\n",
       "2. 'YearsAtCompany'\n",
       "3. 'JobLevel'\n",
       "4. 'PercentSalaryHike'\n",
       "\n",
       "\n"
      ],
      "text/plain": [
       "[1] \"TotalWorkingYears\" \"YearsAtCompany\"    \"JobLevel\"         \n",
       "[4] \"PercentSalaryHike\""
      ]
     },
     "metadata": {},
     "output_type": "display_data"
    }
   ],
   "source": [
    "highCorrIndex <- findCorrelation(corrMatrix, cutoff=0.75) # returns the indexes of highly-correlated columns\n",
    "corrColNames <- colnames(corrMatrix)[highCorrIndex]       # retrieves the column names from the indecies\n",
    "corrColNames                                              # displays the column names to be removed"
   ]
  },
  {
   "cell_type": "markdown",
   "metadata": {},
   "source": [
    "Now that we have the high correlation columns we gotta get them outta here!"
   ]
  },
  {
   "cell_type": "code",
   "execution_count": 11,
   "metadata": {},
   "outputs": [
    {
     "data": {
      "text/html": [
       "<table>\n",
       "<caption>A data.frame: 6 × 20</caption>\n",
       "<thead>\n",
       "\t<tr><th></th><th scope=col>Age</th><th scope=col>DailyRate</th><th scope=col>DistanceFromHome</th><th scope=col>Education</th><th scope=col>EmployeeNumber</th><th scope=col>EnvironmentSatisfaction</th><th scope=col>HourlyRate</th><th scope=col>JobInvolvement</th><th scope=col>JobSatisfaction</th><th scope=col>MonthlyIncome</th><th scope=col>MonthlyRate</th><th scope=col>NumCompaniesWorked</th><th scope=col>PerformanceRating</th><th scope=col>RelationshipSatisfaction</th><th scope=col>StockOptionLevel</th><th scope=col>TrainingTimesLastYear</th><th scope=col>WorkLifeBalance</th><th scope=col>YearsInCurrentRole</th><th scope=col>YearsSinceLastPromotion</th><th scope=col>YearsWithCurrManager</th></tr>\n",
       "\t<tr><th></th><th scope=col>&lt;int&gt;</th><th scope=col>&lt;int&gt;</th><th scope=col>&lt;int&gt;</th><th scope=col>&lt;int&gt;</th><th scope=col>&lt;int&gt;</th><th scope=col>&lt;int&gt;</th><th scope=col>&lt;int&gt;</th><th scope=col>&lt;int&gt;</th><th scope=col>&lt;int&gt;</th><th scope=col>&lt;int&gt;</th><th scope=col>&lt;int&gt;</th><th scope=col>&lt;int&gt;</th><th scope=col>&lt;int&gt;</th><th scope=col>&lt;int&gt;</th><th scope=col>&lt;int&gt;</th><th scope=col>&lt;int&gt;</th><th scope=col>&lt;int&gt;</th><th scope=col>&lt;int&gt;</th><th scope=col>&lt;int&gt;</th><th scope=col>&lt;int&gt;</th></tr>\n",
       "</thead>\n",
       "<tbody>\n",
       "\t<tr><th scope=row>1</th><td>41</td><td>1102</td><td>1</td><td>2</td><td>1</td><td>2</td><td>94</td><td>3</td><td>4</td><td>5993</td><td>19479</td><td>8</td><td>3</td><td>1</td><td>0</td><td>0</td><td>1</td><td>4</td><td>0</td><td>5</td></tr>\n",
       "\t<tr><th scope=row>2</th><td>49</td><td> 279</td><td>8</td><td>1</td><td>2</td><td>3</td><td>61</td><td>2</td><td>2</td><td>5130</td><td>24907</td><td>1</td><td>4</td><td>4</td><td>1</td><td>3</td><td>3</td><td>7</td><td>1</td><td>7</td></tr>\n",
       "\t<tr><th scope=row>3</th><td>37</td><td>1373</td><td>2</td><td>2</td><td>4</td><td>4</td><td>92</td><td>2</td><td>3</td><td>2090</td><td> 2396</td><td>6</td><td>3</td><td>2</td><td>0</td><td>3</td><td>3</td><td>0</td><td>0</td><td>0</td></tr>\n",
       "\t<tr><th scope=row>4</th><td>33</td><td>1392</td><td>3</td><td>4</td><td>5</td><td>4</td><td>56</td><td>3</td><td>3</td><td>2909</td><td>23159</td><td>1</td><td>3</td><td>3</td><td>0</td><td>3</td><td>3</td><td>7</td><td>3</td><td>0</td></tr>\n",
       "\t<tr><th scope=row>5</th><td>27</td><td> 591</td><td>2</td><td>1</td><td>7</td><td>1</td><td>40</td><td>3</td><td>2</td><td>3468</td><td>16632</td><td>9</td><td>3</td><td>4</td><td>1</td><td>3</td><td>3</td><td>2</td><td>2</td><td>2</td></tr>\n",
       "\t<tr><th scope=row>6</th><td>32</td><td>1005</td><td>2</td><td>2</td><td>8</td><td>4</td><td>79</td><td>3</td><td>4</td><td>3068</td><td>11864</td><td>0</td><td>3</td><td>3</td><td>0</td><td>2</td><td>2</td><td>7</td><td>3</td><td>6</td></tr>\n",
       "</tbody>\n",
       "</table>\n"
      ],
      "text/latex": [
       "A data.frame: 6 × 20\n",
       "\\begin{tabular}{r|llllllllllllllllllll}\n",
       "  & Age & DailyRate & DistanceFromHome & Education & EmployeeNumber & EnvironmentSatisfaction & HourlyRate & JobInvolvement & JobSatisfaction & MonthlyIncome & MonthlyRate & NumCompaniesWorked & PerformanceRating & RelationshipSatisfaction & StockOptionLevel & TrainingTimesLastYear & WorkLifeBalance & YearsInCurrentRole & YearsSinceLastPromotion & YearsWithCurrManager\\\\\n",
       "  & <int> & <int> & <int> & <int> & <int> & <int> & <int> & <int> & <int> & <int> & <int> & <int> & <int> & <int> & <int> & <int> & <int> & <int> & <int> & <int>\\\\\n",
       "\\hline\n",
       "\t1 & 41 & 1102 & 1 & 2 & 1 & 2 & 94 & 3 & 4 & 5993 & 19479 & 8 & 3 & 1 & 0 & 0 & 1 & 4 & 0 & 5\\\\\n",
       "\t2 & 49 &  279 & 8 & 1 & 2 & 3 & 61 & 2 & 2 & 5130 & 24907 & 1 & 4 & 4 & 1 & 3 & 3 & 7 & 1 & 7\\\\\n",
       "\t3 & 37 & 1373 & 2 & 2 & 4 & 4 & 92 & 2 & 3 & 2090 &  2396 & 6 & 3 & 2 & 0 & 3 & 3 & 0 & 0 & 0\\\\\n",
       "\t4 & 33 & 1392 & 3 & 4 & 5 & 4 & 56 & 3 & 3 & 2909 & 23159 & 1 & 3 & 3 & 0 & 3 & 3 & 7 & 3 & 0\\\\\n",
       "\t5 & 27 &  591 & 2 & 1 & 7 & 1 & 40 & 3 & 2 & 3468 & 16632 & 9 & 3 & 4 & 1 & 3 & 3 & 2 & 2 & 2\\\\\n",
       "\t6 & 32 & 1005 & 2 & 2 & 8 & 4 & 79 & 3 & 4 & 3068 & 11864 & 0 & 3 & 3 & 0 & 2 & 2 & 7 & 3 & 6\\\\\n",
       "\\end{tabular}\n"
      ],
      "text/markdown": [
       "\n",
       "A data.frame: 6 × 20\n",
       "\n",
       "| <!--/--> | Age &lt;int&gt; | DailyRate &lt;int&gt; | DistanceFromHome &lt;int&gt; | Education &lt;int&gt; | EmployeeNumber &lt;int&gt; | EnvironmentSatisfaction &lt;int&gt; | HourlyRate &lt;int&gt; | JobInvolvement &lt;int&gt; | JobSatisfaction &lt;int&gt; | MonthlyIncome &lt;int&gt; | MonthlyRate &lt;int&gt; | NumCompaniesWorked &lt;int&gt; | PerformanceRating &lt;int&gt; | RelationshipSatisfaction &lt;int&gt; | StockOptionLevel &lt;int&gt; | TrainingTimesLastYear &lt;int&gt; | WorkLifeBalance &lt;int&gt; | YearsInCurrentRole &lt;int&gt; | YearsSinceLastPromotion &lt;int&gt; | YearsWithCurrManager &lt;int&gt; |\n",
       "|---|---|---|---|---|---|---|---|---|---|---|---|---|---|---|---|---|---|---|---|---|\n",
       "| 1 | 41 | 1102 | 1 | 2 | 1 | 2 | 94 | 3 | 4 | 5993 | 19479 | 8 | 3 | 1 | 0 | 0 | 1 | 4 | 0 | 5 |\n",
       "| 2 | 49 |  279 | 8 | 1 | 2 | 3 | 61 | 2 | 2 | 5130 | 24907 | 1 | 4 | 4 | 1 | 3 | 3 | 7 | 1 | 7 |\n",
       "| 3 | 37 | 1373 | 2 | 2 | 4 | 4 | 92 | 2 | 3 | 2090 |  2396 | 6 | 3 | 2 | 0 | 3 | 3 | 0 | 0 | 0 |\n",
       "| 4 | 33 | 1392 | 3 | 4 | 5 | 4 | 56 | 3 | 3 | 2909 | 23159 | 1 | 3 | 3 | 0 | 3 | 3 | 7 | 3 | 0 |\n",
       "| 5 | 27 |  591 | 2 | 1 | 7 | 1 | 40 | 3 | 2 | 3468 | 16632 | 9 | 3 | 4 | 1 | 3 | 3 | 2 | 2 | 2 |\n",
       "| 6 | 32 | 1005 | 2 | 2 | 8 | 4 | 79 | 3 | 4 | 3068 | 11864 | 0 | 3 | 3 | 0 | 2 | 2 | 7 | 3 | 6 |\n",
       "\n"
      ],
      "text/plain": [
       "  Age DailyRate DistanceFromHome Education EmployeeNumber\n",
       "1 41  1102      1                2         1             \n",
       "2 49   279      8                1         2             \n",
       "3 37  1373      2                2         4             \n",
       "4 33  1392      3                4         5             \n",
       "5 27   591      2                1         7             \n",
       "6 32  1005      2                2         8             \n",
       "  EnvironmentSatisfaction HourlyRate JobInvolvement JobSatisfaction\n",
       "1 2                       94         3              4              \n",
       "2 3                       61         2              2              \n",
       "3 4                       92         2              3              \n",
       "4 4                       56         3              3              \n",
       "5 1                       40         3              2              \n",
       "6 4                       79         3              4              \n",
       "  MonthlyIncome MonthlyRate NumCompaniesWorked PerformanceRating\n",
       "1 5993          19479       8                  3                \n",
       "2 5130          24907       1                  4                \n",
       "3 2090           2396       6                  3                \n",
       "4 2909          23159       1                  3                \n",
       "5 3468          16632       9                  3                \n",
       "6 3068          11864       0                  3                \n",
       "  RelationshipSatisfaction StockOptionLevel TrainingTimesLastYear\n",
       "1 1                        0                0                    \n",
       "2 4                        1                3                    \n",
       "3 2                        0                3                    \n",
       "4 3                        0                3                    \n",
       "5 4                        1                3                    \n",
       "6 3                        0                2                    \n",
       "  WorkLifeBalance YearsInCurrentRole YearsSinceLastPromotion\n",
       "1 1               4                  0                      \n",
       "2 3               7                  1                      \n",
       "3 3               0                  0                      \n",
       "4 3               7                  3                      \n",
       "5 3               2                  2                      \n",
       "6 2               7                  3                      \n",
       "  YearsWithCurrManager\n",
       "1 5                   \n",
       "2 7                   \n",
       "3 0                   \n",
       "4 0                   \n",
       "5 2                   \n",
       "6 6                   "
      ]
     },
     "metadata": {},
     "output_type": "display_data"
    }
   ],
   "source": [
    "numericData <- numericData[!names(numericData) %in% corrColNames]  # removes columns listed in currColNames\n",
    "head(numericData)"
   ]
  },
  {
   "cell_type": "markdown",
   "metadata": {},
   "source": [
    "Now that we have the numeric columns figured out, we will re-merge the numeric data with the categorical data. However before merging the two, we will have to save and extract the attrition column to be used for training and \n",
    "testing the model. We will alo have to convert all of the categorical variables into dummies. Dummies are created when a categorical column is converted into multiple integer columns of binary values. For example, a column of Gender with category values of Male and Female, would now become two columns in the dataframe, one of 'GenderMale' and 'GenderFemale', each with either a 1 or 0 to indicate whether the row contains that gender. This is done to allow the model to read in integers for regression and make inferences on categorical data.\n",
    "\n",
    "We will use the fastDummies library to create the dummies."
   ]
  },
  {
   "cell_type": "code",
   "execution_count": 12,
   "metadata": {
    "scrolled": false
   },
   "outputs": [
    {
     "data": {
      "text/html": [
       "<table>\n",
       "<caption>A data.frame: 6 × 59</caption>\n",
       "<thead>\n",
       "\t<tr><th></th><th scope=col>Age</th><th scope=col>BusinessTravel</th><th scope=col>DailyRate</th><th scope=col>Department</th><th scope=col>DistanceFromHome</th><th scope=col>Education</th><th scope=col>EducationField</th><th scope=col>EmployeeNumber</th><th scope=col>EnvironmentSatisfaction</th><th scope=col>Gender</th><th scope=col>⋯</th><th scope=col>JobRole_Manufacturing Director</th><th scope=col>JobRole_Research Director</th><th scope=col>JobRole_Research Scientist</th><th scope=col>JobRole_Sales Executive</th><th scope=col>JobRole_Sales Representative</th><th scope=col>MaritalStatus_Divorced</th><th scope=col>MaritalStatus_Married</th><th scope=col>MaritalStatus_Single</th><th scope=col>OverTime_No</th><th scope=col>OverTime_Yes</th></tr>\n",
       "\t<tr><th></th><th scope=col>&lt;int&gt;</th><th scope=col>&lt;chr&gt;</th><th scope=col>&lt;int&gt;</th><th scope=col>&lt;chr&gt;</th><th scope=col>&lt;int&gt;</th><th scope=col>&lt;int&gt;</th><th scope=col>&lt;chr&gt;</th><th scope=col>&lt;int&gt;</th><th scope=col>&lt;int&gt;</th><th scope=col>&lt;chr&gt;</th><th scope=col>⋯</th><th scope=col>&lt;int&gt;</th><th scope=col>&lt;int&gt;</th><th scope=col>&lt;int&gt;</th><th scope=col>&lt;int&gt;</th><th scope=col>&lt;int&gt;</th><th scope=col>&lt;int&gt;</th><th scope=col>&lt;int&gt;</th><th scope=col>&lt;int&gt;</th><th scope=col>&lt;int&gt;</th><th scope=col>&lt;int&gt;</th></tr>\n",
       "</thead>\n",
       "<tbody>\n",
       "\t<tr><th scope=row>1</th><td>41</td><td>Travel_Rarely    </td><td>1102</td><td>Sales                 </td><td>1</td><td>2</td><td>Life Sciences</td><td>1</td><td>2</td><td>Female</td><td>⋯</td><td>0</td><td>0</td><td>0</td><td>1</td><td>0</td><td>0</td><td>0</td><td>1</td><td>0</td><td>1</td></tr>\n",
       "\t<tr><th scope=row>2</th><td>49</td><td>Travel_Frequently</td><td> 279</td><td>Research &amp; Development</td><td>8</td><td>1</td><td>Life Sciences</td><td>2</td><td>3</td><td><span style=white-space:pre-wrap>Male  </span></td><td>⋯</td><td>0</td><td>0</td><td>1</td><td>0</td><td>0</td><td>0</td><td>1</td><td>0</td><td>1</td><td>0</td></tr>\n",
       "\t<tr><th scope=row>3</th><td>37</td><td><span style=white-space:pre-wrap>Travel_Rarely    </span></td><td>1373</td><td>Research &amp; Development</td><td>2</td><td>2</td><td><span style=white-space:pre-wrap>Other        </span></td><td>4</td><td>4</td><td><span style=white-space:pre-wrap>Male  </span></td><td>⋯</td><td>0</td><td>0</td><td>0</td><td>0</td><td>0</td><td>0</td><td>0</td><td>1</td><td>0</td><td>1</td></tr>\n",
       "\t<tr><th scope=row>4</th><td>33</td><td>Travel_Frequently</td><td>1392</td><td>Research &amp; Development</td><td>3</td><td>4</td><td>Life Sciences</td><td>5</td><td>4</td><td>Female</td><td>⋯</td><td>0</td><td>0</td><td>1</td><td>0</td><td>0</td><td>0</td><td>1</td><td>0</td><td>0</td><td>1</td></tr>\n",
       "\t<tr><th scope=row>5</th><td>27</td><td><span style=white-space:pre-wrap>Travel_Rarely    </span></td><td> 591</td><td>Research &amp; Development</td><td>2</td><td>1</td><td><span style=white-space:pre-wrap>Medical      </span></td><td>7</td><td>1</td><td><span style=white-space:pre-wrap>Male  </span></td><td>⋯</td><td>0</td><td>0</td><td>0</td><td>0</td><td>0</td><td>0</td><td>1</td><td>0</td><td>1</td><td>0</td></tr>\n",
       "\t<tr><th scope=row>6</th><td>32</td><td>Travel_Frequently</td><td>1005</td><td>Research &amp; Development</td><td>2</td><td>2</td><td>Life Sciences</td><td>8</td><td>4</td><td><span style=white-space:pre-wrap>Male  </span></td><td>⋯</td><td>0</td><td>0</td><td>0</td><td>0</td><td>0</td><td>0</td><td>0</td><td>1</td><td>1</td><td>0</td></tr>\n",
       "</tbody>\n",
       "</table>\n"
      ],
      "text/latex": [
       "A data.frame: 6 × 59\n",
       "\\begin{tabular}{r|lllllllllllllllllllll}\n",
       "  & Age & BusinessTravel & DailyRate & Department & DistanceFromHome & Education & EducationField & EmployeeNumber & EnvironmentSatisfaction & Gender & ⋯ & JobRole\\_Manufacturing Director & JobRole\\_Research Director & JobRole\\_Research Scientist & JobRole\\_Sales Executive & JobRole\\_Sales Representative & MaritalStatus\\_Divorced & MaritalStatus\\_Married & MaritalStatus\\_Single & OverTime\\_No & OverTime\\_Yes\\\\\n",
       "  & <int> & <chr> & <int> & <chr> & <int> & <int> & <chr> & <int> & <int> & <chr> & ⋯ & <int> & <int> & <int> & <int> & <int> & <int> & <int> & <int> & <int> & <int>\\\\\n",
       "\\hline\n",
       "\t1 & 41 & Travel\\_Rarely     & 1102 & Sales                  & 1 & 2 & Life Sciences & 1 & 2 & Female & ⋯ & 0 & 0 & 0 & 1 & 0 & 0 & 0 & 1 & 0 & 1\\\\\n",
       "\t2 & 49 & Travel\\_Frequently &  279 & Research \\& Development & 8 & 1 & Life Sciences & 2 & 3 & Male   & ⋯ & 0 & 0 & 1 & 0 & 0 & 0 & 1 & 0 & 1 & 0\\\\\n",
       "\t3 & 37 & Travel\\_Rarely     & 1373 & Research \\& Development & 2 & 2 & Other         & 4 & 4 & Male   & ⋯ & 0 & 0 & 0 & 0 & 0 & 0 & 0 & 1 & 0 & 1\\\\\n",
       "\t4 & 33 & Travel\\_Frequently & 1392 & Research \\& Development & 3 & 4 & Life Sciences & 5 & 4 & Female & ⋯ & 0 & 0 & 1 & 0 & 0 & 0 & 1 & 0 & 0 & 1\\\\\n",
       "\t5 & 27 & Travel\\_Rarely     &  591 & Research \\& Development & 2 & 1 & Medical       & 7 & 1 & Male   & ⋯ & 0 & 0 & 0 & 0 & 0 & 0 & 1 & 0 & 1 & 0\\\\\n",
       "\t6 & 32 & Travel\\_Frequently & 1005 & Research \\& Development & 2 & 2 & Life Sciences & 8 & 4 & Male   & ⋯ & 0 & 0 & 0 & 0 & 0 & 0 & 0 & 1 & 1 & 0\\\\\n",
       "\\end{tabular}\n"
      ],
      "text/markdown": [
       "\n",
       "A data.frame: 6 × 59\n",
       "\n",
       "| <!--/--> | Age &lt;int&gt; | BusinessTravel &lt;chr&gt; | DailyRate &lt;int&gt; | Department &lt;chr&gt; | DistanceFromHome &lt;int&gt; | Education &lt;int&gt; | EducationField &lt;chr&gt; | EmployeeNumber &lt;int&gt; | EnvironmentSatisfaction &lt;int&gt; | Gender &lt;chr&gt; | ⋯ ⋯ | JobRole_Manufacturing Director &lt;int&gt; | JobRole_Research Director &lt;int&gt; | JobRole_Research Scientist &lt;int&gt; | JobRole_Sales Executive &lt;int&gt; | JobRole_Sales Representative &lt;int&gt; | MaritalStatus_Divorced &lt;int&gt; | MaritalStatus_Married &lt;int&gt; | MaritalStatus_Single &lt;int&gt; | OverTime_No &lt;int&gt; | OverTime_Yes &lt;int&gt; |\n",
       "|---|---|---|---|---|---|---|---|---|---|---|---|---|---|---|---|---|---|---|---|---|---|\n",
       "| 1 | 41 | Travel_Rarely     | 1102 | Sales                  | 1 | 2 | Life Sciences | 1 | 2 | Female | ⋯ | 0 | 0 | 0 | 1 | 0 | 0 | 0 | 1 | 0 | 1 |\n",
       "| 2 | 49 | Travel_Frequently |  279 | Research &amp; Development | 8 | 1 | Life Sciences | 2 | 3 | Male   | ⋯ | 0 | 0 | 1 | 0 | 0 | 0 | 1 | 0 | 1 | 0 |\n",
       "| 3 | 37 | Travel_Rarely     | 1373 | Research &amp; Development | 2 | 2 | Other         | 4 | 4 | Male   | ⋯ | 0 | 0 | 0 | 0 | 0 | 0 | 0 | 1 | 0 | 1 |\n",
       "| 4 | 33 | Travel_Frequently | 1392 | Research &amp; Development | 3 | 4 | Life Sciences | 5 | 4 | Female | ⋯ | 0 | 0 | 1 | 0 | 0 | 0 | 1 | 0 | 0 | 1 |\n",
       "| 5 | 27 | Travel_Rarely     |  591 | Research &amp; Development | 2 | 1 | Medical       | 7 | 1 | Male   | ⋯ | 0 | 0 | 0 | 0 | 0 | 0 | 1 | 0 | 1 | 0 |\n",
       "| 6 | 32 | Travel_Frequently | 1005 | Research &amp; Development | 2 | 2 | Life Sciences | 8 | 4 | Male   | ⋯ | 0 | 0 | 0 | 0 | 0 | 0 | 0 | 1 | 1 | 0 |\n",
       "\n"
      ],
      "text/plain": [
       "  Age BusinessTravel    DailyRate Department             DistanceFromHome\n",
       "1 41  Travel_Rarely     1102      Sales                  1               \n",
       "2 49  Travel_Frequently  279      Research & Development 8               \n",
       "3 37  Travel_Rarely     1373      Research & Development 2               \n",
       "4 33  Travel_Frequently 1392      Research & Development 3               \n",
       "5 27  Travel_Rarely      591      Research & Development 2               \n",
       "6 32  Travel_Frequently 1005      Research & Development 2               \n",
       "  Education EducationField EmployeeNumber EnvironmentSatisfaction Gender ⋯\n",
       "1 2         Life Sciences  1              2                       Female ⋯\n",
       "2 1         Life Sciences  2              3                       Male   ⋯\n",
       "3 2         Other          4              4                       Male   ⋯\n",
       "4 4         Life Sciences  5              4                       Female ⋯\n",
       "5 1         Medical        7              1                       Male   ⋯\n",
       "6 2         Life Sciences  8              4                       Male   ⋯\n",
       "  JobRole_Manufacturing Director JobRole_Research Director\n",
       "1 0                              0                        \n",
       "2 0                              0                        \n",
       "3 0                              0                        \n",
       "4 0                              0                        \n",
       "5 0                              0                        \n",
       "6 0                              0                        \n",
       "  JobRole_Research Scientist JobRole_Sales Executive\n",
       "1 0                          1                      \n",
       "2 1                          0                      \n",
       "3 0                          0                      \n",
       "4 1                          0                      \n",
       "5 0                          0                      \n",
       "6 0                          0                      \n",
       "  JobRole_Sales Representative MaritalStatus_Divorced MaritalStatus_Married\n",
       "1 0                            0                      0                    \n",
       "2 0                            0                      1                    \n",
       "3 0                            0                      0                    \n",
       "4 0                            0                      1                    \n",
       "5 0                            0                      1                    \n",
       "6 0                            0                      0                    \n",
       "  MaritalStatus_Single OverTime_No OverTime_Yes\n",
       "1 1                    0           1           \n",
       "2 0                    1           0           \n",
       "3 1                    0           1           \n",
       "4 0                    0           1           \n",
       "5 0                    1           0           \n",
       "6 1                    1           0           "
      ]
     },
     "metadata": {},
     "output_type": "display_data"
    }
   ],
   "source": [
    "library(fastDummies)\n",
    "attrition <- dataframe['Attrition']                         # saves values of attrition \n",
    "dataframe <- dataframe[!names(dataframe) %in% 'Attrition']  # removes attrition, as we dont want attrition dummies\n",
    "dataframe <- dummy_columns(dataframe)                       # generates and saves dummies\n",
    "head(dataframe)\n"
   ]
  },
  {
   "cell_type": "code",
   "execution_count": 13,
   "metadata": {},
   "outputs": [
    {
     "name": "stderr",
     "output_type": "stream",
     "text": [
      "Joining by: Age, DailyRate, DistanceFromHome, Education, EmployeeNumber, EnvironmentSatisfaction, HourlyRate, JobInvolvement, JobSatisfaction, MonthlyIncome, MonthlyRate, NumCompaniesWorked, PerformanceRating, RelationshipSatisfaction, StockOptionLevel, TrainingTimesLastYear, WorkLifeBalance, YearsInCurrentRole, YearsSinceLastPromotion, YearsWithCurrManager\n",
      "\n"
     ]
    }
   ],
   "source": [
    "# We will now do the 're-merge' mentioned earlier, we make sure to only select the numerical dummy values from the\n",
    "# dataframe, and merge those with the numerical data\n",
    "df <- join(numericData, dataframe[ , purrr::map_lgl(dataframe, is.numeric)])"
   ]
  },
  {
   "cell_type": "code",
   "execution_count": 14,
   "metadata": {},
   "outputs": [
    {
     "data": {
      "text/html": [
       "52"
      ],
      "text/latex": [
       "52"
      ],
      "text/markdown": [
       "52"
      ],
      "text/plain": [
       "[1] 52"
      ]
     },
     "metadata": {},
     "output_type": "display_data"
    },
    {
     "data": {
      "text/html": [
       "<table>\n",
       "<caption>A data.frame: 6 × 52</caption>\n",
       "<thead>\n",
       "\t<tr><th></th><th scope=col>Age</th><th scope=col>DailyRate</th><th scope=col>DistanceFromHome</th><th scope=col>Education</th><th scope=col>EmployeeNumber</th><th scope=col>EnvironmentSatisfaction</th><th scope=col>HourlyRate</th><th scope=col>JobInvolvement</th><th scope=col>JobSatisfaction</th><th scope=col>MonthlyIncome</th><th scope=col>⋯</th><th scope=col>JobRole_Manufacturing Director</th><th scope=col>JobRole_Research Director</th><th scope=col>JobRole_Research Scientist</th><th scope=col>JobRole_Sales Executive</th><th scope=col>JobRole_Sales Representative</th><th scope=col>MaritalStatus_Divorced</th><th scope=col>MaritalStatus_Married</th><th scope=col>MaritalStatus_Single</th><th scope=col>OverTime_No</th><th scope=col>OverTime_Yes</th></tr>\n",
       "\t<tr><th></th><th scope=col>&lt;int&gt;</th><th scope=col>&lt;int&gt;</th><th scope=col>&lt;int&gt;</th><th scope=col>&lt;int&gt;</th><th scope=col>&lt;int&gt;</th><th scope=col>&lt;int&gt;</th><th scope=col>&lt;int&gt;</th><th scope=col>&lt;int&gt;</th><th scope=col>&lt;int&gt;</th><th scope=col>&lt;int&gt;</th><th scope=col>⋯</th><th scope=col>&lt;int&gt;</th><th scope=col>&lt;int&gt;</th><th scope=col>&lt;int&gt;</th><th scope=col>&lt;int&gt;</th><th scope=col>&lt;int&gt;</th><th scope=col>&lt;int&gt;</th><th scope=col>&lt;int&gt;</th><th scope=col>&lt;int&gt;</th><th scope=col>&lt;int&gt;</th><th scope=col>&lt;int&gt;</th></tr>\n",
       "</thead>\n",
       "<tbody>\n",
       "\t<tr><th scope=row>1</th><td>41</td><td>1102</td><td>1</td><td>2</td><td>1</td><td>2</td><td>94</td><td>3</td><td>4</td><td>5993</td><td>⋯</td><td>0</td><td>0</td><td>0</td><td>1</td><td>0</td><td>0</td><td>0</td><td>1</td><td>0</td><td>1</td></tr>\n",
       "\t<tr><th scope=row>2</th><td>49</td><td> 279</td><td>8</td><td>1</td><td>2</td><td>3</td><td>61</td><td>2</td><td>2</td><td>5130</td><td>⋯</td><td>0</td><td>0</td><td>1</td><td>0</td><td>0</td><td>0</td><td>1</td><td>0</td><td>1</td><td>0</td></tr>\n",
       "\t<tr><th scope=row>3</th><td>37</td><td>1373</td><td>2</td><td>2</td><td>4</td><td>4</td><td>92</td><td>2</td><td>3</td><td>2090</td><td>⋯</td><td>0</td><td>0</td><td>0</td><td>0</td><td>0</td><td>0</td><td>0</td><td>1</td><td>0</td><td>1</td></tr>\n",
       "\t<tr><th scope=row>4</th><td>33</td><td>1392</td><td>3</td><td>4</td><td>5</td><td>4</td><td>56</td><td>3</td><td>3</td><td>2909</td><td>⋯</td><td>0</td><td>0</td><td>1</td><td>0</td><td>0</td><td>0</td><td>1</td><td>0</td><td>0</td><td>1</td></tr>\n",
       "\t<tr><th scope=row>5</th><td>27</td><td> 591</td><td>2</td><td>1</td><td>7</td><td>1</td><td>40</td><td>3</td><td>2</td><td>3468</td><td>⋯</td><td>0</td><td>0</td><td>0</td><td>0</td><td>0</td><td>0</td><td>1</td><td>0</td><td>1</td><td>0</td></tr>\n",
       "\t<tr><th scope=row>6</th><td>32</td><td>1005</td><td>2</td><td>2</td><td>8</td><td>4</td><td>79</td><td>3</td><td>4</td><td>3068</td><td>⋯</td><td>0</td><td>0</td><td>0</td><td>0</td><td>0</td><td>0</td><td>0</td><td>1</td><td>1</td><td>0</td></tr>\n",
       "</tbody>\n",
       "</table>\n"
      ],
      "text/latex": [
       "A data.frame: 6 × 52\n",
       "\\begin{tabular}{r|lllllllllllllllllllll}\n",
       "  & Age & DailyRate & DistanceFromHome & Education & EmployeeNumber & EnvironmentSatisfaction & HourlyRate & JobInvolvement & JobSatisfaction & MonthlyIncome & ⋯ & JobRole\\_Manufacturing Director & JobRole\\_Research Director & JobRole\\_Research Scientist & JobRole\\_Sales Executive & JobRole\\_Sales Representative & MaritalStatus\\_Divorced & MaritalStatus\\_Married & MaritalStatus\\_Single & OverTime\\_No & OverTime\\_Yes\\\\\n",
       "  & <int> & <int> & <int> & <int> & <int> & <int> & <int> & <int> & <int> & <int> & ⋯ & <int> & <int> & <int> & <int> & <int> & <int> & <int> & <int> & <int> & <int>\\\\\n",
       "\\hline\n",
       "\t1 & 41 & 1102 & 1 & 2 & 1 & 2 & 94 & 3 & 4 & 5993 & ⋯ & 0 & 0 & 0 & 1 & 0 & 0 & 0 & 1 & 0 & 1\\\\\n",
       "\t2 & 49 &  279 & 8 & 1 & 2 & 3 & 61 & 2 & 2 & 5130 & ⋯ & 0 & 0 & 1 & 0 & 0 & 0 & 1 & 0 & 1 & 0\\\\\n",
       "\t3 & 37 & 1373 & 2 & 2 & 4 & 4 & 92 & 2 & 3 & 2090 & ⋯ & 0 & 0 & 0 & 0 & 0 & 0 & 0 & 1 & 0 & 1\\\\\n",
       "\t4 & 33 & 1392 & 3 & 4 & 5 & 4 & 56 & 3 & 3 & 2909 & ⋯ & 0 & 0 & 1 & 0 & 0 & 0 & 1 & 0 & 0 & 1\\\\\n",
       "\t5 & 27 &  591 & 2 & 1 & 7 & 1 & 40 & 3 & 2 & 3468 & ⋯ & 0 & 0 & 0 & 0 & 0 & 0 & 1 & 0 & 1 & 0\\\\\n",
       "\t6 & 32 & 1005 & 2 & 2 & 8 & 4 & 79 & 3 & 4 & 3068 & ⋯ & 0 & 0 & 0 & 0 & 0 & 0 & 0 & 1 & 1 & 0\\\\\n",
       "\\end{tabular}\n"
      ],
      "text/markdown": [
       "\n",
       "A data.frame: 6 × 52\n",
       "\n",
       "| <!--/--> | Age &lt;int&gt; | DailyRate &lt;int&gt; | DistanceFromHome &lt;int&gt; | Education &lt;int&gt; | EmployeeNumber &lt;int&gt; | EnvironmentSatisfaction &lt;int&gt; | HourlyRate &lt;int&gt; | JobInvolvement &lt;int&gt; | JobSatisfaction &lt;int&gt; | MonthlyIncome &lt;int&gt; | ⋯ ⋯ | JobRole_Manufacturing Director &lt;int&gt; | JobRole_Research Director &lt;int&gt; | JobRole_Research Scientist &lt;int&gt; | JobRole_Sales Executive &lt;int&gt; | JobRole_Sales Representative &lt;int&gt; | MaritalStatus_Divorced &lt;int&gt; | MaritalStatus_Married &lt;int&gt; | MaritalStatus_Single &lt;int&gt; | OverTime_No &lt;int&gt; | OverTime_Yes &lt;int&gt; |\n",
       "|---|---|---|---|---|---|---|---|---|---|---|---|---|---|---|---|---|---|---|---|---|---|\n",
       "| 1 | 41 | 1102 | 1 | 2 | 1 | 2 | 94 | 3 | 4 | 5993 | ⋯ | 0 | 0 | 0 | 1 | 0 | 0 | 0 | 1 | 0 | 1 |\n",
       "| 2 | 49 |  279 | 8 | 1 | 2 | 3 | 61 | 2 | 2 | 5130 | ⋯ | 0 | 0 | 1 | 0 | 0 | 0 | 1 | 0 | 1 | 0 |\n",
       "| 3 | 37 | 1373 | 2 | 2 | 4 | 4 | 92 | 2 | 3 | 2090 | ⋯ | 0 | 0 | 0 | 0 | 0 | 0 | 0 | 1 | 0 | 1 |\n",
       "| 4 | 33 | 1392 | 3 | 4 | 5 | 4 | 56 | 3 | 3 | 2909 | ⋯ | 0 | 0 | 1 | 0 | 0 | 0 | 1 | 0 | 0 | 1 |\n",
       "| 5 | 27 |  591 | 2 | 1 | 7 | 1 | 40 | 3 | 2 | 3468 | ⋯ | 0 | 0 | 0 | 0 | 0 | 0 | 1 | 0 | 1 | 0 |\n",
       "| 6 | 32 | 1005 | 2 | 2 | 8 | 4 | 79 | 3 | 4 | 3068 | ⋯ | 0 | 0 | 0 | 0 | 0 | 0 | 0 | 1 | 1 | 0 |\n",
       "\n"
      ],
      "text/plain": [
       "  Age DailyRate DistanceFromHome Education EmployeeNumber\n",
       "1 41  1102      1                2         1             \n",
       "2 49   279      8                1         2             \n",
       "3 37  1373      2                2         4             \n",
       "4 33  1392      3                4         5             \n",
       "5 27   591      2                1         7             \n",
       "6 32  1005      2                2         8             \n",
       "  EnvironmentSatisfaction HourlyRate JobInvolvement JobSatisfaction\n",
       "1 2                       94         3              4              \n",
       "2 3                       61         2              2              \n",
       "3 4                       92         2              3              \n",
       "4 4                       56         3              3              \n",
       "5 1                       40         3              2              \n",
       "6 4                       79         3              4              \n",
       "  MonthlyIncome ⋯ JobRole_Manufacturing Director JobRole_Research Director\n",
       "1 5993          ⋯ 0                              0                        \n",
       "2 5130          ⋯ 0                              0                        \n",
       "3 2090          ⋯ 0                              0                        \n",
       "4 2909          ⋯ 0                              0                        \n",
       "5 3468          ⋯ 0                              0                        \n",
       "6 3068          ⋯ 0                              0                        \n",
       "  JobRole_Research Scientist JobRole_Sales Executive\n",
       "1 0                          1                      \n",
       "2 1                          0                      \n",
       "3 0                          0                      \n",
       "4 1                          0                      \n",
       "5 0                          0                      \n",
       "6 0                          0                      \n",
       "  JobRole_Sales Representative MaritalStatus_Divorced MaritalStatus_Married\n",
       "1 0                            0                      0                    \n",
       "2 0                            0                      1                    \n",
       "3 0                            0                      0                    \n",
       "4 0                            0                      1                    \n",
       "5 0                            0                      1                    \n",
       "6 0                            0                      0                    \n",
       "  MaritalStatus_Single OverTime_No OverTime_Yes\n",
       "1 1                    0           1           \n",
       "2 0                    1           0           \n",
       "3 1                    0           1           \n",
       "4 0                    0           1           \n",
       "5 0                    1           0           \n",
       "6 1                    1           0           "
      ]
     },
     "metadata": {},
     "output_type": "display_data"
    },
    {
     "data": {
      "text/html": [
       "<style>\n",
       ".list-inline {list-style: none; margin:0; padding: 0}\n",
       ".list-inline>li {display: inline-block}\n",
       ".list-inline>li:not(:last-child)::after {content: \"\\00b7\"; padding: 0 .5ex}\n",
       "</style>\n",
       "<ol class=list-inline><li>'Age'</li><li>'DailyRate'</li><li>'DistanceFromHome'</li><li>'Education'</li><li>'EmployeeNumber'</li><li>'EnvironmentSatisfaction'</li><li>'HourlyRate'</li><li>'JobInvolvement'</li><li>'JobSatisfaction'</li><li>'MonthlyIncome'</li><li>'MonthlyRate'</li><li>'NumCompaniesWorked'</li><li>'PerformanceRating'</li><li>'RelationshipSatisfaction'</li><li>'StockOptionLevel'</li><li>'TrainingTimesLastYear'</li><li>'WorkLifeBalance'</li><li>'YearsInCurrentRole'</li><li>'YearsSinceLastPromotion'</li><li>'YearsWithCurrManager'</li><li>'JobLevel'</li><li>'PercentSalaryHike'</li><li>'TotalWorkingYears'</li><li>'YearsAtCompany'</li><li>'BusinessTravel_Non-Travel'</li><li>'BusinessTravel_Travel_Frequently'</li><li>'BusinessTravel_Travel_Rarely'</li><li>'Department_Human Resources'</li><li>'Department_Research &amp; Development'</li><li>'Department_Sales'</li><li>'EducationField_Human Resources'</li><li>'EducationField_Life Sciences'</li><li>'EducationField_Marketing'</li><li>'EducationField_Medical'</li><li>'EducationField_Other'</li><li>'EducationField_Technical Degree'</li><li>'Gender_Female'</li><li>'Gender_Male'</li><li>'JobRole_Healthcare Representative'</li><li>'JobRole_Human Resources'</li><li>'JobRole_Laboratory Technician'</li><li>'JobRole_Manager'</li><li>'JobRole_Manufacturing Director'</li><li>'JobRole_Research Director'</li><li>'JobRole_Research Scientist'</li><li>'JobRole_Sales Executive'</li><li>'JobRole_Sales Representative'</li><li>'MaritalStatus_Divorced'</li><li>'MaritalStatus_Married'</li><li>'MaritalStatus_Single'</li><li>'OverTime_No'</li><li>'OverTime_Yes'</li></ol>\n"
      ],
      "text/latex": [
       "\\begin{enumerate*}\n",
       "\\item 'Age'\n",
       "\\item 'DailyRate'\n",
       "\\item 'DistanceFromHome'\n",
       "\\item 'Education'\n",
       "\\item 'EmployeeNumber'\n",
       "\\item 'EnvironmentSatisfaction'\n",
       "\\item 'HourlyRate'\n",
       "\\item 'JobInvolvement'\n",
       "\\item 'JobSatisfaction'\n",
       "\\item 'MonthlyIncome'\n",
       "\\item 'MonthlyRate'\n",
       "\\item 'NumCompaniesWorked'\n",
       "\\item 'PerformanceRating'\n",
       "\\item 'RelationshipSatisfaction'\n",
       "\\item 'StockOptionLevel'\n",
       "\\item 'TrainingTimesLastYear'\n",
       "\\item 'WorkLifeBalance'\n",
       "\\item 'YearsInCurrentRole'\n",
       "\\item 'YearsSinceLastPromotion'\n",
       "\\item 'YearsWithCurrManager'\n",
       "\\item 'JobLevel'\n",
       "\\item 'PercentSalaryHike'\n",
       "\\item 'TotalWorkingYears'\n",
       "\\item 'YearsAtCompany'\n",
       "\\item 'BusinessTravel\\_Non-Travel'\n",
       "\\item 'BusinessTravel\\_Travel\\_Frequently'\n",
       "\\item 'BusinessTravel\\_Travel\\_Rarely'\n",
       "\\item 'Department\\_Human Resources'\n",
       "\\item 'Department\\_Research \\& Development'\n",
       "\\item 'Department\\_Sales'\n",
       "\\item 'EducationField\\_Human Resources'\n",
       "\\item 'EducationField\\_Life Sciences'\n",
       "\\item 'EducationField\\_Marketing'\n",
       "\\item 'EducationField\\_Medical'\n",
       "\\item 'EducationField\\_Other'\n",
       "\\item 'EducationField\\_Technical Degree'\n",
       "\\item 'Gender\\_Female'\n",
       "\\item 'Gender\\_Male'\n",
       "\\item 'JobRole\\_Healthcare Representative'\n",
       "\\item 'JobRole\\_Human Resources'\n",
       "\\item 'JobRole\\_Laboratory Technician'\n",
       "\\item 'JobRole\\_Manager'\n",
       "\\item 'JobRole\\_Manufacturing Director'\n",
       "\\item 'JobRole\\_Research Director'\n",
       "\\item 'JobRole\\_Research Scientist'\n",
       "\\item 'JobRole\\_Sales Executive'\n",
       "\\item 'JobRole\\_Sales Representative'\n",
       "\\item 'MaritalStatus\\_Divorced'\n",
       "\\item 'MaritalStatus\\_Married'\n",
       "\\item 'MaritalStatus\\_Single'\n",
       "\\item 'OverTime\\_No'\n",
       "\\item 'OverTime\\_Yes'\n",
       "\\end{enumerate*}\n"
      ],
      "text/markdown": [
       "1. 'Age'\n",
       "2. 'DailyRate'\n",
       "3. 'DistanceFromHome'\n",
       "4. 'Education'\n",
       "5. 'EmployeeNumber'\n",
       "6. 'EnvironmentSatisfaction'\n",
       "7. 'HourlyRate'\n",
       "8. 'JobInvolvement'\n",
       "9. 'JobSatisfaction'\n",
       "10. 'MonthlyIncome'\n",
       "11. 'MonthlyRate'\n",
       "12. 'NumCompaniesWorked'\n",
       "13. 'PerformanceRating'\n",
       "14. 'RelationshipSatisfaction'\n",
       "15. 'StockOptionLevel'\n",
       "16. 'TrainingTimesLastYear'\n",
       "17. 'WorkLifeBalance'\n",
       "18. 'YearsInCurrentRole'\n",
       "19. 'YearsSinceLastPromotion'\n",
       "20. 'YearsWithCurrManager'\n",
       "21. 'JobLevel'\n",
       "22. 'PercentSalaryHike'\n",
       "23. 'TotalWorkingYears'\n",
       "24. 'YearsAtCompany'\n",
       "25. 'BusinessTravel_Non-Travel'\n",
       "26. 'BusinessTravel_Travel_Frequently'\n",
       "27. 'BusinessTravel_Travel_Rarely'\n",
       "28. 'Department_Human Resources'\n",
       "29. 'Department_Research &amp; Development'\n",
       "30. 'Department_Sales'\n",
       "31. 'EducationField_Human Resources'\n",
       "32. 'EducationField_Life Sciences'\n",
       "33. 'EducationField_Marketing'\n",
       "34. 'EducationField_Medical'\n",
       "35. 'EducationField_Other'\n",
       "36. 'EducationField_Technical Degree'\n",
       "37. 'Gender_Female'\n",
       "38. 'Gender_Male'\n",
       "39. 'JobRole_Healthcare Representative'\n",
       "40. 'JobRole_Human Resources'\n",
       "41. 'JobRole_Laboratory Technician'\n",
       "42. 'JobRole_Manager'\n",
       "43. 'JobRole_Manufacturing Director'\n",
       "44. 'JobRole_Research Director'\n",
       "45. 'JobRole_Research Scientist'\n",
       "46. 'JobRole_Sales Executive'\n",
       "47. 'JobRole_Sales Representative'\n",
       "48. 'MaritalStatus_Divorced'\n",
       "49. 'MaritalStatus_Married'\n",
       "50. 'MaritalStatus_Single'\n",
       "51. 'OverTime_No'\n",
       "52. 'OverTime_Yes'\n",
       "\n",
       "\n"
      ],
      "text/plain": [
       " [1] \"Age\"                               \"DailyRate\"                        \n",
       " [3] \"DistanceFromHome\"                  \"Education\"                        \n",
       " [5] \"EmployeeNumber\"                    \"EnvironmentSatisfaction\"          \n",
       " [7] \"HourlyRate\"                        \"JobInvolvement\"                   \n",
       " [9] \"JobSatisfaction\"                   \"MonthlyIncome\"                    \n",
       "[11] \"MonthlyRate\"                       \"NumCompaniesWorked\"               \n",
       "[13] \"PerformanceRating\"                 \"RelationshipSatisfaction\"         \n",
       "[15] \"StockOptionLevel\"                  \"TrainingTimesLastYear\"            \n",
       "[17] \"WorkLifeBalance\"                   \"YearsInCurrentRole\"               \n",
       "[19] \"YearsSinceLastPromotion\"           \"YearsWithCurrManager\"             \n",
       "[21] \"JobLevel\"                          \"PercentSalaryHike\"                \n",
       "[23] \"TotalWorkingYears\"                 \"YearsAtCompany\"                   \n",
       "[25] \"BusinessTravel_Non-Travel\"         \"BusinessTravel_Travel_Frequently\" \n",
       "[27] \"BusinessTravel_Travel_Rarely\"      \"Department_Human Resources\"       \n",
       "[29] \"Department_Research & Development\" \"Department_Sales\"                 \n",
       "[31] \"EducationField_Human Resources\"    \"EducationField_Life Sciences\"     \n",
       "[33] \"EducationField_Marketing\"          \"EducationField_Medical\"           \n",
       "[35] \"EducationField_Other\"              \"EducationField_Technical Degree\"  \n",
       "[37] \"Gender_Female\"                     \"Gender_Male\"                      \n",
       "[39] \"JobRole_Healthcare Representative\" \"JobRole_Human Resources\"          \n",
       "[41] \"JobRole_Laboratory Technician\"     \"JobRole_Manager\"                  \n",
       "[43] \"JobRole_Manufacturing Director\"    \"JobRole_Research Director\"        \n",
       "[45] \"JobRole_Research Scientist\"        \"JobRole_Sales Executive\"          \n",
       "[47] \"JobRole_Sales Representative\"      \"MaritalStatus_Divorced\"           \n",
       "[49] \"MaritalStatus_Married\"             \"MaritalStatus_Single\"             \n",
       "[51] \"OverTime_No\"                       \"OverTime_Yes\"                     "
      ]
     },
     "metadata": {},
     "output_type": "display_data"
    }
   ],
   "source": [
    "# We finally have an all-numeric dataframe! Let's do some checks to understand our final predictive variables!\n",
    "ncol(df)          \n",
    "head(df)\n",
    "colnames(df)"
   ]
  },
  {
   "cell_type": "markdown",
   "metadata": {},
   "source": [
    "For the models we will be using, we can't forget to include the attrition column! We will quickly add it to the df"
   ]
  },
  {
   "cell_type": "code",
   "execution_count": 15,
   "metadata": {},
   "outputs": [],
   "source": [
    "df <- cbind(df, attrition)"
   ]
  },
  {
   "cell_type": "markdown",
   "metadata": {},
   "source": [
    "Before building the model, we will want to get a count of the attrition values. This will give us a baseline value to compare our results against by giving us the result we would get by purely guessing either Yes or No. It can also be helpful in pointing out skewness"
   ]
  },
  {
   "cell_type": "code",
   "execution_count": 16,
   "metadata": {},
   "outputs": [
    {
     "data": {
      "text/html": [
       "237"
      ],
      "text/latex": [
       "237"
      ],
      "text/markdown": [
       "237"
      ],
      "text/plain": [
       "[1] 237"
      ]
     },
     "metadata": {},
     "output_type": "display_data"
    }
   ],
   "source": [
    "sum(attrition == \"Yes\")"
   ]
  },
  {
   "cell_type": "code",
   "execution_count": 17,
   "metadata": {},
   "outputs": [
    {
     "data": {
      "text/html": [
       "1233"
      ],
      "text/latex": [
       "1233"
      ],
      "text/markdown": [
       "1233"
      ],
      "text/plain": [
       "[1] 1233"
      ]
     },
     "metadata": {},
     "output_type": "display_data"
    }
   ],
   "source": [
    "sum(attrition == \"No\")"
   ]
  },
  {
   "cell_type": "markdown",
   "metadata": {},
   "source": [
    "Aha! We see that the attrition values are highly skewed. In fact, if we were to guess NO no matter what, we would be right 83% of the time! This is an important number to remember as we create models because we will want to make sure that whatever results we get are higher than 83. This will be tough though, as 83% is already pretty high. "
   ]
  },
  {
   "cell_type": "markdown",
   "metadata": {},
   "source": [
    "To improve our data even further, its good practice to remove this skew from our trainig/testing data. We will do this by using a program to create synthetic, realistic minority cases ('Yes' cases, such that the dataset will be balanced. We will do this through the SMOTE library."
   ]
  },
  {
   "cell_type": "code",
   "execution_count": 18,
   "metadata": {},
   "outputs": [],
   "source": [
    "df$Attrition <- as.factor(df$Attrition)  # this changes Attrition to a factor, a requirement of SMOTE and of later models"
   ]
  },
  {
   "cell_type": "code",
   "execution_count": 19,
   "metadata": {},
   "outputs": [],
   "source": [
    "suppressPackageStartupMessages(library(DMwR))                  # library containing SMOTE function\n",
    "df <- SMOTE(Attrition ~ ., df, perc.over = 600,perc.under=100) # SMOTE Function, perc used to specify number of yes/no that need to be generated"
   ]
  },
  {
   "cell_type": "code",
   "execution_count": 20,
   "metadata": {},
   "outputs": [],
   "source": [
    "attrition <- df$Attrition  # we will now save our normalized attrition values"
   ]
  },
  {
   "cell_type": "markdown",
   "metadata": {},
   "source": [
    "We can see now that the 'yes' rows have increased to close to the same amount as the 'no' rows, success!"
   ]
  },
  {
   "cell_type": "code",
   "execution_count": 21,
   "metadata": {},
   "outputs": [
    {
     "data": {
      "text/html": [
       "1659"
      ],
      "text/latex": [
       "1659"
      ],
      "text/markdown": [
       "1659"
      ],
      "text/plain": [
       "[1] 1659"
      ]
     },
     "metadata": {},
     "output_type": "display_data"
    }
   ],
   "source": [
    "sum(attrition == \"Yes\") "
   ]
  },
  {
   "cell_type": "code",
   "execution_count": 22,
   "metadata": {},
   "outputs": [
    {
     "data": {
      "text/html": [
       "1422"
      ],
      "text/latex": [
       "1422"
      ],
      "text/markdown": [
       "1422"
      ],
      "text/plain": [
       "[1] 1422"
      ]
     },
     "metadata": {},
     "output_type": "display_data"
    }
   ],
   "source": [
    "sum(attrition == \"No\")"
   ]
  },
  {
   "cell_type": "code",
   "execution_count": null,
   "metadata": {},
   "outputs": [],
   "source": []
  },
  {
   "cell_type": "markdown",
   "metadata": {},
   "source": [
    "Whew, now it seems we have data that we can plug into a model. Finally!!!!"
   ]
  },
  {
   "cell_type": "markdown",
   "metadata": {},
   "source": [
    "We will use the Machine Learning package H2O in R to develop numerous ML models to compare against each other and find the best solution. Remember that anything less than 83 percent is not good."
   ]
  },
  {
   "cell_type": "code",
   "execution_count": 23,
   "metadata": {},
   "outputs": [
    {
     "name": "stdout",
     "output_type": "stream",
     "text": [
      " Connection successful!\n",
      "\n",
      "R is connected to the H2O cluster: \n",
      "    H2O cluster uptime:         12 hours 38 minutes \n",
      "    H2O cluster timezone:       America/Los_Angeles \n",
      "    H2O data parsing timezone:  UTC \n",
      "    H2O cluster version:        3.30.1.2 \n",
      "    H2O cluster version age:    8 days  \n",
      "    H2O cluster name:           H2O_from_python_naveenmirapuri_9i7lvx \n",
      "    H2O cluster total nodes:    1 \n",
      "    H2O cluster total memory:   3.39 GB \n",
      "    H2O cluster total cores:    4 \n",
      "    H2O cluster allowed cores:  4 \n",
      "    H2O cluster healthy:        TRUE \n",
      "    H2O Connection ip:          localhost \n",
      "    H2O Connection port:        54321 \n",
      "    H2O Connection proxy:       NA \n",
      "    H2O Internal Security:      FALSE \n",
      "    H2O API Extensions:         Amazon S3, XGBoost, Algos, AutoML, Core V3, TargetEncoder, Core V4 \n",
      "    R Version:                  R version 4.0.2 (2020-06-22) \n",
      "\n"
     ]
    }
   ],
   "source": [
    "# initialize and import supporting packages for h2o\n",
    "suppressPackageStartupMessages(library(dplyr))\n",
    "suppressPackageStartupMessages(library(h2o))\n",
    "h2o.init(nthreads = -1)"
   ]
  },
  {
   "cell_type": "code",
   "execution_count": 24,
   "metadata": {},
   "outputs": [
    {
     "name": "stdout",
     "output_type": "stream",
     "text": [
      "  |======================================================================| 100%\n"
     ]
    }
   ],
   "source": [
    "# we will have to convert our df to an h2o-compatible frame\n",
    "dfH2O <- as.h2o(df)\n",
    "dfH2O['Attrition'] = as.factor(dfH2O['Attrition'])"
   ]
  },
  {
   "cell_type": "code",
   "execution_count": 25,
   "metadata": {},
   "outputs": [
    {
     "data": {
      "text/html": [
       "<style>\n",
       ".list-inline {list-style: none; margin:0; padding: 0}\n",
       ".list-inline>li {display: inline-block}\n",
       ".list-inline>li:not(:last-child)::after {content: \"\\00b7\"; padding: 0 .5ex}\n",
       "</style>\n",
       "<ol class=list-inline><li>3081</li><li>53</li></ol>\n"
      ],
      "text/latex": [
       "\\begin{enumerate*}\n",
       "\\item 3081\n",
       "\\item 53\n",
       "\\end{enumerate*}\n"
      ],
      "text/markdown": [
       "1. 3081\n",
       "2. 53\n",
       "\n",
       "\n"
      ],
      "text/plain": [
       "[1] 3081   53"
      ]
     },
     "metadata": {},
     "output_type": "display_data"
    }
   ],
   "source": [
    "dim(dfH2O)   # returns the dimensions of the dataframe to get a better idea before modeling"
   ]
  },
  {
   "cell_type": "markdown",
   "metadata": {},
   "source": [
    "We will now have to split our H2O frame into a train, cross-validation, and testing set, each of which will be used to evaluate our model. We will use 60% for training, 20% for validation, and 20% for testing, chosen at random"
   ]
  },
  {
   "cell_type": "code",
   "execution_count": 26,
   "metadata": {},
   "outputs": [],
   "source": [
    "split <- h2o.splitFrame(dfH2O, ratios = c(0.6,0.2), seed = 1234)\n",
    "train <- split[[1]]\n",
    "valid <- split[[2]]\n",
    "test <- split[[3]]"
   ]
  },
  {
   "cell_type": "markdown",
   "metadata": {},
   "source": [
    "For our model, we will set our response variable (what we are trying to predict) to Attrition, and our predictors to all of our df columns EXCEPT attrition, as we don't want to use attrition to predict attrition."
   ]
  },
  {
   "cell_type": "code",
   "execution_count": 27,
   "metadata": {},
   "outputs": [
    {
     "data": {
      "text/html": [
       "<style>\n",
       ".list-inline {list-style: none; margin:0; padding: 0}\n",
       ".list-inline>li {display: inline-block}\n",
       ".list-inline>li:not(:last-child)::after {content: \"\\00b7\"; padding: 0 .5ex}\n",
       "</style>\n",
       "<ol class=list-inline><li>'Age'</li><li>'DailyRate'</li><li>'DistanceFromHome'</li><li>'Education'</li><li>'EmployeeNumber'</li><li>'EnvironmentSatisfaction'</li><li>'HourlyRate'</li><li>'JobInvolvement'</li><li>'JobSatisfaction'</li><li>'MonthlyIncome'</li><li>'MonthlyRate'</li><li>'NumCompaniesWorked'</li><li>'PerformanceRating'</li><li>'RelationshipSatisfaction'</li><li>'StockOptionLevel'</li><li>'TrainingTimesLastYear'</li><li>'WorkLifeBalance'</li><li>'YearsInCurrentRole'</li><li>'YearsSinceLastPromotion'</li><li>'YearsWithCurrManager'</li><li>'JobLevel'</li><li>'PercentSalaryHike'</li><li>'TotalWorkingYears'</li><li>'YearsAtCompany'</li><li>'BusinessTravel_Non-Travel'</li><li>'BusinessTravel_Travel_Frequently'</li><li>'BusinessTravel_Travel_Rarely'</li><li>'Department_Human Resources'</li><li>'Department_Research &amp; Development'</li><li>'Department_Sales'</li><li>'EducationField_Human Resources'</li><li>'EducationField_Life Sciences'</li><li>'EducationField_Marketing'</li><li>'EducationField_Medical'</li><li>'EducationField_Other'</li><li>'EducationField_Technical Degree'</li><li>'Gender_Female'</li><li>'Gender_Male'</li><li>'JobRole_Healthcare Representative'</li><li>'JobRole_Human Resources'</li><li>'JobRole_Laboratory Technician'</li><li>'JobRole_Manager'</li><li>'JobRole_Manufacturing Director'</li><li>'JobRole_Research Director'</li><li>'JobRole_Research Scientist'</li><li>'JobRole_Sales Executive'</li><li>'JobRole_Sales Representative'</li><li>'MaritalStatus_Divorced'</li><li>'MaritalStatus_Married'</li><li>'MaritalStatus_Single'</li><li>'OverTime_No'</li><li>'OverTime_Yes'</li></ol>\n"
      ],
      "text/latex": [
       "\\begin{enumerate*}\n",
       "\\item 'Age'\n",
       "\\item 'DailyRate'\n",
       "\\item 'DistanceFromHome'\n",
       "\\item 'Education'\n",
       "\\item 'EmployeeNumber'\n",
       "\\item 'EnvironmentSatisfaction'\n",
       "\\item 'HourlyRate'\n",
       "\\item 'JobInvolvement'\n",
       "\\item 'JobSatisfaction'\n",
       "\\item 'MonthlyIncome'\n",
       "\\item 'MonthlyRate'\n",
       "\\item 'NumCompaniesWorked'\n",
       "\\item 'PerformanceRating'\n",
       "\\item 'RelationshipSatisfaction'\n",
       "\\item 'StockOptionLevel'\n",
       "\\item 'TrainingTimesLastYear'\n",
       "\\item 'WorkLifeBalance'\n",
       "\\item 'YearsInCurrentRole'\n",
       "\\item 'YearsSinceLastPromotion'\n",
       "\\item 'YearsWithCurrManager'\n",
       "\\item 'JobLevel'\n",
       "\\item 'PercentSalaryHike'\n",
       "\\item 'TotalWorkingYears'\n",
       "\\item 'YearsAtCompany'\n",
       "\\item 'BusinessTravel\\_Non-Travel'\n",
       "\\item 'BusinessTravel\\_Travel\\_Frequently'\n",
       "\\item 'BusinessTravel\\_Travel\\_Rarely'\n",
       "\\item 'Department\\_Human Resources'\n",
       "\\item 'Department\\_Research \\& Development'\n",
       "\\item 'Department\\_Sales'\n",
       "\\item 'EducationField\\_Human Resources'\n",
       "\\item 'EducationField\\_Life Sciences'\n",
       "\\item 'EducationField\\_Marketing'\n",
       "\\item 'EducationField\\_Medical'\n",
       "\\item 'EducationField\\_Other'\n",
       "\\item 'EducationField\\_Technical Degree'\n",
       "\\item 'Gender\\_Female'\n",
       "\\item 'Gender\\_Male'\n",
       "\\item 'JobRole\\_Healthcare Representative'\n",
       "\\item 'JobRole\\_Human Resources'\n",
       "\\item 'JobRole\\_Laboratory Technician'\n",
       "\\item 'JobRole\\_Manager'\n",
       "\\item 'JobRole\\_Manufacturing Director'\n",
       "\\item 'JobRole\\_Research Director'\n",
       "\\item 'JobRole\\_Research Scientist'\n",
       "\\item 'JobRole\\_Sales Executive'\n",
       "\\item 'JobRole\\_Sales Representative'\n",
       "\\item 'MaritalStatus\\_Divorced'\n",
       "\\item 'MaritalStatus\\_Married'\n",
       "\\item 'MaritalStatus\\_Single'\n",
       "\\item 'OverTime\\_No'\n",
       "\\item 'OverTime\\_Yes'\n",
       "\\end{enumerate*}\n"
      ],
      "text/markdown": [
       "1. 'Age'\n",
       "2. 'DailyRate'\n",
       "3. 'DistanceFromHome'\n",
       "4. 'Education'\n",
       "5. 'EmployeeNumber'\n",
       "6. 'EnvironmentSatisfaction'\n",
       "7. 'HourlyRate'\n",
       "8. 'JobInvolvement'\n",
       "9. 'JobSatisfaction'\n",
       "10. 'MonthlyIncome'\n",
       "11. 'MonthlyRate'\n",
       "12. 'NumCompaniesWorked'\n",
       "13. 'PerformanceRating'\n",
       "14. 'RelationshipSatisfaction'\n",
       "15. 'StockOptionLevel'\n",
       "16. 'TrainingTimesLastYear'\n",
       "17. 'WorkLifeBalance'\n",
       "18. 'YearsInCurrentRole'\n",
       "19. 'YearsSinceLastPromotion'\n",
       "20. 'YearsWithCurrManager'\n",
       "21. 'JobLevel'\n",
       "22. 'PercentSalaryHike'\n",
       "23. 'TotalWorkingYears'\n",
       "24. 'YearsAtCompany'\n",
       "25. 'BusinessTravel_Non-Travel'\n",
       "26. 'BusinessTravel_Travel_Frequently'\n",
       "27. 'BusinessTravel_Travel_Rarely'\n",
       "28. 'Department_Human Resources'\n",
       "29. 'Department_Research &amp; Development'\n",
       "30. 'Department_Sales'\n",
       "31. 'EducationField_Human Resources'\n",
       "32. 'EducationField_Life Sciences'\n",
       "33. 'EducationField_Marketing'\n",
       "34. 'EducationField_Medical'\n",
       "35. 'EducationField_Other'\n",
       "36. 'EducationField_Technical Degree'\n",
       "37. 'Gender_Female'\n",
       "38. 'Gender_Male'\n",
       "39. 'JobRole_Healthcare Representative'\n",
       "40. 'JobRole_Human Resources'\n",
       "41. 'JobRole_Laboratory Technician'\n",
       "42. 'JobRole_Manager'\n",
       "43. 'JobRole_Manufacturing Director'\n",
       "44. 'JobRole_Research Director'\n",
       "45. 'JobRole_Research Scientist'\n",
       "46. 'JobRole_Sales Executive'\n",
       "47. 'JobRole_Sales Representative'\n",
       "48. 'MaritalStatus_Divorced'\n",
       "49. 'MaritalStatus_Married'\n",
       "50. 'MaritalStatus_Single'\n",
       "51. 'OverTime_No'\n",
       "52. 'OverTime_Yes'\n",
       "\n",
       "\n"
      ],
      "text/plain": [
       " [1] \"Age\"                               \"DailyRate\"                        \n",
       " [3] \"DistanceFromHome\"                  \"Education\"                        \n",
       " [5] \"EmployeeNumber\"                    \"EnvironmentSatisfaction\"          \n",
       " [7] \"HourlyRate\"                        \"JobInvolvement\"                   \n",
       " [9] \"JobSatisfaction\"                   \"MonthlyIncome\"                    \n",
       "[11] \"MonthlyRate\"                       \"NumCompaniesWorked\"               \n",
       "[13] \"PerformanceRating\"                 \"RelationshipSatisfaction\"         \n",
       "[15] \"StockOptionLevel\"                  \"TrainingTimesLastYear\"            \n",
       "[17] \"WorkLifeBalance\"                   \"YearsInCurrentRole\"               \n",
       "[19] \"YearsSinceLastPromotion\"           \"YearsWithCurrManager\"             \n",
       "[21] \"JobLevel\"                          \"PercentSalaryHike\"                \n",
       "[23] \"TotalWorkingYears\"                 \"YearsAtCompany\"                   \n",
       "[25] \"BusinessTravel_Non-Travel\"         \"BusinessTravel_Travel_Frequently\" \n",
       "[27] \"BusinessTravel_Travel_Rarely\"      \"Department_Human Resources\"       \n",
       "[29] \"Department_Research & Development\" \"Department_Sales\"                 \n",
       "[31] \"EducationField_Human Resources\"    \"EducationField_Life Sciences\"     \n",
       "[33] \"EducationField_Marketing\"          \"EducationField_Medical\"           \n",
       "[35] \"EducationField_Other\"              \"EducationField_Technical Degree\"  \n",
       "[37] \"Gender_Female\"                     \"Gender_Male\"                      \n",
       "[39] \"JobRole_Healthcare Representative\" \"JobRole_Human Resources\"          \n",
       "[41] \"JobRole_Laboratory Technician\"     \"JobRole_Manager\"                  \n",
       "[43] \"JobRole_Manufacturing Director\"    \"JobRole_Research Director\"        \n",
       "[45] \"JobRole_Research Scientist\"        \"JobRole_Sales Executive\"          \n",
       "[47] \"JobRole_Sales Representative\"      \"MaritalStatus_Divorced\"           \n",
       "[49] \"MaritalStatus_Married\"             \"MaritalStatus_Single\"             \n",
       "[51] \"OverTime_No\"                       \"OverTime_Yes\"                     "
      ]
     },
     "metadata": {},
     "output_type": "display_data"
    }
   ],
   "source": [
    "response <- \"Attrition\"\n",
    "predictors <- setdiff(names(df), response)\n",
    "predictors # displays all of the variables we will use to predict attrition"
   ]
  },
  {
   "cell_type": "markdown",
   "metadata": {},
   "source": [
    "Now for the core of the model. We will be building multiple models listed below:\n",
    "1. Logistic Regression with Random Hyperparameter Search\n",
    "2. Random Forest with Random Hyperparameter Search\n",
    "3. Gradient Boosting Machine with Random Hyperparameter Search\n",
    "4. Neural Network with Random Hyperparameter Search\n",
    "Ensemble Model"
   ]
  },
  {
   "cell_type": "markdown",
   "metadata": {},
   "source": [
    "First, we will start with the Logistic Regression with Random Hyperparameter Search. Hyperparameters are all the different variables (iterations, batches, max run time, etc.) that can significantly change the performance of the model. In this model we have two hyperparams to control all of these variables. Thus, we will search for the best combination in a grid, then extract the best results for logistic regression with the best hyperparameters."
   ]
  },
  {
   "cell_type": "code",
   "execution_count": 28,
   "metadata": {},
   "outputs": [],
   "source": [
    "hyper_params <- list(alpha = seq(from = 0, to = 1, by = 0.001),\n",
    "                    lambda = seq(from = 0, to = 1, by = 0.000001)\n",
    "                    )"
   ]
  },
  {
   "cell_type": "code",
   "execution_count": 29,
   "metadata": {},
   "outputs": [],
   "source": [
    "search_criteria <- list(strategy = \"RandomDiscrete\",\n",
    "                        max_runtime_secs = 10*3600,\n",
    "                        max_models = 100,\n",
    "                        stopping_metric = \"AUC\", \n",
    "                        stopping_tolerance = 0.00001, \n",
    "                        stopping_rounds = 5, \n",
    "                        seed = 1234\n",
    "                        )"
   ]
  },
  {
   "cell_type": "code",
   "execution_count": 30,
   "metadata": {},
   "outputs": [
    {
     "name": "stdout",
     "output_type": "stream",
     "text": [
      "  |======================================================================| 100%\n"
     ]
    },
    {
     "name": "stderr",
     "output_type": "stream",
     "text": [
      "Warning message in doTryCatch(return(expr), name, parentenv, handler):\n",
      "“Reached maximum number of iterations 1000!”\n",
      "Warning message in doTryCatch(return(expr), name, parentenv, handler):\n",
      "“Reached maximum number of iterations 1000!”\n",
      "Warning message in doTryCatch(return(expr), name, parentenv, handler):\n",
      "“Reached maximum number of iterations 1000!”\n",
      "Warning message in doTryCatch(return(expr), name, parentenv, handler):\n",
      "“Reached maximum number of iterations 1000!”\n",
      "Warning message in doTryCatch(return(expr), name, parentenv, handler):\n",
      "“Reached maximum number of iterations 1000!”\n",
      "Warning message in doTryCatch(return(expr), name, parentenv, handler):\n",
      "“Reached maximum number of iterations 1000!”\n",
      "Warning message in doTryCatch(return(expr), name, parentenv, handler):\n",
      "“Reached maximum number of iterations 1000!”\n",
      "Warning message in doTryCatch(return(expr), name, parentenv, handler):\n",
      "“Reached maximum number of iterations 1000!”\n",
      "Warning message in doTryCatch(return(expr), name, parentenv, handler):\n",
      "“Reached maximum number of iterations 1000!”\n",
      "Warning message in doTryCatch(return(expr), name, parentenv, handler):\n",
      "“Reached maximum number of iterations 1000!”\n",
      "Warning message in doTryCatch(return(expr), name, parentenv, handler):\n",
      "“Reached maximum number of iterations 1000!”\n",
      "Warning message in doTryCatch(return(expr), name, parentenv, handler):\n",
      "“Reached maximum number of iterations 1000!”\n",
      "Warning message in doTryCatch(return(expr), name, parentenv, handler):\n",
      "“Reached maximum number of iterations 1000!”\n",
      "Warning message in doTryCatch(return(expr), name, parentenv, handler):\n",
      "“Reached maximum number of iterations 1000!”\n",
      "Warning message in doTryCatch(return(expr), name, parentenv, handler):\n",
      "“Reached maximum number of iterations 1000!”\n",
      "Warning message in doTryCatch(return(expr), name, parentenv, handler):\n",
      "“Reached maximum number of iterations 1000!”\n",
      "Warning message in doTryCatch(return(expr), name, parentenv, handler):\n",
      "“Reached maximum number of iterations 1000!”\n",
      "Warning message in doTryCatch(return(expr), name, parentenv, handler):\n",
      "“Reached maximum number of iterations 1000!”\n",
      "Warning message in doTryCatch(return(expr), name, parentenv, handler):\n",
      "“Reached maximum number of iterations 1000!”\n",
      "Warning message in doTryCatch(return(expr), name, parentenv, handler):\n",
      "“Reached maximum number of iterations 1000!”\n",
      "Warning message in doTryCatch(return(expr), name, parentenv, handler):\n",
      "“Reached maximum number of iterations 1000!”\n",
      "Warning message in doTryCatch(return(expr), name, parentenv, handler):\n",
      "“Reached maximum number of iterations 1000!”\n",
      "Warning message in doTryCatch(return(expr), name, parentenv, handler):\n",
      "“Reached maximum number of iterations 1000!”\n",
      "Warning message in doTryCatch(return(expr), name, parentenv, handler):\n",
      "“Reached maximum number of iterations 1000!”\n",
      "Warning message in doTryCatch(return(expr), name, parentenv, handler):\n",
      "“Reached maximum number of iterations 1000!”\n",
      "Warning message in doTryCatch(return(expr), name, parentenv, handler):\n",
      "“Reached maximum number of iterations 1000!”\n",
      "Warning message in doTryCatch(return(expr), name, parentenv, handler):\n",
      "“Reached maximum number of iterations 1000!”\n",
      "Warning message in doTryCatch(return(expr), name, parentenv, handler):\n",
      "“Reached maximum number of iterations 1000!”\n",
      "Warning message in doTryCatch(return(expr), name, parentenv, handler):\n",
      "“Reached maximum number of iterations 1000!”\n",
      "Warning message in doTryCatch(return(expr), name, parentenv, handler):\n",
      "“Reached maximum number of iterations 1000!”\n",
      "Warning message in doTryCatch(return(expr), name, parentenv, handler):\n",
      "“Reached maximum number of iterations 1000!”\n",
      "Warning message in doTryCatch(return(expr), name, parentenv, handler):\n",
      "“Reached maximum number of iterations 1000!”\n",
      "Warning message in doTryCatch(return(expr), name, parentenv, handler):\n",
      "“Reached maximum number of iterations 1000!”\n",
      "Warning message in doTryCatch(return(expr), name, parentenv, handler):\n",
      "“Reached maximum number of iterations 1000!”\n",
      "Warning message in doTryCatch(return(expr), name, parentenv, handler):\n",
      "“Reached maximum number of iterations 1000!”\n",
      "Warning message in doTryCatch(return(expr), name, parentenv, handler):\n",
      "“Reached maximum number of iterations 1000!”\n",
      "Warning message in doTryCatch(return(expr), name, parentenv, handler):\n",
      "“Reached maximum number of iterations 1000!”\n",
      "Warning message in doTryCatch(return(expr), name, parentenv, handler):\n",
      "“Reached maximum number of iterations 1000!”\n",
      "Warning message in doTryCatch(return(expr), name, parentenv, handler):\n",
      "“Reached maximum number of iterations 1000!”\n",
      "Warning message in doTryCatch(return(expr), name, parentenv, handler):\n",
      "“Reached maximum number of iterations 1000!”\n",
      "Warning message in doTryCatch(return(expr), name, parentenv, handler):\n",
      "“Reached maximum number of iterations 1000!”\n",
      "Warning message in doTryCatch(return(expr), name, parentenv, handler):\n",
      "“Reached maximum number of iterations 1000!”\n",
      "Warning message in doTryCatch(return(expr), name, parentenv, handler):\n",
      "“Reached maximum number of iterations 1000!”\n",
      "Warning message in doTryCatch(return(expr), name, parentenv, handler):\n",
      "“Reached maximum number of iterations 1000!”\n",
      "Warning message in doTryCatch(return(expr), name, parentenv, handler):\n",
      "“Reached maximum number of iterations 1000!”\n",
      "Warning message in doTryCatch(return(expr), name, parentenv, handler):\n",
      "“Reached maximum number of iterations 1000!”\n",
      "Warning message in doTryCatch(return(expr), name, parentenv, handler):\n",
      "“Reached maximum number of iterations 1000!”\n",
      "Warning message in doTryCatch(return(expr), name, parentenv, handler):\n",
      "“Reached maximum number of iterations 1000!”\n",
      "Warning message in doTryCatch(return(expr), name, parentenv, handler):\n",
      "“Reached maximum number of iterations 1000!”\n",
      "Warning message in doTryCatch(return(expr), name, parentenv, handler):\n",
      "“Reached maximum number of iterations 1000!”\n",
      "Warning message in doTryCatch(return(expr), name, parentenv, handler):\n",
      "“Reached maximum number of iterations 1000!”\n",
      "Warning message in doTryCatch(return(expr), name, parentenv, handler):\n",
      "“Reached maximum number of iterations 1000!”\n",
      "Warning message in doTryCatch(return(expr), name, parentenv, handler):\n",
      "“Reached maximum number of iterations 1000!”\n",
      "Warning message in doTryCatch(return(expr), name, parentenv, handler):\n",
      "“Reached maximum number of iterations 1000!”\n",
      "Warning message in doTryCatch(return(expr), name, parentenv, handler):\n",
      "“Reached maximum number of iterations 1000!”\n",
      "Warning message in doTryCatch(return(expr), name, parentenv, handler):\n",
      "“Reached maximum number of iterations 1000!”\n",
      "Warning message in doTryCatch(return(expr), name, parentenv, handler):\n",
      "“Reached maximum number of iterations 1000!”\n",
      "Warning message in doTryCatch(return(expr), name, parentenv, handler):\n",
      "“Reached maximum number of iterations 1000!”\n",
      "Warning message in doTryCatch(return(expr), name, parentenv, handler):\n",
      "“Reached maximum number of iterations 1000!”\n",
      "Warning message in doTryCatch(return(expr), name, parentenv, handler):\n",
      "“Reached maximum number of iterations 1000!”\n",
      "Warning message in doTryCatch(return(expr), name, parentenv, handler):\n",
      "“Reached maximum number of iterations 1000!”\n",
      "Warning message in doTryCatch(return(expr), name, parentenv, handler):\n",
      "“Reached maximum number of iterations 1000!”\n",
      "Warning message in doTryCatch(return(expr), name, parentenv, handler):\n",
      "“Reached maximum number of iterations 1000!”\n",
      "Warning message in doTryCatch(return(expr), name, parentenv, handler):\n",
      "“Reached maximum number of iterations 1000!”\n",
      "Warning message in doTryCatch(return(expr), name, parentenv, handler):\n",
      "“Reached maximum number of iterations 1000!”\n",
      "Warning message in doTryCatch(return(expr), name, parentenv, handler):\n",
      "“Reached maximum number of iterations 1000!”\n",
      "Warning message in doTryCatch(return(expr), name, parentenv, handler):\n",
      "“Reached maximum number of iterations 1000!”\n",
      "Warning message in doTryCatch(return(expr), name, parentenv, handler):\n",
      "“Reached maximum number of iterations 1000!”\n",
      "Warning message in doTryCatch(return(expr), name, parentenv, handler):\n",
      "“Reached maximum number of iterations 1000!”\n",
      "Warning message in doTryCatch(return(expr), name, parentenv, handler):\n",
      "“Reached maximum number of iterations 1000!”\n",
      "Warning message in doTryCatch(return(expr), name, parentenv, handler):\n",
      "“Reached maximum number of iterations 1000!”\n"
     ]
    },
    {
     "name": "stderr",
     "output_type": "stream",
     "text": [
      "Warning message in doTryCatch(return(expr), name, parentenv, handler):\n",
      "“Reached maximum number of iterations 1000!”\n",
      "Warning message in doTryCatch(return(expr), name, parentenv, handler):\n",
      "“Reached maximum number of iterations 1000!”\n",
      "Warning message in doTryCatch(return(expr), name, parentenv, handler):\n",
      "“Reached maximum number of iterations 1000!”\n",
      "Warning message in doTryCatch(return(expr), name, parentenv, handler):\n",
      "“Reached maximum number of iterations 1000!”\n",
      "Warning message in doTryCatch(return(expr), name, parentenv, handler):\n",
      "“Reached maximum number of iterations 1000!”\n",
      "Warning message in doTryCatch(return(expr), name, parentenv, handler):\n",
      "“Reached maximum number of iterations 1000!”\n",
      "Warning message in doTryCatch(return(expr), name, parentenv, handler):\n",
      "“Reached maximum number of iterations 1000!”\n",
      "Warning message in doTryCatch(return(expr), name, parentenv, handler):\n",
      "“Reached maximum number of iterations 1000!”\n",
      "Warning message in doTryCatch(return(expr), name, parentenv, handler):\n",
      "“Reached maximum number of iterations 1000!”\n",
      "Warning message in doTryCatch(return(expr), name, parentenv, handler):\n",
      "“Reached maximum number of iterations 1000!”\n",
      "Warning message in doTryCatch(return(expr), name, parentenv, handler):\n",
      "“Reached maximum number of iterations 1000!”\n",
      "Warning message in doTryCatch(return(expr), name, parentenv, handler):\n",
      "“Reached maximum number of iterations 1000!”\n",
      "Warning message in doTryCatch(return(expr), name, parentenv, handler):\n",
      "“Reached maximum number of iterations 1000!”\n",
      "Warning message in doTryCatch(return(expr), name, parentenv, handler):\n",
      "“Reached maximum number of iterations 1000!”\n",
      "Warning message in doTryCatch(return(expr), name, parentenv, handler):\n",
      "“Reached maximum number of iterations 1000!”\n",
      "Warning message in doTryCatch(return(expr), name, parentenv, handler):\n",
      "“Reached maximum number of iterations 1000!”\n",
      "Warning message in doTryCatch(return(expr), name, parentenv, handler):\n",
      "“Reached maximum number of iterations 1000!”\n",
      "Warning message in doTryCatch(return(expr), name, parentenv, handler):\n",
      "“Reached maximum number of iterations 1000!”\n",
      "Warning message in doTryCatch(return(expr), name, parentenv, handler):\n",
      "“Reached maximum number of iterations 1000!”\n",
      "Warning message in doTryCatch(return(expr), name, parentenv, handler):\n",
      "“Reached maximum number of iterations 1000!”\n",
      "Warning message in doTryCatch(return(expr), name, parentenv, handler):\n",
      "“Reached maximum number of iterations 1000!”\n",
      "Warning message in doTryCatch(return(expr), name, parentenv, handler):\n",
      "“Reached maximum number of iterations 1000!”\n",
      "Warning message in doTryCatch(return(expr), name, parentenv, handler):\n",
      "“Reached maximum number of iterations 1000!”\n",
      "Warning message in doTryCatch(return(expr), name, parentenv, handler):\n",
      "“Reached maximum number of iterations 1000!”\n",
      "Warning message in doTryCatch(return(expr), name, parentenv, handler):\n",
      "“Reached maximum number of iterations 1000!”\n",
      "Warning message in doTryCatch(return(expr), name, parentenv, handler):\n",
      "“Reached maximum number of iterations 1000!”\n",
      "Warning message in doTryCatch(return(expr), name, parentenv, handler):\n",
      "“Reached maximum number of iterations 1000!”\n",
      "Warning message in doTryCatch(return(expr), name, parentenv, handler):\n",
      "“Reached maximum number of iterations 1000!”\n",
      "Warning message in doTryCatch(return(expr), name, parentenv, handler):\n",
      "“Reached maximum number of iterations 1000!”\n"
     ]
    }
   ],
   "source": [
    "models_glm <- h2o.grid(algorithm = \"glm\", grid_id = \"grd_glm\", x = predictors, y = response, \n",
    "                       training_frame = train, validation_frame = valid, \n",
    "                       nfolds = 0, family = \"binomial\", hyper_params = hyper_params, \n",
    "                       search_criteria = search_criteria, stopping_metric = \"AUC\", \n",
    "                       stopping_tolerance = 1e-5, stopping_rounds = 5, max_iterations = 1000,\n",
    "                       seed = 1234)\n"
   ]
  },
  {
   "cell_type": "markdown",
   "metadata": {},
   "source": [
    "We have a grid of model results, now it is time to select the best one and extract it's hyperparameters"
   ]
  },
  {
   "cell_type": "code",
   "execution_count": 31,
   "metadata": {},
   "outputs": [],
   "source": [
    "models_glm_sort <- h2o.getGrid(grid_id = \"grd_glm\", sort_by = \"auc\", decreasing = TRUE)\n",
    "models_glm_best <- h2o.getModel(models_glm_sort@model_ids[[1]])"
   ]
  },
  {
   "cell_type": "code",
   "execution_count": 32,
   "metadata": {},
   "outputs": [
    {
     "data": {
      "text/html": [
       "<dl>\n",
       "\t<dt>$model_id</dt>\n",
       "\t\t<dd>'grd_glm_model_205'</dd>\n",
       "\t<dt>$nfolds</dt>\n",
       "\t\t<dd>0</dd>\n",
       "\t<dt>$seed</dt>\n",
       "\t\t<dd>1234</dd>\n",
       "\t<dt>$keep_cross_validation_models</dt>\n",
       "\t\t<dd>TRUE</dd>\n",
       "\t<dt>$keep_cross_validation_predictions</dt>\n",
       "\t\t<dd>FALSE</dd>\n",
       "\t<dt>$keep_cross_validation_fold_assignment</dt>\n",
       "\t\t<dd>FALSE</dd>\n",
       "\t<dt>$ignore_const_cols</dt>\n",
       "\t\t<dd>TRUE</dd>\n",
       "\t<dt>$score_each_iteration</dt>\n",
       "\t\t<dd>FALSE</dd>\n",
       "\t<dt>$score_iteration_interval</dt>\n",
       "\t\t<dd>-1</dd>\n",
       "\t<dt>$family</dt>\n",
       "\t\t<dd>'binomial'</dd>\n",
       "\t<dt>$tweedie_variance_power</dt>\n",
       "\t\t<dd>0</dd>\n",
       "\t<dt>$tweedie_link_power</dt>\n",
       "\t\t<dd>1</dd>\n",
       "\t<dt>$theta</dt>\n",
       "\t\t<dd>1e-10</dd>\n",
       "\t<dt>$solver</dt>\n",
       "\t\t<dd>'IRLSM'</dd>\n",
       "\t<dt>$alpha</dt>\n",
       "\t\t<dd>0.144</dd>\n",
       "\t<dt>$lambda</dt>\n",
       "\t\t<dd>0.005041</dd>\n",
       "\t<dt>$lambda_search</dt>\n",
       "\t\t<dd>FALSE</dd>\n",
       "\t<dt>$early_stopping</dt>\n",
       "\t\t<dd>TRUE</dd>\n",
       "\t<dt>$nlambdas</dt>\n",
       "\t\t<dd>-1</dd>\n",
       "\t<dt>$standardize</dt>\n",
       "\t\t<dd>TRUE</dd>\n",
       "\t<dt>$missing_values_handling</dt>\n",
       "\t\t<dd>'MeanImputation'</dd>\n",
       "\t<dt>$compute_p_values</dt>\n",
       "\t\t<dd>FALSE</dd>\n",
       "\t<dt>$remove_collinear_columns</dt>\n",
       "\t\t<dd>FALSE</dd>\n",
       "\t<dt>$intercept</dt>\n",
       "\t\t<dd>TRUE</dd>\n",
       "\t<dt>$non_negative</dt>\n",
       "\t\t<dd>FALSE</dd>\n",
       "\t<dt>$max_iterations</dt>\n",
       "\t\t<dd>100</dd>\n",
       "\t<dt>$objective_epsilon</dt>\n",
       "\t\t<dd>1e-04</dd>\n",
       "\t<dt>$beta_epsilon</dt>\n",
       "\t\t<dd>1e-04</dd>\n",
       "\t<dt>$gradient_epsilon</dt>\n",
       "\t\t<dd>1e-04</dd>\n",
       "\t<dt>$link</dt>\n",
       "\t\t<dd>'logit'</dd>\n",
       "\t<dt>$calc_like</dt>\n",
       "\t\t<dd>FALSE</dd>\n",
       "\t<dt>$HGLM</dt>\n",
       "\t\t<dd>FALSE</dd>\n",
       "\t<dt>$prior</dt>\n",
       "\t\t<dd>-1</dd>\n",
       "\t<dt>$cold_start</dt>\n",
       "\t\t<dd>FALSE</dd>\n",
       "\t<dt>$lambda_min_ratio</dt>\n",
       "\t\t<dd>1e-04</dd>\n",
       "\t<dt>$max_active_predictors</dt>\n",
       "\t\t<dd>5000</dd>\n",
       "\t<dt>$obj_reg</dt>\n",
       "\t\t<dd>0.000537345513164965</dd>\n",
       "\t<dt>$stopping_rounds</dt>\n",
       "\t\t<dd>5</dd>\n",
       "\t<dt>$stopping_metric</dt>\n",
       "\t\t<dd>'AUC'</dd>\n",
       "\t<dt>$stopping_tolerance</dt>\n",
       "\t\t<dd>1e-05</dd>\n",
       "\t<dt>$balance_classes</dt>\n",
       "\t\t<dd>FALSE</dd>\n",
       "\t<dt>$max_after_balance_size</dt>\n",
       "\t\t<dd>5</dd>\n",
       "\t<dt>$max_confusion_matrix_size</dt>\n",
       "\t\t<dd>20</dd>\n",
       "\t<dt>$max_hit_ratio_k</dt>\n",
       "\t\t<dd>0</dd>\n",
       "\t<dt>$max_runtime_secs</dt>\n",
       "\t\t<dd>35999.42</dd>\n",
       "\t<dt>$x</dt>\n",
       "\t\t<dd><style>\n",
       ".list-inline {list-style: none; margin:0; padding: 0}\n",
       ".list-inline>li {display: inline-block}\n",
       ".list-inline>li:not(:last-child)::after {content: \"\\00b7\"; padding: 0 .5ex}\n",
       "</style>\n",
       "<ol class=list-inline><li>'Age'</li><li>'DailyRate'</li><li>'DistanceFromHome'</li><li>'Education'</li><li>'EmployeeNumber'</li><li>'EnvironmentSatisfaction'</li><li>'HourlyRate'</li><li>'JobInvolvement'</li><li>'JobSatisfaction'</li><li>'MonthlyIncome'</li><li>'MonthlyRate'</li><li>'NumCompaniesWorked'</li><li>'PerformanceRating'</li><li>'RelationshipSatisfaction'</li><li>'StockOptionLevel'</li><li>'TrainingTimesLastYear'</li><li>'WorkLifeBalance'</li><li>'YearsInCurrentRole'</li><li>'YearsSinceLastPromotion'</li><li>'YearsWithCurrManager'</li><li>'JobLevel'</li><li>'PercentSalaryHike'</li><li>'TotalWorkingYears'</li><li>'YearsAtCompany'</li><li>'BusinessTravel_Non-Travel'</li><li>'BusinessTravel_Travel_Frequently'</li><li>'BusinessTravel_Travel_Rarely'</li><li>'Department_Human Resources'</li><li>'Department_Research &amp; Development'</li><li>'Department_Sales'</li><li>'EducationField_Human Resources'</li><li>'EducationField_Life Sciences'</li><li>'EducationField_Marketing'</li><li>'EducationField_Medical'</li><li>'EducationField_Other'</li><li>'EducationField_Technical Degree'</li><li>'Gender_Female'</li><li>'Gender_Male'</li><li>'JobRole_Healthcare Representative'</li><li>'JobRole_Human Resources'</li><li>'JobRole_Laboratory Technician'</li><li>'JobRole_Manager'</li><li>'JobRole_Manufacturing Director'</li><li>'JobRole_Research Director'</li><li>'JobRole_Research Scientist'</li><li>'JobRole_Sales Executive'</li><li>'JobRole_Sales Representative'</li><li>'MaritalStatus_Divorced'</li><li>'MaritalStatus_Married'</li><li>'MaritalStatus_Single'</li><li>'OverTime_No'</li><li>'OverTime_Yes'</li></ol>\n",
       "</dd>\n",
       "\t<dt>$y</dt>\n",
       "\t\t<dd>'Attrition'</dd>\n",
       "</dl>\n"
      ],
      "text/latex": [
       "\\begin{description}\n",
       "\\item[\\$model\\_id] 'grd\\_glm\\_model\\_205'\n",
       "\\item[\\$nfolds] 0\n",
       "\\item[\\$seed] 1234\n",
       "\\item[\\$keep\\_cross\\_validation\\_models] TRUE\n",
       "\\item[\\$keep\\_cross\\_validation\\_predictions] FALSE\n",
       "\\item[\\$keep\\_cross\\_validation\\_fold\\_assignment] FALSE\n",
       "\\item[\\$ignore\\_const\\_cols] TRUE\n",
       "\\item[\\$score\\_each\\_iteration] FALSE\n",
       "\\item[\\$score\\_iteration\\_interval] -1\n",
       "\\item[\\$family] 'binomial'\n",
       "\\item[\\$tweedie\\_variance\\_power] 0\n",
       "\\item[\\$tweedie\\_link\\_power] 1\n",
       "\\item[\\$theta] 1e-10\n",
       "\\item[\\$solver] 'IRLSM'\n",
       "\\item[\\$alpha] 0.144\n",
       "\\item[\\$lambda] 0.005041\n",
       "\\item[\\$lambda\\_search] FALSE\n",
       "\\item[\\$early\\_stopping] TRUE\n",
       "\\item[\\$nlambdas] -1\n",
       "\\item[\\$standardize] TRUE\n",
       "\\item[\\$missing\\_values\\_handling] 'MeanImputation'\n",
       "\\item[\\$compute\\_p\\_values] FALSE\n",
       "\\item[\\$remove\\_collinear\\_columns] FALSE\n",
       "\\item[\\$intercept] TRUE\n",
       "\\item[\\$non\\_negative] FALSE\n",
       "\\item[\\$max\\_iterations] 100\n",
       "\\item[\\$objective\\_epsilon] 1e-04\n",
       "\\item[\\$beta\\_epsilon] 1e-04\n",
       "\\item[\\$gradient\\_epsilon] 1e-04\n",
       "\\item[\\$link] 'logit'\n",
       "\\item[\\$calc\\_like] FALSE\n",
       "\\item[\\$HGLM] FALSE\n",
       "\\item[\\$prior] -1\n",
       "\\item[\\$cold\\_start] FALSE\n",
       "\\item[\\$lambda\\_min\\_ratio] 1e-04\n",
       "\\item[\\$max\\_active\\_predictors] 5000\n",
       "\\item[\\$obj\\_reg] 0.000537345513164965\n",
       "\\item[\\$stopping\\_rounds] 5\n",
       "\\item[\\$stopping\\_metric] 'AUC'\n",
       "\\item[\\$stopping\\_tolerance] 1e-05\n",
       "\\item[\\$balance\\_classes] FALSE\n",
       "\\item[\\$max\\_after\\_balance\\_size] 5\n",
       "\\item[\\$max\\_confusion\\_matrix\\_size] 20\n",
       "\\item[\\$max\\_hit\\_ratio\\_k] 0\n",
       "\\item[\\$max\\_runtime\\_secs] 35999.42\n",
       "\\item[\\$x] \\begin{enumerate*}\n",
       "\\item 'Age'\n",
       "\\item 'DailyRate'\n",
       "\\item 'DistanceFromHome'\n",
       "\\item 'Education'\n",
       "\\item 'EmployeeNumber'\n",
       "\\item 'EnvironmentSatisfaction'\n",
       "\\item 'HourlyRate'\n",
       "\\item 'JobInvolvement'\n",
       "\\item 'JobSatisfaction'\n",
       "\\item 'MonthlyIncome'\n",
       "\\item 'MonthlyRate'\n",
       "\\item 'NumCompaniesWorked'\n",
       "\\item 'PerformanceRating'\n",
       "\\item 'RelationshipSatisfaction'\n",
       "\\item 'StockOptionLevel'\n",
       "\\item 'TrainingTimesLastYear'\n",
       "\\item 'WorkLifeBalance'\n",
       "\\item 'YearsInCurrentRole'\n",
       "\\item 'YearsSinceLastPromotion'\n",
       "\\item 'YearsWithCurrManager'\n",
       "\\item 'JobLevel'\n",
       "\\item 'PercentSalaryHike'\n",
       "\\item 'TotalWorkingYears'\n",
       "\\item 'YearsAtCompany'\n",
       "\\item 'BusinessTravel\\_Non-Travel'\n",
       "\\item 'BusinessTravel\\_Travel\\_Frequently'\n",
       "\\item 'BusinessTravel\\_Travel\\_Rarely'\n",
       "\\item 'Department\\_Human Resources'\n",
       "\\item 'Department\\_Research \\& Development'\n",
       "\\item 'Department\\_Sales'\n",
       "\\item 'EducationField\\_Human Resources'\n",
       "\\item 'EducationField\\_Life Sciences'\n",
       "\\item 'EducationField\\_Marketing'\n",
       "\\item 'EducationField\\_Medical'\n",
       "\\item 'EducationField\\_Other'\n",
       "\\item 'EducationField\\_Technical Degree'\n",
       "\\item 'Gender\\_Female'\n",
       "\\item 'Gender\\_Male'\n",
       "\\item 'JobRole\\_Healthcare Representative'\n",
       "\\item 'JobRole\\_Human Resources'\n",
       "\\item 'JobRole\\_Laboratory Technician'\n",
       "\\item 'JobRole\\_Manager'\n",
       "\\item 'JobRole\\_Manufacturing Director'\n",
       "\\item 'JobRole\\_Research Director'\n",
       "\\item 'JobRole\\_Research Scientist'\n",
       "\\item 'JobRole\\_Sales Executive'\n",
       "\\item 'JobRole\\_Sales Representative'\n",
       "\\item 'MaritalStatus\\_Divorced'\n",
       "\\item 'MaritalStatus\\_Married'\n",
       "\\item 'MaritalStatus\\_Single'\n",
       "\\item 'OverTime\\_No'\n",
       "\\item 'OverTime\\_Yes'\n",
       "\\end{enumerate*}\n",
       "\n",
       "\\item[\\$y] 'Attrition'\n",
       "\\end{description}\n"
      ],
      "text/markdown": [
       "$model_id\n",
       ":   'grd_glm_model_205'\n",
       "$nfolds\n",
       ":   0\n",
       "$seed\n",
       ":   1234\n",
       "$keep_cross_validation_models\n",
       ":   TRUE\n",
       "$keep_cross_validation_predictions\n",
       ":   FALSE\n",
       "$keep_cross_validation_fold_assignment\n",
       ":   FALSE\n",
       "$ignore_const_cols\n",
       ":   TRUE\n",
       "$score_each_iteration\n",
       ":   FALSE\n",
       "$score_iteration_interval\n",
       ":   -1\n",
       "$family\n",
       ":   'binomial'\n",
       "$tweedie_variance_power\n",
       ":   0\n",
       "$tweedie_link_power\n",
       ":   1\n",
       "$theta\n",
       ":   1e-10\n",
       "$solver\n",
       ":   'IRLSM'\n",
       "$alpha\n",
       ":   0.144\n",
       "$lambda\n",
       ":   0.005041\n",
       "$lambda_search\n",
       ":   FALSE\n",
       "$early_stopping\n",
       ":   TRUE\n",
       "$nlambdas\n",
       ":   -1\n",
       "$standardize\n",
       ":   TRUE\n",
       "$missing_values_handling\n",
       ":   'MeanImputation'\n",
       "$compute_p_values\n",
       ":   FALSE\n",
       "$remove_collinear_columns\n",
       ":   FALSE\n",
       "$intercept\n",
       ":   TRUE\n",
       "$non_negative\n",
       ":   FALSE\n",
       "$max_iterations\n",
       ":   100\n",
       "$objective_epsilon\n",
       ":   1e-04\n",
       "$beta_epsilon\n",
       ":   1e-04\n",
       "$gradient_epsilon\n",
       ":   1e-04\n",
       "$link\n",
       ":   'logit'\n",
       "$calc_like\n",
       ":   FALSE\n",
       "$HGLM\n",
       ":   FALSE\n",
       "$prior\n",
       ":   -1\n",
       "$cold_start\n",
       ":   FALSE\n",
       "$lambda_min_ratio\n",
       ":   1e-04\n",
       "$max_active_predictors\n",
       ":   5000\n",
       "$obj_reg\n",
       ":   0.000537345513164965\n",
       "$stopping_rounds\n",
       ":   5\n",
       "$stopping_metric\n",
       ":   'AUC'\n",
       "$stopping_tolerance\n",
       ":   1e-05\n",
       "$balance_classes\n",
       ":   FALSE\n",
       "$max_after_balance_size\n",
       ":   5\n",
       "$max_confusion_matrix_size\n",
       ":   20\n",
       "$max_hit_ratio_k\n",
       ":   0\n",
       "$max_runtime_secs\n",
       ":   35999.42\n",
       "$x\n",
       ":   1. 'Age'\n",
       "2. 'DailyRate'\n",
       "3. 'DistanceFromHome'\n",
       "4. 'Education'\n",
       "5. 'EmployeeNumber'\n",
       "6. 'EnvironmentSatisfaction'\n",
       "7. 'HourlyRate'\n",
       "8. 'JobInvolvement'\n",
       "9. 'JobSatisfaction'\n",
       "10. 'MonthlyIncome'\n",
       "11. 'MonthlyRate'\n",
       "12. 'NumCompaniesWorked'\n",
       "13. 'PerformanceRating'\n",
       "14. 'RelationshipSatisfaction'\n",
       "15. 'StockOptionLevel'\n",
       "16. 'TrainingTimesLastYear'\n",
       "17. 'WorkLifeBalance'\n",
       "18. 'YearsInCurrentRole'\n",
       "19. 'YearsSinceLastPromotion'\n",
       "20. 'YearsWithCurrManager'\n",
       "21. 'JobLevel'\n",
       "22. 'PercentSalaryHike'\n",
       "23. 'TotalWorkingYears'\n",
       "24. 'YearsAtCompany'\n",
       "25. 'BusinessTravel_Non-Travel'\n",
       "26. 'BusinessTravel_Travel_Frequently'\n",
       "27. 'BusinessTravel_Travel_Rarely'\n",
       "28. 'Department_Human Resources'\n",
       "29. 'Department_Research &amp; Development'\n",
       "30. 'Department_Sales'\n",
       "31. 'EducationField_Human Resources'\n",
       "32. 'EducationField_Life Sciences'\n",
       "33. 'EducationField_Marketing'\n",
       "34. 'EducationField_Medical'\n",
       "35. 'EducationField_Other'\n",
       "36. 'EducationField_Technical Degree'\n",
       "37. 'Gender_Female'\n",
       "38. 'Gender_Male'\n",
       "39. 'JobRole_Healthcare Representative'\n",
       "40. 'JobRole_Human Resources'\n",
       "41. 'JobRole_Laboratory Technician'\n",
       "42. 'JobRole_Manager'\n",
       "43. 'JobRole_Manufacturing Director'\n",
       "44. 'JobRole_Research Director'\n",
       "45. 'JobRole_Research Scientist'\n",
       "46. 'JobRole_Sales Executive'\n",
       "47. 'JobRole_Sales Representative'\n",
       "48. 'MaritalStatus_Divorced'\n",
       "49. 'MaritalStatus_Married'\n",
       "50. 'MaritalStatus_Single'\n",
       "51. 'OverTime_No'\n",
       "52. 'OverTime_Yes'\n",
       "\n",
       "\n",
       "\n",
       "$y\n",
       ":   'Attrition'\n",
       "\n",
       "\n"
      ],
      "text/plain": [
       "$model_id\n",
       "[1] \"grd_glm_model_205\"\n",
       "\n",
       "$nfolds\n",
       "[1] 0\n",
       "\n",
       "$seed\n",
       "[1] 1234\n",
       "\n",
       "$keep_cross_validation_models\n",
       "[1] TRUE\n",
       "\n",
       "$keep_cross_validation_predictions\n",
       "[1] FALSE\n",
       "\n",
       "$keep_cross_validation_fold_assignment\n",
       "[1] FALSE\n",
       "\n",
       "$ignore_const_cols\n",
       "[1] TRUE\n",
       "\n",
       "$score_each_iteration\n",
       "[1] FALSE\n",
       "\n",
       "$score_iteration_interval\n",
       "[1] -1\n",
       "\n",
       "$family\n",
       "[1] \"binomial\"\n",
       "\n",
       "$tweedie_variance_power\n",
       "[1] 0\n",
       "\n",
       "$tweedie_link_power\n",
       "[1] 1\n",
       "\n",
       "$theta\n",
       "[1] 1e-10\n",
       "\n",
       "$solver\n",
       "[1] \"IRLSM\"\n",
       "\n",
       "$alpha\n",
       "[1] 0.144\n",
       "\n",
       "$lambda\n",
       "[1] 0.005041\n",
       "\n",
       "$lambda_search\n",
       "[1] FALSE\n",
       "\n",
       "$early_stopping\n",
       "[1] TRUE\n",
       "\n",
       "$nlambdas\n",
       "[1] -1\n",
       "\n",
       "$standardize\n",
       "[1] TRUE\n",
       "\n",
       "$missing_values_handling\n",
       "[1] \"MeanImputation\"\n",
       "\n",
       "$compute_p_values\n",
       "[1] FALSE\n",
       "\n",
       "$remove_collinear_columns\n",
       "[1] FALSE\n",
       "\n",
       "$intercept\n",
       "[1] TRUE\n",
       "\n",
       "$non_negative\n",
       "[1] FALSE\n",
       "\n",
       "$max_iterations\n",
       "[1] 100\n",
       "\n",
       "$objective_epsilon\n",
       "[1] 1e-04\n",
       "\n",
       "$beta_epsilon\n",
       "[1] 1e-04\n",
       "\n",
       "$gradient_epsilon\n",
       "[1] 1e-04\n",
       "\n",
       "$link\n",
       "[1] \"logit\"\n",
       "\n",
       "$calc_like\n",
       "[1] FALSE\n",
       "\n",
       "$HGLM\n",
       "[1] FALSE\n",
       "\n",
       "$prior\n",
       "[1] -1\n",
       "\n",
       "$cold_start\n",
       "[1] FALSE\n",
       "\n",
       "$lambda_min_ratio\n",
       "[1] 1e-04\n",
       "\n",
       "$max_active_predictors\n",
       "[1] 5000\n",
       "\n",
       "$obj_reg\n",
       "[1] 0.0005373455\n",
       "\n",
       "$stopping_rounds\n",
       "[1] 5\n",
       "\n",
       "$stopping_metric\n",
       "[1] \"AUC\"\n",
       "\n",
       "$stopping_tolerance\n",
       "[1] 1e-05\n",
       "\n",
       "$balance_classes\n",
       "[1] FALSE\n",
       "\n",
       "$max_after_balance_size\n",
       "[1] 5\n",
       "\n",
       "$max_confusion_matrix_size\n",
       "[1] 20\n",
       "\n",
       "$max_hit_ratio_k\n",
       "[1] 0\n",
       "\n",
       "$max_runtime_secs\n",
       "[1] 35999.42\n",
       "\n",
       "$x\n",
       " [1] \"Age\"                               \"DailyRate\"                        \n",
       " [3] \"DistanceFromHome\"                  \"Education\"                        \n",
       " [5] \"EmployeeNumber\"                    \"EnvironmentSatisfaction\"          \n",
       " [7] \"HourlyRate\"                        \"JobInvolvement\"                   \n",
       " [9] \"JobSatisfaction\"                   \"MonthlyIncome\"                    \n",
       "[11] \"MonthlyRate\"                       \"NumCompaniesWorked\"               \n",
       "[13] \"PerformanceRating\"                 \"RelationshipSatisfaction\"         \n",
       "[15] \"StockOptionLevel\"                  \"TrainingTimesLastYear\"            \n",
       "[17] \"WorkLifeBalance\"                   \"YearsInCurrentRole\"               \n",
       "[19] \"YearsSinceLastPromotion\"           \"YearsWithCurrManager\"             \n",
       "[21] \"JobLevel\"                          \"PercentSalaryHike\"                \n",
       "[23] \"TotalWorkingYears\"                 \"YearsAtCompany\"                   \n",
       "[25] \"BusinessTravel_Non-Travel\"         \"BusinessTravel_Travel_Frequently\" \n",
       "[27] \"BusinessTravel_Travel_Rarely\"      \"Department_Human Resources\"       \n",
       "[29] \"Department_Research & Development\" \"Department_Sales\"                 \n",
       "[31] \"EducationField_Human Resources\"    \"EducationField_Life Sciences\"     \n",
       "[33] \"EducationField_Marketing\"          \"EducationField_Medical\"           \n",
       "[35] \"EducationField_Other\"              \"EducationField_Technical Degree\"  \n",
       "[37] \"Gender_Female\"                     \"Gender_Male\"                      \n",
       "[39] \"JobRole_Healthcare Representative\" \"JobRole_Human Resources\"          \n",
       "[41] \"JobRole_Laboratory Technician\"     \"JobRole_Manager\"                  \n",
       "[43] \"JobRole_Manufacturing Director\"    \"JobRole_Research Director\"        \n",
       "[45] \"JobRole_Research Scientist\"        \"JobRole_Sales Executive\"          \n",
       "[47] \"JobRole_Sales Representative\"      \"MaritalStatus_Divorced\"           \n",
       "[49] \"MaritalStatus_Married\"             \"MaritalStatus_Single\"             \n",
       "[51] \"OverTime_No\"                       \"OverTime_Yes\"                     \n",
       "\n",
       "$y\n",
       "[1] \"Attrition\"\n"
      ]
     },
     "metadata": {},
     "output_type": "display_data"
    }
   ],
   "source": [
    "# Parameter values for the best model\n",
    "models_glm_best@allparameters"
   ]
  },
  {
   "cell_type": "code",
   "execution_count": 33,
   "metadata": {},
   "outputs": [
    {
     "data": {
      "text/html": [
       "0.880777159348588"
      ],
      "text/latex": [
       "0.880777159348588"
      ],
      "text/markdown": [
       "0.880777159348588"
      ],
      "text/plain": [
       "[1] 0.8807772"
      ]
     },
     "metadata": {},
     "output_type": "display_data"
    }
   ],
   "source": [
    "# Gets the metrics for the best model\n",
    "models_glm_best@model$validation_metrics@metrics$AUC"
   ]
  },
  {
   "cell_type": "markdown",
   "metadata": {},
   "source": [
    "We can also now actually plot the performance of our model using h2o!"
   ]
  },
  {
   "cell_type": "code",
   "execution_count": 34,
   "metadata": {},
   "outputs": [
    {
     "data": {
      "image/png": "[encoded data removed]",
      "text/plain": [
       "Plot with title “ROC Curve for Best Logistic Regression Model”"
      ]
     },
     "metadata": {
      "image/png": {
       "height": 420,
       "width": 420
      }
     },
     "output_type": "display_data"
    }
   ],
   "source": [
    "perf_glm_best <- h2o.performance(models_glm_best, valid)\n",
    "plot(perf_glm_best, type=\"roc\", main=\"ROC Curve for Best Logistic Regression Model\")"
   ]
  },
  {
   "cell_type": "markdown",
   "metadata": {},
   "source": [
    "We can also find which variables were the most important for this model!"
   ]
  },
  {
   "cell_type": "code",
   "execution_count": 35,
   "metadata": {},
   "outputs": [
    {
     "data": {
      "text/html": [
       "<table>\n",
       "<caption>A data.frame: 52 × 4</caption>\n",
       "<thead>\n",
       "\t<tr><th scope=col>variable</th><th scope=col>relative_importance</th><th scope=col>scaled_importance</th><th scope=col>percentage</th></tr>\n",
       "\t<tr><th scope=col>&lt;chr&gt;</th><th scope=col>&lt;dbl&gt;</th><th scope=col>&lt;dbl&gt;</th><th scope=col>&lt;dbl&gt;</th></tr>\n",
       "</thead>\n",
       "<tbody>\n",
       "\t<tr><td>YearsWithCurrManager             </td><td>0.571179858</td><td>1.000000000</td><td>0.0497220891</td></tr>\n",
       "\t<tr><td>YearsAtCompany                   </td><td>0.540466557</td><td>0.946228319</td><td>0.0470484488</td></tr>\n",
       "\t<tr><td>TotalWorkingYears                </td><td>0.485536241</td><td>0.850058407</td><td>0.0422666799</td></tr>\n",
       "\t<tr><td>BusinessTravel_Non-Travel        </td><td>0.478557422</td><td>0.837840156</td><td>0.0416591629</td></tr>\n",
       "\t<tr><td>EnvironmentSatisfaction          </td><td>0.469903550</td><td>0.822689286</td><td>0.0409058300</td></tr>\n",
       "\t<tr><td>DistanceFromHome                 </td><td>0.439052967</td><td>0.768677257</td><td>0.0382202391</td></tr>\n",
       "\t<tr><td>MaritalStatus_Single             </td><td>0.438401736</td><td>0.767537107</td><td>0.0381635485</td></tr>\n",
       "\t<tr><td>OverTime_Yes                     </td><td>0.433170711</td><td>0.758378828</td><td>0.0377081797</td></tr>\n",
       "\t<tr><td>OverTime_No                      </td><td>0.433170711</td><td>0.758378828</td><td>0.0377081797</td></tr>\n",
       "\t<tr><td>NumCompaniesWorked               </td><td>0.424213300</td><td>0.742696533</td><td>0.0369284232</td></tr>\n",
       "\t<tr><td>JobSatisfaction                  </td><td>0.422494603</td><td>0.739687503</td><td>0.0367788079</td></tr>\n",
       "\t<tr><td>YearsSinceLastPromotion          </td><td>0.416514913</td><td>0.729218488</td><td>0.0362582667</td></tr>\n",
       "\t<tr><td>JobRole_Research Director        </td><td>0.400943992</td><td>0.701957512</td><td>0.0349027939</td></tr>\n",
       "\t<tr><td>JobInvolvement                   </td><td>0.377715053</td><td>0.661289168</td><td>0.0328806789</td></tr>\n",
       "\t<tr><td>PercentSalaryHike                </td><td>0.359180162</td><td>0.628838984</td><td>0.0312671880</td></tr>\n",
       "\t<tr><td>MaritalStatus_Divorced           </td><td>0.347952683</td><td>0.609182341</td><td>0.0302898186</td></tr>\n",
       "\t<tr><td>JobRole_Laboratory Technician    </td><td>0.345764440</td><td>0.605351249</td><td>0.0300993287</td></tr>\n",
       "\t<tr><td>YearsInCurrentRole               </td><td>0.306145945</td><td>0.535988692</td><td>0.0266504775</td></tr>\n",
       "\t<tr><td>TrainingTimesLastYear            </td><td>0.295115400</td><td>0.516676832</td><td>0.0256902515</td></tr>\n",
       "\t<tr><td>JobRole_Sales Representative     </td><td>0.254766614</td><td>0.446035711</td><td>0.0221778274</td></tr>\n",
       "\t<tr><td>RelationshipSatisfaction         </td><td>0.238460156</td><td>0.417486984</td><td>0.0207583250</td></tr>\n",
       "\t<tr><td>Department_Human Resources       </td><td>0.233549504</td><td>0.408889601</td><td>0.0203308452</td></tr>\n",
       "\t<tr><td>EducationField_Human Resources   </td><td>0.231029862</td><td>0.404478306</td><td>0.0201115064</td></tr>\n",
       "\t<tr><td>DailyRate                        </td><td>0.229100421</td><td>0.401100314</td><td>0.0199435456</td></tr>\n",
       "\t<tr><td>JobRole_Human Resources          </td><td>0.211306000</td><td>0.369946519</td><td>0.0183945138</td></tr>\n",
       "\t<tr><td>WorkLifeBalance                  </td><td>0.188027872</td><td>0.329192056</td><td>0.0163681167</td></tr>\n",
       "\t<tr><td>EducationField_Technical Degree  </td><td>0.183098994</td><td>0.320562764</td><td>0.0159390503</td></tr>\n",
       "\t<tr><td>BusinessTravel_Travel_Frequently </td><td>0.167802608</td><td>0.293782432</td><td>0.0146074763</td></tr>\n",
       "\t<tr><td>JobRole_Manufacturing Director   </td><td>0.163110967</td><td>0.285568486</td><td>0.0141990617</td></tr>\n",
       "\t<tr><td>JobRole_Healthcare Representative</td><td>0.151862982</td><td>0.265875941</td><td>0.0132199072</td></tr>\n",
       "\t<tr><td>Age                              </td><td>0.149147557</td><td>0.261121878</td><td>0.0129835253</td></tr>\n",
       "\t<tr><td>JobRole_Manager                  </td><td>0.147276681</td><td>0.257846419</td><td>0.0128206626</td></tr>\n",
       "\t<tr><td>Department_Sales                 </td><td>0.126424473</td><td>0.221339165</td><td>0.0110054457</td></tr>\n",
       "\t<tr><td>Gender_Male                      </td><td>0.115760107</td><td>0.202668398</td><td>0.0100770961</td></tr>\n",
       "\t<tr><td>Gender_Female                    </td><td>0.115760107</td><td>0.202668398</td><td>0.0100770961</td></tr>\n",
       "\t<tr><td>EducationField_Life Sciences     </td><td>0.112212699</td><td>0.196457732</td><td>0.0097682888</td></tr>\n",
       "\t<tr><td>JobRole_Research Scientist       </td><td>0.102229885</td><td>0.178980200</td><td>0.0088992694</td></tr>\n",
       "\t<tr><td>PerformanceRating                </td><td>0.087604054</td><td>0.153373850</td><td>0.0076260682</td></tr>\n",
       "\t<tr><td>EmployeeNumber                   </td><td>0.081908524</td><td>0.143402332</td><td>0.0071302635</td></tr>\n",
       "\t<tr><td>Education                        </td><td>0.071255280</td><td>0.124751038</td><td>0.0062028822</td></tr>\n",
       "\t<tr><td>HourlyRate                       </td><td>0.056032313</td><td>0.098099245</td><td>0.0048776994</td></tr>\n",
       "\t<tr><td>EducationField_Other             </td><td>0.039723601</td><td>0.069546572</td><td>0.0034580008</td></tr>\n",
       "\t<tr><td>MaritalStatus_Married            </td><td>0.039441912</td><td>0.069053401</td><td>0.0034334794</td></tr>\n",
       "\t<tr><td>MonthlyRate                      </td><td>0.005073477</td><td>0.008882452</td><td>0.0004416541</td></tr>\n",
       "\t<tr><td>MonthlyIncome                    </td><td>0.000000000</td><td>0.000000000</td><td>0.0000000000</td></tr>\n",
       "\t<tr><td>StockOptionLevel                 </td><td>0.000000000</td><td>0.000000000</td><td>0.0000000000</td></tr>\n",
       "\t<tr><td>JobLevel                         </td><td>0.000000000</td><td>0.000000000</td><td>0.0000000000</td></tr>\n",
       "\t<tr><td>BusinessTravel_Travel_Rarely     </td><td>0.000000000</td><td>0.000000000</td><td>0.0000000000</td></tr>\n",
       "\t<tr><td>Department_Research &amp; Development</td><td>0.000000000</td><td>0.000000000</td><td>0.0000000000</td></tr>\n",
       "\t<tr><td>EducationField_Marketing         </td><td>0.000000000</td><td>0.000000000</td><td>0.0000000000</td></tr>\n",
       "\t<tr><td>EducationField_Medical           </td><td>0.000000000</td><td>0.000000000</td><td>0.0000000000</td></tr>\n",
       "\t<tr><td>JobRole_Sales Executive          </td><td>0.000000000</td><td>0.000000000</td><td>0.0000000000</td></tr>\n",
       "</tbody>\n",
       "</table>\n"
      ],
      "text/latex": [
       "A data.frame: 52 × 4\n",
       "\\begin{tabular}{llll}\n",
       " variable & relative\\_importance & scaled\\_importance & percentage\\\\\n",
       " <chr> & <dbl> & <dbl> & <dbl>\\\\\n",
       "\\hline\n",
       "\t YearsWithCurrManager              & 0.571179858 & 1.000000000 & 0.0497220891\\\\\n",
       "\t YearsAtCompany                    & 0.540466557 & 0.946228319 & 0.0470484488\\\\\n",
       "\t TotalWorkingYears                 & 0.485536241 & 0.850058407 & 0.0422666799\\\\\n",
       "\t BusinessTravel\\_Non-Travel         & 0.478557422 & 0.837840156 & 0.0416591629\\\\\n",
       "\t EnvironmentSatisfaction           & 0.469903550 & 0.822689286 & 0.0409058300\\\\\n",
       "\t DistanceFromHome                  & 0.439052967 & 0.768677257 & 0.0382202391\\\\\n",
       "\t MaritalStatus\\_Single              & 0.438401736 & 0.767537107 & 0.0381635485\\\\\n",
       "\t OverTime\\_Yes                      & 0.433170711 & 0.758378828 & 0.0377081797\\\\\n",
       "\t OverTime\\_No                       & 0.433170711 & 0.758378828 & 0.0377081797\\\\\n",
       "\t NumCompaniesWorked                & 0.424213300 & 0.742696533 & 0.0369284232\\\\\n",
       "\t JobSatisfaction                   & 0.422494603 & 0.739687503 & 0.0367788079\\\\\n",
       "\t YearsSinceLastPromotion           & 0.416514913 & 0.729218488 & 0.0362582667\\\\\n",
       "\t JobRole\\_Research Director         & 0.400943992 & 0.701957512 & 0.0349027939\\\\\n",
       "\t JobInvolvement                    & 0.377715053 & 0.661289168 & 0.0328806789\\\\\n",
       "\t PercentSalaryHike                 & 0.359180162 & 0.628838984 & 0.0312671880\\\\\n",
       "\t MaritalStatus\\_Divorced            & 0.347952683 & 0.609182341 & 0.0302898186\\\\\n",
       "\t JobRole\\_Laboratory Technician     & 0.345764440 & 0.605351249 & 0.0300993287\\\\\n",
       "\t YearsInCurrentRole                & 0.306145945 & 0.535988692 & 0.0266504775\\\\\n",
       "\t TrainingTimesLastYear             & 0.295115400 & 0.516676832 & 0.0256902515\\\\\n",
       "\t JobRole\\_Sales Representative      & 0.254766614 & 0.446035711 & 0.0221778274\\\\\n",
       "\t RelationshipSatisfaction          & 0.238460156 & 0.417486984 & 0.0207583250\\\\\n",
       "\t Department\\_Human Resources        & 0.233549504 & 0.408889601 & 0.0203308452\\\\\n",
       "\t EducationField\\_Human Resources    & 0.231029862 & 0.404478306 & 0.0201115064\\\\\n",
       "\t DailyRate                         & 0.229100421 & 0.401100314 & 0.0199435456\\\\\n",
       "\t JobRole\\_Human Resources           & 0.211306000 & 0.369946519 & 0.0183945138\\\\\n",
       "\t WorkLifeBalance                   & 0.188027872 & 0.329192056 & 0.0163681167\\\\\n",
       "\t EducationField\\_Technical Degree   & 0.183098994 & 0.320562764 & 0.0159390503\\\\\n",
       "\t BusinessTravel\\_Travel\\_Frequently  & 0.167802608 & 0.293782432 & 0.0146074763\\\\\n",
       "\t JobRole\\_Manufacturing Director    & 0.163110967 & 0.285568486 & 0.0141990617\\\\\n",
       "\t JobRole\\_Healthcare Representative & 0.151862982 & 0.265875941 & 0.0132199072\\\\\n",
       "\t Age                               & 0.149147557 & 0.261121878 & 0.0129835253\\\\\n",
       "\t JobRole\\_Manager                   & 0.147276681 & 0.257846419 & 0.0128206626\\\\\n",
       "\t Department\\_Sales                  & 0.126424473 & 0.221339165 & 0.0110054457\\\\\n",
       "\t Gender\\_Male                       & 0.115760107 & 0.202668398 & 0.0100770961\\\\\n",
       "\t Gender\\_Female                     & 0.115760107 & 0.202668398 & 0.0100770961\\\\\n",
       "\t EducationField\\_Life Sciences      & 0.112212699 & 0.196457732 & 0.0097682888\\\\\n",
       "\t JobRole\\_Research Scientist        & 0.102229885 & 0.178980200 & 0.0088992694\\\\\n",
       "\t PerformanceRating                 & 0.087604054 & 0.153373850 & 0.0076260682\\\\\n",
       "\t EmployeeNumber                    & 0.081908524 & 0.143402332 & 0.0071302635\\\\\n",
       "\t Education                         & 0.071255280 & 0.124751038 & 0.0062028822\\\\\n",
       "\t HourlyRate                        & 0.056032313 & 0.098099245 & 0.0048776994\\\\\n",
       "\t EducationField\\_Other              & 0.039723601 & 0.069546572 & 0.0034580008\\\\\n",
       "\t MaritalStatus\\_Married             & 0.039441912 & 0.069053401 & 0.0034334794\\\\\n",
       "\t MonthlyRate                       & 0.005073477 & 0.008882452 & 0.0004416541\\\\\n",
       "\t MonthlyIncome                     & 0.000000000 & 0.000000000 & 0.0000000000\\\\\n",
       "\t StockOptionLevel                  & 0.000000000 & 0.000000000 & 0.0000000000\\\\\n",
       "\t JobLevel                          & 0.000000000 & 0.000000000 & 0.0000000000\\\\\n",
       "\t BusinessTravel\\_Travel\\_Rarely      & 0.000000000 & 0.000000000 & 0.0000000000\\\\\n",
       "\t Department\\_Research \\& Development & 0.000000000 & 0.000000000 & 0.0000000000\\\\\n",
       "\t EducationField\\_Marketing          & 0.000000000 & 0.000000000 & 0.0000000000\\\\\n",
       "\t EducationField\\_Medical            & 0.000000000 & 0.000000000 & 0.0000000000\\\\\n",
       "\t JobRole\\_Sales Executive           & 0.000000000 & 0.000000000 & 0.0000000000\\\\\n",
       "\\end{tabular}\n"
      ],
      "text/markdown": [
       "\n",
       "A data.frame: 52 × 4\n",
       "\n",
       "| variable &lt;chr&gt; | relative_importance &lt;dbl&gt; | scaled_importance &lt;dbl&gt; | percentage &lt;dbl&gt; |\n",
       "|---|---|---|---|\n",
       "| YearsWithCurrManager              | 0.571179858 | 1.000000000 | 0.0497220891 |\n",
       "| YearsAtCompany                    | 0.540466557 | 0.946228319 | 0.0470484488 |\n",
       "| TotalWorkingYears                 | 0.485536241 | 0.850058407 | 0.0422666799 |\n",
       "| BusinessTravel_Non-Travel         | 0.478557422 | 0.837840156 | 0.0416591629 |\n",
       "| EnvironmentSatisfaction           | 0.469903550 | 0.822689286 | 0.0409058300 |\n",
       "| DistanceFromHome                  | 0.439052967 | 0.768677257 | 0.0382202391 |\n",
       "| MaritalStatus_Single              | 0.438401736 | 0.767537107 | 0.0381635485 |\n",
       "| OverTime_Yes                      | 0.433170711 | 0.758378828 | 0.0377081797 |\n",
       "| OverTime_No                       | 0.433170711 | 0.758378828 | 0.0377081797 |\n",
       "| NumCompaniesWorked                | 0.424213300 | 0.742696533 | 0.0369284232 |\n",
       "| JobSatisfaction                   | 0.422494603 | 0.739687503 | 0.0367788079 |\n",
       "| YearsSinceLastPromotion           | 0.416514913 | 0.729218488 | 0.0362582667 |\n",
       "| JobRole_Research Director         | 0.400943992 | 0.701957512 | 0.0349027939 |\n",
       "| JobInvolvement                    | 0.377715053 | 0.661289168 | 0.0328806789 |\n",
       "| PercentSalaryHike                 | 0.359180162 | 0.628838984 | 0.0312671880 |\n",
       "| MaritalStatus_Divorced            | 0.347952683 | 0.609182341 | 0.0302898186 |\n",
       "| JobRole_Laboratory Technician     | 0.345764440 | 0.605351249 | 0.0300993287 |\n",
       "| YearsInCurrentRole                | 0.306145945 | 0.535988692 | 0.0266504775 |\n",
       "| TrainingTimesLastYear             | 0.295115400 | 0.516676832 | 0.0256902515 |\n",
       "| JobRole_Sales Representative      | 0.254766614 | 0.446035711 | 0.0221778274 |\n",
       "| RelationshipSatisfaction          | 0.238460156 | 0.417486984 | 0.0207583250 |\n",
       "| Department_Human Resources        | 0.233549504 | 0.408889601 | 0.0203308452 |\n",
       "| EducationField_Human Resources    | 0.231029862 | 0.404478306 | 0.0201115064 |\n",
       "| DailyRate                         | 0.229100421 | 0.401100314 | 0.0199435456 |\n",
       "| JobRole_Human Resources           | 0.211306000 | 0.369946519 | 0.0183945138 |\n",
       "| WorkLifeBalance                   | 0.188027872 | 0.329192056 | 0.0163681167 |\n",
       "| EducationField_Technical Degree   | 0.183098994 | 0.320562764 | 0.0159390503 |\n",
       "| BusinessTravel_Travel_Frequently  | 0.167802608 | 0.293782432 | 0.0146074763 |\n",
       "| JobRole_Manufacturing Director    | 0.163110967 | 0.285568486 | 0.0141990617 |\n",
       "| JobRole_Healthcare Representative | 0.151862982 | 0.265875941 | 0.0132199072 |\n",
       "| Age                               | 0.149147557 | 0.261121878 | 0.0129835253 |\n",
       "| JobRole_Manager                   | 0.147276681 | 0.257846419 | 0.0128206626 |\n",
       "| Department_Sales                  | 0.126424473 | 0.221339165 | 0.0110054457 |\n",
       "| Gender_Male                       | 0.115760107 | 0.202668398 | 0.0100770961 |\n",
       "| Gender_Female                     | 0.115760107 | 0.202668398 | 0.0100770961 |\n",
       "| EducationField_Life Sciences      | 0.112212699 | 0.196457732 | 0.0097682888 |\n",
       "| JobRole_Research Scientist        | 0.102229885 | 0.178980200 | 0.0088992694 |\n",
       "| PerformanceRating                 | 0.087604054 | 0.153373850 | 0.0076260682 |\n",
       "| EmployeeNumber                    | 0.081908524 | 0.143402332 | 0.0071302635 |\n",
       "| Education                         | 0.071255280 | 0.124751038 | 0.0062028822 |\n",
       "| HourlyRate                        | 0.056032313 | 0.098099245 | 0.0048776994 |\n",
       "| EducationField_Other              | 0.039723601 | 0.069546572 | 0.0034580008 |\n",
       "| MaritalStatus_Married             | 0.039441912 | 0.069053401 | 0.0034334794 |\n",
       "| MonthlyRate                       | 0.005073477 | 0.008882452 | 0.0004416541 |\n",
       "| MonthlyIncome                     | 0.000000000 | 0.000000000 | 0.0000000000 |\n",
       "| StockOptionLevel                  | 0.000000000 | 0.000000000 | 0.0000000000 |\n",
       "| JobLevel                          | 0.000000000 | 0.000000000 | 0.0000000000 |\n",
       "| BusinessTravel_Travel_Rarely      | 0.000000000 | 0.000000000 | 0.0000000000 |\n",
       "| Department_Research &amp; Development | 0.000000000 | 0.000000000 | 0.0000000000 |\n",
       "| EducationField_Marketing          | 0.000000000 | 0.000000000 | 0.0000000000 |\n",
       "| EducationField_Medical            | 0.000000000 | 0.000000000 | 0.0000000000 |\n",
       "| JobRole_Sales Executive           | 0.000000000 | 0.000000000 | 0.0000000000 |\n",
       "\n"
      ],
      "text/plain": [
       "   variable                          relative_importance scaled_importance\n",
       "1  YearsWithCurrManager              0.571179858         1.000000000      \n",
       "2  YearsAtCompany                    0.540466557         0.946228319      \n",
       "3  TotalWorkingYears                 0.485536241         0.850058407      \n",
       "4  BusinessTravel_Non-Travel         0.478557422         0.837840156      \n",
       "5  EnvironmentSatisfaction           0.469903550         0.822689286      \n",
       "6  DistanceFromHome                  0.439052967         0.768677257      \n",
       "7  MaritalStatus_Single              0.438401736         0.767537107      \n",
       "8  OverTime_Yes                      0.433170711         0.758378828      \n",
       "9  OverTime_No                       0.433170711         0.758378828      \n",
       "10 NumCompaniesWorked                0.424213300         0.742696533      \n",
       "11 JobSatisfaction                   0.422494603         0.739687503      \n",
       "12 YearsSinceLastPromotion           0.416514913         0.729218488      \n",
       "13 JobRole_Research Director         0.400943992         0.701957512      \n",
       "14 JobInvolvement                    0.377715053         0.661289168      \n",
       "15 PercentSalaryHike                 0.359180162         0.628838984      \n",
       "16 MaritalStatus_Divorced            0.347952683         0.609182341      \n",
       "17 JobRole_Laboratory Technician     0.345764440         0.605351249      \n",
       "18 YearsInCurrentRole                0.306145945         0.535988692      \n",
       "19 TrainingTimesLastYear             0.295115400         0.516676832      \n",
       "20 JobRole_Sales Representative      0.254766614         0.446035711      \n",
       "21 RelationshipSatisfaction          0.238460156         0.417486984      \n",
       "22 Department_Human Resources        0.233549504         0.408889601      \n",
       "23 EducationField_Human Resources    0.231029862         0.404478306      \n",
       "24 DailyRate                         0.229100421         0.401100314      \n",
       "25 JobRole_Human Resources           0.211306000         0.369946519      \n",
       "26 WorkLifeBalance                   0.188027872         0.329192056      \n",
       "27 EducationField_Technical Degree   0.183098994         0.320562764      \n",
       "28 BusinessTravel_Travel_Frequently  0.167802608         0.293782432      \n",
       "29 JobRole_Manufacturing Director    0.163110967         0.285568486      \n",
       "30 JobRole_Healthcare Representative 0.151862982         0.265875941      \n",
       "31 Age                               0.149147557         0.261121878      \n",
       "32 JobRole_Manager                   0.147276681         0.257846419      \n",
       "33 Department_Sales                  0.126424473         0.221339165      \n",
       "34 Gender_Male                       0.115760107         0.202668398      \n",
       "35 Gender_Female                     0.115760107         0.202668398      \n",
       "36 EducationField_Life Sciences      0.112212699         0.196457732      \n",
       "37 JobRole_Research Scientist        0.102229885         0.178980200      \n",
       "38 PerformanceRating                 0.087604054         0.153373850      \n",
       "39 EmployeeNumber                    0.081908524         0.143402332      \n",
       "40 Education                         0.071255280         0.124751038      \n",
       "41 HourlyRate                        0.056032313         0.098099245      \n",
       "42 EducationField_Other              0.039723601         0.069546572      \n",
       "43 MaritalStatus_Married             0.039441912         0.069053401      \n",
       "44 MonthlyRate                       0.005073477         0.008882452      \n",
       "45 MonthlyIncome                     0.000000000         0.000000000      \n",
       "46 StockOptionLevel                  0.000000000         0.000000000      \n",
       "47 JobLevel                          0.000000000         0.000000000      \n",
       "48 BusinessTravel_Travel_Rarely      0.000000000         0.000000000      \n",
       "49 Department_Research & Development 0.000000000         0.000000000      \n",
       "50 EducationField_Marketing          0.000000000         0.000000000      \n",
       "51 EducationField_Medical            0.000000000         0.000000000      \n",
       "52 JobRole_Sales Executive           0.000000000         0.000000000      \n",
       "   percentage  \n",
       "1  0.0497220891\n",
       "2  0.0470484488\n",
       "3  0.0422666799\n",
       "4  0.0416591629\n",
       "5  0.0409058300\n",
       "6  0.0382202391\n",
       "7  0.0381635485\n",
       "8  0.0377081797\n",
       "9  0.0377081797\n",
       "10 0.0369284232\n",
       "11 0.0367788079\n",
       "12 0.0362582667\n",
       "13 0.0349027939\n",
       "14 0.0328806789\n",
       "15 0.0312671880\n",
       "16 0.0302898186\n",
       "17 0.0300993287\n",
       "18 0.0266504775\n",
       "19 0.0256902515\n",
       "20 0.0221778274\n",
       "21 0.0207583250\n",
       "22 0.0203308452\n",
       "23 0.0201115064\n",
       "24 0.0199435456\n",
       "25 0.0183945138\n",
       "26 0.0163681167\n",
       "27 0.0159390503\n",
       "28 0.0146074763\n",
       "29 0.0141990617\n",
       "30 0.0132199072\n",
       "31 0.0129835253\n",
       "32 0.0128206626\n",
       "33 0.0110054457\n",
       "34 0.0100770961\n",
       "35 0.0100770961\n",
       "36 0.0097682888\n",
       "37 0.0088992694\n",
       "38 0.0076260682\n",
       "39 0.0071302635\n",
       "40 0.0062028822\n",
       "41 0.0048776994\n",
       "42 0.0034580008\n",
       "43 0.0034334794\n",
       "44 0.0004416541\n",
       "45 0.0000000000\n",
       "46 0.0000000000\n",
       "47 0.0000000000\n",
       "48 0.0000000000\n",
       "49 0.0000000000\n",
       "50 0.0000000000\n",
       "51 0.0000000000\n",
       "52 0.0000000000"
      ]
     },
     "metadata": {},
     "output_type": "display_data"
    }
   ],
   "source": [
    "#Variable importance\n",
    "h2o.varimp(models_glm_best)"
   ]
  },
  {
   "cell_type": "code",
   "execution_count": null,
   "metadata": {},
   "outputs": [],
   "source": []
  }
 ],
 "metadata": {
  "kernelspec": {
   "display_name": "R",
   "language": "R",
   "name": "ir"
  },
  "language_info": {
   "codemirror_mode": "r",
   "file_extension": ".r",
   "mimetype": "text/x-r-source",
   "name": "R",
   "pygments_lexer": "r",
   "version": "4.0.2"
  }
 },
 "nbformat": 4,
 "nbformat_minor": 2
}
