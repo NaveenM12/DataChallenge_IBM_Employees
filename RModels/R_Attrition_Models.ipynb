{
 "cells": [
  {
   "cell_type": "code",
   "execution_count": 1,
   "metadata": {},
   "outputs": [],
   "source": [
    "setwd(\"~/IBM_Attrition_DataChallenge/\") # sets proper working directory"
   ]
  },
  {
   "cell_type": "code",
   "execution_count": 2,
   "metadata": {},
   "outputs": [],
   "source": [
    "# import R libraries to use later\n",
    "suppressPackageStartupMessages(library('caret'))\n",
    "suppressPackageStartupMessages(library('mlbench'))\n",
    "suppressPackageStartupMessages(library(plyr))"
   ]
  },
  {
   "cell_type": "markdown",
   "metadata": {},
   "source": [
    "First read in the raw data. Then as a standard practice, return the first few rows to check the dataframe is correct."
   ]
  },
  {
   "cell_type": "code",
   "execution_count": 3,
   "metadata": {
    "scrolled": true
   },
   "outputs": [
    {
     "data": {
      "text/html": [
       "<table>\n",
       "<caption>A data.frame: 6 × 35</caption>\n",
       "<thead>\n",
       "\t<tr><th></th><th scope=col>Age</th><th scope=col>Attrition</th><th scope=col>BusinessTravel</th><th scope=col>DailyRate</th><th scope=col>Department</th><th scope=col>DistanceFromHome</th><th scope=col>Education</th><th scope=col>EducationField</th><th scope=col>EmployeeCount</th><th scope=col>EmployeeNumber</th><th scope=col>⋯</th><th scope=col>RelationshipSatisfaction</th><th scope=col>StandardHours</th><th scope=col>StockOptionLevel</th><th scope=col>TotalWorkingYears</th><th scope=col>TrainingTimesLastYear</th><th scope=col>WorkLifeBalance</th><th scope=col>YearsAtCompany</th><th scope=col>YearsInCurrentRole</th><th scope=col>YearsSinceLastPromotion</th><th scope=col>YearsWithCurrManager</th></tr>\n",
       "\t<tr><th></th><th scope=col>&lt;int&gt;</th><th scope=col>&lt;chr&gt;</th><th scope=col>&lt;chr&gt;</th><th scope=col>&lt;int&gt;</th><th scope=col>&lt;chr&gt;</th><th scope=col>&lt;int&gt;</th><th scope=col>&lt;int&gt;</th><th scope=col>&lt;chr&gt;</th><th scope=col>&lt;int&gt;</th><th scope=col>&lt;int&gt;</th><th scope=col>⋯</th><th scope=col>&lt;int&gt;</th><th scope=col>&lt;int&gt;</th><th scope=col>&lt;int&gt;</th><th scope=col>&lt;int&gt;</th><th scope=col>&lt;int&gt;</th><th scope=col>&lt;int&gt;</th><th scope=col>&lt;int&gt;</th><th scope=col>&lt;int&gt;</th><th scope=col>&lt;int&gt;</th><th scope=col>&lt;int&gt;</th></tr>\n",
       "</thead>\n",
       "<tbody>\n",
       "\t<tr><th scope=row>1</th><td>41</td><td>Yes</td><td>Travel_Rarely    </td><td>1102</td><td>Sales                 </td><td>1</td><td>2</td><td>Life Sciences</td><td>1</td><td>1</td><td>⋯</td><td>1</td><td>80</td><td>0</td><td> 8</td><td>0</td><td>1</td><td> 6</td><td>4</td><td>0</td><td>5</td></tr>\n",
       "\t<tr><th scope=row>2</th><td>49</td><td>No </td><td>Travel_Frequently</td><td> 279</td><td>Research &amp; Development</td><td>8</td><td>1</td><td>Life Sciences</td><td>1</td><td>2</td><td>⋯</td><td>4</td><td>80</td><td>1</td><td>10</td><td>3</td><td>3</td><td>10</td><td>7</td><td>1</td><td>7</td></tr>\n",
       "\t<tr><th scope=row>3</th><td>37</td><td>Yes</td><td><span style=white-space:pre-wrap>Travel_Rarely    </span></td><td>1373</td><td>Research &amp; Development</td><td>2</td><td>2</td><td><span style=white-space:pre-wrap>Other        </span></td><td>1</td><td>4</td><td>⋯</td><td>2</td><td>80</td><td>0</td><td> 7</td><td>3</td><td>3</td><td> 0</td><td>0</td><td>0</td><td>0</td></tr>\n",
       "\t<tr><th scope=row>4</th><td>33</td><td>No </td><td>Travel_Frequently</td><td>1392</td><td>Research &amp; Development</td><td>3</td><td>4</td><td>Life Sciences</td><td>1</td><td>5</td><td>⋯</td><td>3</td><td>80</td><td>0</td><td> 8</td><td>3</td><td>3</td><td> 8</td><td>7</td><td>3</td><td>0</td></tr>\n",
       "\t<tr><th scope=row>5</th><td>27</td><td>No </td><td><span style=white-space:pre-wrap>Travel_Rarely    </span></td><td> 591</td><td>Research &amp; Development</td><td>2</td><td>1</td><td><span style=white-space:pre-wrap>Medical      </span></td><td>1</td><td>7</td><td>⋯</td><td>4</td><td>80</td><td>1</td><td> 6</td><td>3</td><td>3</td><td> 2</td><td>2</td><td>2</td><td>2</td></tr>\n",
       "\t<tr><th scope=row>6</th><td>32</td><td>No </td><td>Travel_Frequently</td><td>1005</td><td>Research &amp; Development</td><td>2</td><td>2</td><td>Life Sciences</td><td>1</td><td>8</td><td>⋯</td><td>3</td><td>80</td><td>0</td><td> 8</td><td>2</td><td>2</td><td> 7</td><td>7</td><td>3</td><td>6</td></tr>\n",
       "</tbody>\n",
       "</table>\n"
      ],
      "text/latex": [
       "A data.frame: 6 × 35\n",
       "\\begin{tabular}{r|lllllllllllllllllllll}\n",
       "  & Age & Attrition & BusinessTravel & DailyRate & Department & DistanceFromHome & Education & EducationField & EmployeeCount & EmployeeNumber & ⋯ & RelationshipSatisfaction & StandardHours & StockOptionLevel & TotalWorkingYears & TrainingTimesLastYear & WorkLifeBalance & YearsAtCompany & YearsInCurrentRole & YearsSinceLastPromotion & YearsWithCurrManager\\\\\n",
       "  & <int> & <chr> & <chr> & <int> & <chr> & <int> & <int> & <chr> & <int> & <int> & ⋯ & <int> & <int> & <int> & <int> & <int> & <int> & <int> & <int> & <int> & <int>\\\\\n",
       "\\hline\n",
       "\t1 & 41 & Yes & Travel\\_Rarely     & 1102 & Sales                  & 1 & 2 & Life Sciences & 1 & 1 & ⋯ & 1 & 80 & 0 &  8 & 0 & 1 &  6 & 4 & 0 & 5\\\\\n",
       "\t2 & 49 & No  & Travel\\_Frequently &  279 & Research \\& Development & 8 & 1 & Life Sciences & 1 & 2 & ⋯ & 4 & 80 & 1 & 10 & 3 & 3 & 10 & 7 & 1 & 7\\\\\n",
       "\t3 & 37 & Yes & Travel\\_Rarely     & 1373 & Research \\& Development & 2 & 2 & Other         & 1 & 4 & ⋯ & 2 & 80 & 0 &  7 & 3 & 3 &  0 & 0 & 0 & 0\\\\\n",
       "\t4 & 33 & No  & Travel\\_Frequently & 1392 & Research \\& Development & 3 & 4 & Life Sciences & 1 & 5 & ⋯ & 3 & 80 & 0 &  8 & 3 & 3 &  8 & 7 & 3 & 0\\\\\n",
       "\t5 & 27 & No  & Travel\\_Rarely     &  591 & Research \\& Development & 2 & 1 & Medical       & 1 & 7 & ⋯ & 4 & 80 & 1 &  6 & 3 & 3 &  2 & 2 & 2 & 2\\\\\n",
       "\t6 & 32 & No  & Travel\\_Frequently & 1005 & Research \\& Development & 2 & 2 & Life Sciences & 1 & 8 & ⋯ & 3 & 80 & 0 &  8 & 2 & 2 &  7 & 7 & 3 & 6\\\\\n",
       "\\end{tabular}\n"
      ],
      "text/markdown": [
       "\n",
       "A data.frame: 6 × 35\n",
       "\n",
       "| <!--/--> | Age &lt;int&gt; | Attrition &lt;chr&gt; | BusinessTravel &lt;chr&gt; | DailyRate &lt;int&gt; | Department &lt;chr&gt; | DistanceFromHome &lt;int&gt; | Education &lt;int&gt; | EducationField &lt;chr&gt; | EmployeeCount &lt;int&gt; | EmployeeNumber &lt;int&gt; | ⋯ ⋯ | RelationshipSatisfaction &lt;int&gt; | StandardHours &lt;int&gt; | StockOptionLevel &lt;int&gt; | TotalWorkingYears &lt;int&gt; | TrainingTimesLastYear &lt;int&gt; | WorkLifeBalance &lt;int&gt; | YearsAtCompany &lt;int&gt; | YearsInCurrentRole &lt;int&gt; | YearsSinceLastPromotion &lt;int&gt; | YearsWithCurrManager &lt;int&gt; |\n",
       "|---|---|---|---|---|---|---|---|---|---|---|---|---|---|---|---|---|---|---|---|---|---|\n",
       "| 1 | 41 | Yes | Travel_Rarely     | 1102 | Sales                  | 1 | 2 | Life Sciences | 1 | 1 | ⋯ | 1 | 80 | 0 |  8 | 0 | 1 |  6 | 4 | 0 | 5 |\n",
       "| 2 | 49 | No  | Travel_Frequently |  279 | Research &amp; Development | 8 | 1 | Life Sciences | 1 | 2 | ⋯ | 4 | 80 | 1 | 10 | 3 | 3 | 10 | 7 | 1 | 7 |\n",
       "| 3 | 37 | Yes | Travel_Rarely     | 1373 | Research &amp; Development | 2 | 2 | Other         | 1 | 4 | ⋯ | 2 | 80 | 0 |  7 | 3 | 3 |  0 | 0 | 0 | 0 |\n",
       "| 4 | 33 | No  | Travel_Frequently | 1392 | Research &amp; Development | 3 | 4 | Life Sciences | 1 | 5 | ⋯ | 3 | 80 | 0 |  8 | 3 | 3 |  8 | 7 | 3 | 0 |\n",
       "| 5 | 27 | No  | Travel_Rarely     |  591 | Research &amp; Development | 2 | 1 | Medical       | 1 | 7 | ⋯ | 4 | 80 | 1 |  6 | 3 | 3 |  2 | 2 | 2 | 2 |\n",
       "| 6 | 32 | No  | Travel_Frequently | 1005 | Research &amp; Development | 2 | 2 | Life Sciences | 1 | 8 | ⋯ | 3 | 80 | 0 |  8 | 2 | 2 |  7 | 7 | 3 | 6 |\n",
       "\n"
      ],
      "text/plain": [
       "  Age Attrition BusinessTravel    DailyRate Department            \n",
       "1 41  Yes       Travel_Rarely     1102      Sales                 \n",
       "2 49  No        Travel_Frequently  279      Research & Development\n",
       "3 37  Yes       Travel_Rarely     1373      Research & Development\n",
       "4 33  No        Travel_Frequently 1392      Research & Development\n",
       "5 27  No        Travel_Rarely      591      Research & Development\n",
       "6 32  No        Travel_Frequently 1005      Research & Development\n",
       "  DistanceFromHome Education EducationField EmployeeCount EmployeeNumber ⋯\n",
       "1 1                2         Life Sciences  1             1              ⋯\n",
       "2 8                1         Life Sciences  1             2              ⋯\n",
       "3 2                2         Other          1             4              ⋯\n",
       "4 3                4         Life Sciences  1             5              ⋯\n",
       "5 2                1         Medical        1             7              ⋯\n",
       "6 2                2         Life Sciences  1             8              ⋯\n",
       "  RelationshipSatisfaction StandardHours StockOptionLevel TotalWorkingYears\n",
       "1 1                        80            0                 8               \n",
       "2 4                        80            1                10               \n",
       "3 2                        80            0                 7               \n",
       "4 3                        80            0                 8               \n",
       "5 4                        80            1                 6               \n",
       "6 3                        80            0                 8               \n",
       "  TrainingTimesLastYear WorkLifeBalance YearsAtCompany YearsInCurrentRole\n",
       "1 0                     1                6             4                 \n",
       "2 3                     3               10             7                 \n",
       "3 3                     3                0             0                 \n",
       "4 3                     3                8             7                 \n",
       "5 3                     3                2             2                 \n",
       "6 2                     2                7             7                 \n",
       "  YearsSinceLastPromotion YearsWithCurrManager\n",
       "1 0                       5                   \n",
       "2 1                       7                   \n",
       "3 0                       0                   \n",
       "4 3                       0                   \n",
       "5 2                       2                   \n",
       "6 3                       6                   "
      ]
     },
     "metadata": {},
     "output_type": "display_data"
    }
   ],
   "source": [
    "dataframe <- read.csv(file='WA_Fn-UseC_-HR-Employee-Attrition.csv') # IBM data is stored in variable 'dataframe'\n",
    "head(dataframe)"
   ]
  },
  {
   "cell_type": "markdown",
   "metadata": {},
   "source": [
    "We can realize there are four columns that are the same/arbitrary for each person, so we will remove these below."
   ]
  },
  {
   "cell_type": "code",
   "execution_count": 4,
   "metadata": {},
   "outputs": [
    {
     "data": {
      "text/html": [
       "<table>\n",
       "<caption>A data.frame: 6 × 32</caption>\n",
       "<thead>\n",
       "\t<tr><th></th><th scope=col>Age</th><th scope=col>Attrition</th><th scope=col>BusinessTravel</th><th scope=col>DailyRate</th><th scope=col>Department</th><th scope=col>DistanceFromHome</th><th scope=col>Education</th><th scope=col>EducationField</th><th scope=col>EmployeeNumber</th><th scope=col>EnvironmentSatisfaction</th><th scope=col>⋯</th><th scope=col>PerformanceRating</th><th scope=col>RelationshipSatisfaction</th><th scope=col>StockOptionLevel</th><th scope=col>TotalWorkingYears</th><th scope=col>TrainingTimesLastYear</th><th scope=col>WorkLifeBalance</th><th scope=col>YearsAtCompany</th><th scope=col>YearsInCurrentRole</th><th scope=col>YearsSinceLastPromotion</th><th scope=col>YearsWithCurrManager</th></tr>\n",
       "\t<tr><th></th><th scope=col>&lt;int&gt;</th><th scope=col>&lt;chr&gt;</th><th scope=col>&lt;chr&gt;</th><th scope=col>&lt;int&gt;</th><th scope=col>&lt;chr&gt;</th><th scope=col>&lt;int&gt;</th><th scope=col>&lt;int&gt;</th><th scope=col>&lt;chr&gt;</th><th scope=col>&lt;int&gt;</th><th scope=col>&lt;int&gt;</th><th scope=col>⋯</th><th scope=col>&lt;int&gt;</th><th scope=col>&lt;int&gt;</th><th scope=col>&lt;int&gt;</th><th scope=col>&lt;int&gt;</th><th scope=col>&lt;int&gt;</th><th scope=col>&lt;int&gt;</th><th scope=col>&lt;int&gt;</th><th scope=col>&lt;int&gt;</th><th scope=col>&lt;int&gt;</th><th scope=col>&lt;int&gt;</th></tr>\n",
       "</thead>\n",
       "<tbody>\n",
       "\t<tr><th scope=row>1</th><td>41</td><td>Yes</td><td>Travel_Rarely    </td><td>1102</td><td>Sales                 </td><td>1</td><td>2</td><td>Life Sciences</td><td>1</td><td>2</td><td>⋯</td><td>3</td><td>1</td><td>0</td><td> 8</td><td>0</td><td>1</td><td> 6</td><td>4</td><td>0</td><td>5</td></tr>\n",
       "\t<tr><th scope=row>2</th><td>49</td><td>No </td><td>Travel_Frequently</td><td> 279</td><td>Research &amp; Development</td><td>8</td><td>1</td><td>Life Sciences</td><td>2</td><td>3</td><td>⋯</td><td>4</td><td>4</td><td>1</td><td>10</td><td>3</td><td>3</td><td>10</td><td>7</td><td>1</td><td>7</td></tr>\n",
       "\t<tr><th scope=row>3</th><td>37</td><td>Yes</td><td><span style=white-space:pre-wrap>Travel_Rarely    </span></td><td>1373</td><td>Research &amp; Development</td><td>2</td><td>2</td><td><span style=white-space:pre-wrap>Other        </span></td><td>4</td><td>4</td><td>⋯</td><td>3</td><td>2</td><td>0</td><td> 7</td><td>3</td><td>3</td><td> 0</td><td>0</td><td>0</td><td>0</td></tr>\n",
       "\t<tr><th scope=row>4</th><td>33</td><td>No </td><td>Travel_Frequently</td><td>1392</td><td>Research &amp; Development</td><td>3</td><td>4</td><td>Life Sciences</td><td>5</td><td>4</td><td>⋯</td><td>3</td><td>3</td><td>0</td><td> 8</td><td>3</td><td>3</td><td> 8</td><td>7</td><td>3</td><td>0</td></tr>\n",
       "\t<tr><th scope=row>5</th><td>27</td><td>No </td><td><span style=white-space:pre-wrap>Travel_Rarely    </span></td><td> 591</td><td>Research &amp; Development</td><td>2</td><td>1</td><td><span style=white-space:pre-wrap>Medical      </span></td><td>7</td><td>1</td><td>⋯</td><td>3</td><td>4</td><td>1</td><td> 6</td><td>3</td><td>3</td><td> 2</td><td>2</td><td>2</td><td>2</td></tr>\n",
       "\t<tr><th scope=row>6</th><td>32</td><td>No </td><td>Travel_Frequently</td><td>1005</td><td>Research &amp; Development</td><td>2</td><td>2</td><td>Life Sciences</td><td>8</td><td>4</td><td>⋯</td><td>3</td><td>3</td><td>0</td><td> 8</td><td>2</td><td>2</td><td> 7</td><td>7</td><td>3</td><td>6</td></tr>\n",
       "</tbody>\n",
       "</table>\n"
      ],
      "text/latex": [
       "A data.frame: 6 × 32\n",
       "\\begin{tabular}{r|lllllllllllllllllllll}\n",
       "  & Age & Attrition & BusinessTravel & DailyRate & Department & DistanceFromHome & Education & EducationField & EmployeeNumber & EnvironmentSatisfaction & ⋯ & PerformanceRating & RelationshipSatisfaction & StockOptionLevel & TotalWorkingYears & TrainingTimesLastYear & WorkLifeBalance & YearsAtCompany & YearsInCurrentRole & YearsSinceLastPromotion & YearsWithCurrManager\\\\\n",
       "  & <int> & <chr> & <chr> & <int> & <chr> & <int> & <int> & <chr> & <int> & <int> & ⋯ & <int> & <int> & <int> & <int> & <int> & <int> & <int> & <int> & <int> & <int>\\\\\n",
       "\\hline\n",
       "\t1 & 41 & Yes & Travel\\_Rarely     & 1102 & Sales                  & 1 & 2 & Life Sciences & 1 & 2 & ⋯ & 3 & 1 & 0 &  8 & 0 & 1 &  6 & 4 & 0 & 5\\\\\n",
       "\t2 & 49 & No  & Travel\\_Frequently &  279 & Research \\& Development & 8 & 1 & Life Sciences & 2 & 3 & ⋯ & 4 & 4 & 1 & 10 & 3 & 3 & 10 & 7 & 1 & 7\\\\\n",
       "\t3 & 37 & Yes & Travel\\_Rarely     & 1373 & Research \\& Development & 2 & 2 & Other         & 4 & 4 & ⋯ & 3 & 2 & 0 &  7 & 3 & 3 &  0 & 0 & 0 & 0\\\\\n",
       "\t4 & 33 & No  & Travel\\_Frequently & 1392 & Research \\& Development & 3 & 4 & Life Sciences & 5 & 4 & ⋯ & 3 & 3 & 0 &  8 & 3 & 3 &  8 & 7 & 3 & 0\\\\\n",
       "\t5 & 27 & No  & Travel\\_Rarely     &  591 & Research \\& Development & 2 & 1 & Medical       & 7 & 1 & ⋯ & 3 & 4 & 1 &  6 & 3 & 3 &  2 & 2 & 2 & 2\\\\\n",
       "\t6 & 32 & No  & Travel\\_Frequently & 1005 & Research \\& Development & 2 & 2 & Life Sciences & 8 & 4 & ⋯ & 3 & 3 & 0 &  8 & 2 & 2 &  7 & 7 & 3 & 6\\\\\n",
       "\\end{tabular}\n"
      ],
      "text/markdown": [
       "\n",
       "A data.frame: 6 × 32\n",
       "\n",
       "| <!--/--> | Age &lt;int&gt; | Attrition &lt;chr&gt; | BusinessTravel &lt;chr&gt; | DailyRate &lt;int&gt; | Department &lt;chr&gt; | DistanceFromHome &lt;int&gt; | Education &lt;int&gt; | EducationField &lt;chr&gt; | EmployeeNumber &lt;int&gt; | EnvironmentSatisfaction &lt;int&gt; | ⋯ ⋯ | PerformanceRating &lt;int&gt; | RelationshipSatisfaction &lt;int&gt; | StockOptionLevel &lt;int&gt; | TotalWorkingYears &lt;int&gt; | TrainingTimesLastYear &lt;int&gt; | WorkLifeBalance &lt;int&gt; | YearsAtCompany &lt;int&gt; | YearsInCurrentRole &lt;int&gt; | YearsSinceLastPromotion &lt;int&gt; | YearsWithCurrManager &lt;int&gt; |\n",
       "|---|---|---|---|---|---|---|---|---|---|---|---|---|---|---|---|---|---|---|---|---|---|\n",
       "| 1 | 41 | Yes | Travel_Rarely     | 1102 | Sales                  | 1 | 2 | Life Sciences | 1 | 2 | ⋯ | 3 | 1 | 0 |  8 | 0 | 1 |  6 | 4 | 0 | 5 |\n",
       "| 2 | 49 | No  | Travel_Frequently |  279 | Research &amp; Development | 8 | 1 | Life Sciences | 2 | 3 | ⋯ | 4 | 4 | 1 | 10 | 3 | 3 | 10 | 7 | 1 | 7 |\n",
       "| 3 | 37 | Yes | Travel_Rarely     | 1373 | Research &amp; Development | 2 | 2 | Other         | 4 | 4 | ⋯ | 3 | 2 | 0 |  7 | 3 | 3 |  0 | 0 | 0 | 0 |\n",
       "| 4 | 33 | No  | Travel_Frequently | 1392 | Research &amp; Development | 3 | 4 | Life Sciences | 5 | 4 | ⋯ | 3 | 3 | 0 |  8 | 3 | 3 |  8 | 7 | 3 | 0 |\n",
       "| 5 | 27 | No  | Travel_Rarely     |  591 | Research &amp; Development | 2 | 1 | Medical       | 7 | 1 | ⋯ | 3 | 4 | 1 |  6 | 3 | 3 |  2 | 2 | 2 | 2 |\n",
       "| 6 | 32 | No  | Travel_Frequently | 1005 | Research &amp; Development | 2 | 2 | Life Sciences | 8 | 4 | ⋯ | 3 | 3 | 0 |  8 | 2 | 2 |  7 | 7 | 3 | 6 |\n",
       "\n"
      ],
      "text/plain": [
       "  Age Attrition BusinessTravel    DailyRate Department            \n",
       "1 41  Yes       Travel_Rarely     1102      Sales                 \n",
       "2 49  No        Travel_Frequently  279      Research & Development\n",
       "3 37  Yes       Travel_Rarely     1373      Research & Development\n",
       "4 33  No        Travel_Frequently 1392      Research & Development\n",
       "5 27  No        Travel_Rarely      591      Research & Development\n",
       "6 32  No        Travel_Frequently 1005      Research & Development\n",
       "  DistanceFromHome Education EducationField EmployeeNumber\n",
       "1 1                2         Life Sciences  1             \n",
       "2 8                1         Life Sciences  2             \n",
       "3 2                2         Other          4             \n",
       "4 3                4         Life Sciences  5             \n",
       "5 2                1         Medical        7             \n",
       "6 2                2         Life Sciences  8             \n",
       "  EnvironmentSatisfaction ⋯ PerformanceRating RelationshipSatisfaction\n",
       "1 2                       ⋯ 3                 1                       \n",
       "2 3                       ⋯ 4                 4                       \n",
       "3 4                       ⋯ 3                 2                       \n",
       "4 4                       ⋯ 3                 3                       \n",
       "5 1                       ⋯ 3                 4                       \n",
       "6 4                       ⋯ 3                 3                       \n",
       "  StockOptionLevel TotalWorkingYears TrainingTimesLastYear WorkLifeBalance\n",
       "1 0                 8                0                     1              \n",
       "2 1                10                3                     3              \n",
       "3 0                 7                3                     3              \n",
       "4 0                 8                3                     3              \n",
       "5 1                 6                3                     3              \n",
       "6 0                 8                2                     2              \n",
       "  YearsAtCompany YearsInCurrentRole YearsSinceLastPromotion\n",
       "1  6             4                  0                      \n",
       "2 10             7                  1                      \n",
       "3  0             0                  0                      \n",
       "4  8             7                  3                      \n",
       "5  2             2                  2                      \n",
       "6  7             7                  3                      \n",
       "  YearsWithCurrManager\n",
       "1 5                   \n",
       "2 7                   \n",
       "3 0                   \n",
       "4 0                   \n",
       "5 2                   \n",
       "6 6                   "
      ]
     },
     "metadata": {},
     "output_type": "display_data"
    }
   ],
   "source": [
    "drops <- c(\"EmployeeCount\", \"Over18\", \"StandardHours\")\n",
    "dataframe <- dataframe[ , !(names(dataframe) %in% drops)]\n",
    "head(dataframe)"
   ]
  },
  {
   "cell_type": "markdown",
   "metadata": {},
   "source": [
    "We will check for missing data to ensure that no rows have to be removed/edited. If some values are missing, there are multiple ways to correct the issue. We could use a deletion method (listwise, pairwise, etc.) to remove rows or variables with missing data; however, this is not best practice because it could result in losing lots of information. We could also try to fill in the data using some imputation method. Imputation methods can range from simple mean/median/mode calculations to more complex techniques like the 'nearest neighbors' method, which extracts an estimate only from rows with similar traits."
   ]
  },
  {
   "cell_type": "code",
   "execution_count": 5,
   "metadata": {},
   "outputs": [
    {
     "data": {
      "text/html": [
       "0"
      ],
      "text/latex": [
       "0"
      ],
      "text/markdown": [
       "0"
      ],
      "text/plain": [
       "[1] 0"
      ]
     },
     "metadata": {},
     "output_type": "display_data"
    }
   ],
   "source": [
    "sum(is.na(dataframe)) # sums the number of NA (null) values in the dataframe "
   ]
  },
  {
   "cell_type": "markdown",
   "metadata": {},
   "source": [
    "There are no null values! This means we don't have to bother with missing data and can move on to the next step."
   ]
  },
  {
   "cell_type": "markdown",
   "metadata": {},
   "source": [
    "Next, we will remove any columns with the same value in each row, as they are the same for everyone and will provide no additional information."
   ]
  },
  {
   "cell_type": "code",
   "execution_count": 6,
   "metadata": {},
   "outputs": [],
   "source": [
    "dataframe <- dataframe[vapply(dataframe, function(x) length(unique(x)) > 1, logical(1L))] # remove cols with one value"
   ]
  },
  {
   "cell_type": "markdown",
   "metadata": {},
   "source": [
    "We will now check that each employee is only entered in the dataset once. When calculating attrition, it would be fine if an employee was counted twice, say if attrition changes after some promotion/work-life change. However, when gathering general statistics on IBM employees (number of workers, distribution of jobs, etc.), we want to avoid double counting. We will do this through noticing that there is an Employee Number column with unique identifiers."
   ]
  },
  {
   "cell_type": "code",
   "execution_count": 7,
   "metadata": {},
   "outputs": [
    {
     "data": {
      "text/html": [
       "TRUE"
      ],
      "text/latex": [
       "TRUE"
      ],
      "text/markdown": [
       "TRUE"
      ],
      "text/plain": [
       "[1] TRUE"
      ]
     },
     "metadata": {},
     "output_type": "display_data"
    }
   ],
   "source": [
    "# check that column EmployeeNumber is the same before and after duplicate values have been removed\n",
    "all(unique(dataframe$EmployeeNumber) == dataframe$EmployeeNumber) "
   ]
  },
  {
   "cell_type": "markdown",
   "metadata": {},
   "source": [
    "Great! Because the column is the same before and after duplicates are removed, there are no employee recurrences to worry about!"
   ]
  },
  {
   "cell_type": "markdown",
   "metadata": {},
   "source": [
    "We also have to eliminate correlated data from the dataframe. Correlated data are variables that have a strong association with eachother and will thus tend to follow related patterns (note: not causation). This is an important step in cleaning the data, as we do not want multiple independent variables conveying the same information to the model. Correlated data can make models unstable and introduce variance/ovrfitting to the dataset by double-counting."
   ]
  },
  {
   "cell_type": "markdown",
   "metadata": {},
   "source": [
    "We can only check correlations between numeric values, so we will first remove the categorical variables."
   ]
  },
  {
   "cell_type": "code",
   "execution_count": 8,
   "metadata": {},
   "outputs": [
    {
     "data": {
      "text/html": [
       "<table>\n",
       "<caption>A data.frame: 6 × 24</caption>\n",
       "<thead>\n",
       "\t<tr><th></th><th scope=col>Age</th><th scope=col>DailyRate</th><th scope=col>DistanceFromHome</th><th scope=col>Education</th><th scope=col>EmployeeNumber</th><th scope=col>EnvironmentSatisfaction</th><th scope=col>HourlyRate</th><th scope=col>JobInvolvement</th><th scope=col>JobLevel</th><th scope=col>JobSatisfaction</th><th scope=col>⋯</th><th scope=col>PerformanceRating</th><th scope=col>RelationshipSatisfaction</th><th scope=col>StockOptionLevel</th><th scope=col>TotalWorkingYears</th><th scope=col>TrainingTimesLastYear</th><th scope=col>WorkLifeBalance</th><th scope=col>YearsAtCompany</th><th scope=col>YearsInCurrentRole</th><th scope=col>YearsSinceLastPromotion</th><th scope=col>YearsWithCurrManager</th></tr>\n",
       "\t<tr><th></th><th scope=col>&lt;int&gt;</th><th scope=col>&lt;int&gt;</th><th scope=col>&lt;int&gt;</th><th scope=col>&lt;int&gt;</th><th scope=col>&lt;int&gt;</th><th scope=col>&lt;int&gt;</th><th scope=col>&lt;int&gt;</th><th scope=col>&lt;int&gt;</th><th scope=col>&lt;int&gt;</th><th scope=col>&lt;int&gt;</th><th scope=col>⋯</th><th scope=col>&lt;int&gt;</th><th scope=col>&lt;int&gt;</th><th scope=col>&lt;int&gt;</th><th scope=col>&lt;int&gt;</th><th scope=col>&lt;int&gt;</th><th scope=col>&lt;int&gt;</th><th scope=col>&lt;int&gt;</th><th scope=col>&lt;int&gt;</th><th scope=col>&lt;int&gt;</th><th scope=col>&lt;int&gt;</th></tr>\n",
       "</thead>\n",
       "<tbody>\n",
       "\t<tr><th scope=row>1</th><td>41</td><td>1102</td><td>1</td><td>2</td><td>1</td><td>2</td><td>94</td><td>3</td><td>2</td><td>4</td><td>⋯</td><td>3</td><td>1</td><td>0</td><td> 8</td><td>0</td><td>1</td><td> 6</td><td>4</td><td>0</td><td>5</td></tr>\n",
       "\t<tr><th scope=row>2</th><td>49</td><td> 279</td><td>8</td><td>1</td><td>2</td><td>3</td><td>61</td><td>2</td><td>2</td><td>2</td><td>⋯</td><td>4</td><td>4</td><td>1</td><td>10</td><td>3</td><td>3</td><td>10</td><td>7</td><td>1</td><td>7</td></tr>\n",
       "\t<tr><th scope=row>3</th><td>37</td><td>1373</td><td>2</td><td>2</td><td>4</td><td>4</td><td>92</td><td>2</td><td>1</td><td>3</td><td>⋯</td><td>3</td><td>2</td><td>0</td><td> 7</td><td>3</td><td>3</td><td> 0</td><td>0</td><td>0</td><td>0</td></tr>\n",
       "\t<tr><th scope=row>4</th><td>33</td><td>1392</td><td>3</td><td>4</td><td>5</td><td>4</td><td>56</td><td>3</td><td>1</td><td>3</td><td>⋯</td><td>3</td><td>3</td><td>0</td><td> 8</td><td>3</td><td>3</td><td> 8</td><td>7</td><td>3</td><td>0</td></tr>\n",
       "\t<tr><th scope=row>5</th><td>27</td><td> 591</td><td>2</td><td>1</td><td>7</td><td>1</td><td>40</td><td>3</td><td>1</td><td>2</td><td>⋯</td><td>3</td><td>4</td><td>1</td><td> 6</td><td>3</td><td>3</td><td> 2</td><td>2</td><td>2</td><td>2</td></tr>\n",
       "\t<tr><th scope=row>6</th><td>32</td><td>1005</td><td>2</td><td>2</td><td>8</td><td>4</td><td>79</td><td>3</td><td>1</td><td>4</td><td>⋯</td><td>3</td><td>3</td><td>0</td><td> 8</td><td>2</td><td>2</td><td> 7</td><td>7</td><td>3</td><td>6</td></tr>\n",
       "</tbody>\n",
       "</table>\n"
      ],
      "text/latex": [
       "A data.frame: 6 × 24\n",
       "\\begin{tabular}{r|lllllllllllllllllllll}\n",
       "  & Age & DailyRate & DistanceFromHome & Education & EmployeeNumber & EnvironmentSatisfaction & HourlyRate & JobInvolvement & JobLevel & JobSatisfaction & ⋯ & PerformanceRating & RelationshipSatisfaction & StockOptionLevel & TotalWorkingYears & TrainingTimesLastYear & WorkLifeBalance & YearsAtCompany & YearsInCurrentRole & YearsSinceLastPromotion & YearsWithCurrManager\\\\\n",
       "  & <int> & <int> & <int> & <int> & <int> & <int> & <int> & <int> & <int> & <int> & ⋯ & <int> & <int> & <int> & <int> & <int> & <int> & <int> & <int> & <int> & <int>\\\\\n",
       "\\hline\n",
       "\t1 & 41 & 1102 & 1 & 2 & 1 & 2 & 94 & 3 & 2 & 4 & ⋯ & 3 & 1 & 0 &  8 & 0 & 1 &  6 & 4 & 0 & 5\\\\\n",
       "\t2 & 49 &  279 & 8 & 1 & 2 & 3 & 61 & 2 & 2 & 2 & ⋯ & 4 & 4 & 1 & 10 & 3 & 3 & 10 & 7 & 1 & 7\\\\\n",
       "\t3 & 37 & 1373 & 2 & 2 & 4 & 4 & 92 & 2 & 1 & 3 & ⋯ & 3 & 2 & 0 &  7 & 3 & 3 &  0 & 0 & 0 & 0\\\\\n",
       "\t4 & 33 & 1392 & 3 & 4 & 5 & 4 & 56 & 3 & 1 & 3 & ⋯ & 3 & 3 & 0 &  8 & 3 & 3 &  8 & 7 & 3 & 0\\\\\n",
       "\t5 & 27 &  591 & 2 & 1 & 7 & 1 & 40 & 3 & 1 & 2 & ⋯ & 3 & 4 & 1 &  6 & 3 & 3 &  2 & 2 & 2 & 2\\\\\n",
       "\t6 & 32 & 1005 & 2 & 2 & 8 & 4 & 79 & 3 & 1 & 4 & ⋯ & 3 & 3 & 0 &  8 & 2 & 2 &  7 & 7 & 3 & 6\\\\\n",
       "\\end{tabular}\n"
      ],
      "text/markdown": [
       "\n",
       "A data.frame: 6 × 24\n",
       "\n",
       "| <!--/--> | Age &lt;int&gt; | DailyRate &lt;int&gt; | DistanceFromHome &lt;int&gt; | Education &lt;int&gt; | EmployeeNumber &lt;int&gt; | EnvironmentSatisfaction &lt;int&gt; | HourlyRate &lt;int&gt; | JobInvolvement &lt;int&gt; | JobLevel &lt;int&gt; | JobSatisfaction &lt;int&gt; | ⋯ ⋯ | PerformanceRating &lt;int&gt; | RelationshipSatisfaction &lt;int&gt; | StockOptionLevel &lt;int&gt; | TotalWorkingYears &lt;int&gt; | TrainingTimesLastYear &lt;int&gt; | WorkLifeBalance &lt;int&gt; | YearsAtCompany &lt;int&gt; | YearsInCurrentRole &lt;int&gt; | YearsSinceLastPromotion &lt;int&gt; | YearsWithCurrManager &lt;int&gt; |\n",
       "|---|---|---|---|---|---|---|---|---|---|---|---|---|---|---|---|---|---|---|---|---|---|\n",
       "| 1 | 41 | 1102 | 1 | 2 | 1 | 2 | 94 | 3 | 2 | 4 | ⋯ | 3 | 1 | 0 |  8 | 0 | 1 |  6 | 4 | 0 | 5 |\n",
       "| 2 | 49 |  279 | 8 | 1 | 2 | 3 | 61 | 2 | 2 | 2 | ⋯ | 4 | 4 | 1 | 10 | 3 | 3 | 10 | 7 | 1 | 7 |\n",
       "| 3 | 37 | 1373 | 2 | 2 | 4 | 4 | 92 | 2 | 1 | 3 | ⋯ | 3 | 2 | 0 |  7 | 3 | 3 |  0 | 0 | 0 | 0 |\n",
       "| 4 | 33 | 1392 | 3 | 4 | 5 | 4 | 56 | 3 | 1 | 3 | ⋯ | 3 | 3 | 0 |  8 | 3 | 3 |  8 | 7 | 3 | 0 |\n",
       "| 5 | 27 |  591 | 2 | 1 | 7 | 1 | 40 | 3 | 1 | 2 | ⋯ | 3 | 4 | 1 |  6 | 3 | 3 |  2 | 2 | 2 | 2 |\n",
       "| 6 | 32 | 1005 | 2 | 2 | 8 | 4 | 79 | 3 | 1 | 4 | ⋯ | 3 | 3 | 0 |  8 | 2 | 2 |  7 | 7 | 3 | 6 |\n",
       "\n"
      ],
      "text/plain": [
       "  Age DailyRate DistanceFromHome Education EmployeeNumber\n",
       "1 41  1102      1                2         1             \n",
       "2 49   279      8                1         2             \n",
       "3 37  1373      2                2         4             \n",
       "4 33  1392      3                4         5             \n",
       "5 27   591      2                1         7             \n",
       "6 32  1005      2                2         8             \n",
       "  EnvironmentSatisfaction HourlyRate JobInvolvement JobLevel JobSatisfaction ⋯\n",
       "1 2                       94         3              2        4               ⋯\n",
       "2 3                       61         2              2        2               ⋯\n",
       "3 4                       92         2              1        3               ⋯\n",
       "4 4                       56         3              1        3               ⋯\n",
       "5 1                       40         3              1        2               ⋯\n",
       "6 4                       79         3              1        4               ⋯\n",
       "  PerformanceRating RelationshipSatisfaction StockOptionLevel TotalWorkingYears\n",
       "1 3                 1                        0                 8               \n",
       "2 4                 4                        1                10               \n",
       "3 3                 2                        0                 7               \n",
       "4 3                 3                        0                 8               \n",
       "5 3                 4                        1                 6               \n",
       "6 3                 3                        0                 8               \n",
       "  TrainingTimesLastYear WorkLifeBalance YearsAtCompany YearsInCurrentRole\n",
       "1 0                     1                6             4                 \n",
       "2 3                     3               10             7                 \n",
       "3 3                     3                0             0                 \n",
       "4 3                     3                8             7                 \n",
       "5 3                     3                2             2                 \n",
       "6 2                     2                7             7                 \n",
       "  YearsSinceLastPromotion YearsWithCurrManager\n",
       "1 0                       5                   \n",
       "2 1                       7                   \n",
       "3 0                       0                   \n",
       "4 3                       0                   \n",
       "5 2                       2                   \n",
       "6 3                       6                   "
      ]
     },
     "metadata": {},
     "output_type": "display_data"
    }
   ],
   "source": [
    "numericData <- dataframe[sapply(dataframe, is.numeric)]  # retains only the columns following is.numeric\n",
    "head(numericData)                                        # visualizes the numeric data"
   ]
  },
  {
   "cell_type": "markdown",
   "metadata": {},
   "source": [
    "Now we will use the numeric data to calculate variable correlations. We will use the built-in cor function to create a matrix containing correlation values. An absolute value close to 1 represents a high correlation between variables. The cor function uses Pearson's rank-based measure of association. "
   ]
  },
  {
   "cell_type": "code",
   "execution_count": 9,
   "metadata": {},
   "outputs": [
    {
     "data": {
      "text/html": [
       "<table>\n",
       "<caption>A matrix: 6 × 24 of type dbl</caption>\n",
       "<thead>\n",
       "\t<tr><th></th><th scope=col>Age</th><th scope=col>DailyRate</th><th scope=col>DistanceFromHome</th><th scope=col>Education</th><th scope=col>EmployeeNumber</th><th scope=col>EnvironmentSatisfaction</th><th scope=col>HourlyRate</th><th scope=col>JobInvolvement</th><th scope=col>JobLevel</th><th scope=col>JobSatisfaction</th><th scope=col>⋯</th><th scope=col>PerformanceRating</th><th scope=col>RelationshipSatisfaction</th><th scope=col>StockOptionLevel</th><th scope=col>TotalWorkingYears</th><th scope=col>TrainingTimesLastYear</th><th scope=col>WorkLifeBalance</th><th scope=col>YearsAtCompany</th><th scope=col>YearsInCurrentRole</th><th scope=col>YearsSinceLastPromotion</th><th scope=col>YearsWithCurrManager</th></tr>\n",
       "</thead>\n",
       "<tbody>\n",
       "\t<tr><th scope=row>Age</th><td> 1.00000000</td><td> 0.010660943</td><td>-0.001686120</td><td> 0.20803373</td><td>-0.01014547</td><td> 0.01014643</td><td> 0.02428654</td><td> 0.029819959</td><td> 0.509604228</td><td>-0.004891877</td><td>⋯</td><td> 0.0019038955</td><td> 0.053534720</td><td>0.037509712</td><td> 0.680380536</td><td>-0.019620819</td><td>-0.021490028</td><td> 0.311308770</td><td> 0.212901056</td><td> 0.216513368</td><td> 0.202088602</td></tr>\n",
       "\t<tr><th scope=row>DailyRate</th><td> 0.01066094</td><td> 1.000000000</td><td>-0.004985337</td><td>-0.01680643</td><td>-0.05099043</td><td> 0.01835485</td><td> 0.02338142</td><td> 0.046134874</td><td> 0.002966335</td><td> 0.030571008</td><td>⋯</td><td> 0.0004732963</td><td> 0.007846031</td><td>0.042142796</td><td> 0.014514739</td><td> 0.002452543</td><td>-0.037848051</td><td>-0.034054768</td><td> 0.009932015</td><td>-0.033228985</td><td>-0.026363178</td></tr>\n",
       "\t<tr><th scope=row>DistanceFromHome</th><td>-0.00168612</td><td>-0.004985337</td><td> 1.000000000</td><td> 0.02104183</td><td> 0.03291641</td><td>-0.01607533</td><td> 0.03113059</td><td> 0.008783280</td><td> 0.005302731</td><td>-0.003668839</td><td>⋯</td><td> 0.0271096185</td><td> 0.006557475</td><td>0.044871999</td><td> 0.004628426</td><td>-0.036942234</td><td>-0.026556004</td><td> 0.009507720</td><td> 0.018844999</td><td> 0.010028836</td><td> 0.014406048</td></tr>\n",
       "\t<tr><th scope=row>Education</th><td> 0.20803373</td><td>-0.016806433</td><td> 0.021041826</td><td> 1.00000000</td><td> 0.04207009</td><td>-0.02712831</td><td> 0.01677483</td><td> 0.042437634</td><td> 0.101588886</td><td>-0.011296117</td><td>⋯</td><td>-0.0245387912</td><td>-0.009118377</td><td>0.018422220</td><td> 0.148279697</td><td>-0.025100241</td><td> 0.009819189</td><td> 0.069113696</td><td> 0.060235554</td><td> 0.054254334</td><td> 0.069065378</td></tr>\n",
       "\t<tr><th scope=row>EmployeeNumber</th><td>-0.01014547</td><td>-0.050990434</td><td> 0.032916407</td><td> 0.04207009</td><td> 1.00000000</td><td> 0.01762080</td><td> 0.03517921</td><td>-0.006887923</td><td>-0.018519194</td><td>-0.046246735</td><td>⋯</td><td>-0.0203588251</td><td>-0.069861411</td><td>0.062226693</td><td>-0.014365198</td><td> 0.023603170</td><td> 0.010308641</td><td>-0.011240464</td><td>-0.008416312</td><td>-0.009019064</td><td>-0.009196645</td></tr>\n",
       "\t<tr><th scope=row>EnvironmentSatisfaction</th><td> 0.01014643</td><td> 0.018354854</td><td>-0.016075327</td><td>-0.02712831</td><td> 0.01762080</td><td> 1.00000000</td><td>-0.04985696</td><td>-0.008277598</td><td> 0.001211699</td><td>-0.006784353</td><td>⋯</td><td>-0.0295479523</td><td> 0.007665384</td><td>0.003432158</td><td>-0.002693070</td><td>-0.019359308</td><td> 0.027627295</td><td> 0.001457549</td><td> 0.018007460</td><td> 0.016193606</td><td>-0.004998723</td></tr>\n",
       "</tbody>\n",
       "</table>\n"
      ],
      "text/latex": [
       "A matrix: 6 × 24 of type dbl\n",
       "\\begin{tabular}{r|lllllllllllllllllllll}\n",
       "  & Age & DailyRate & DistanceFromHome & Education & EmployeeNumber & EnvironmentSatisfaction & HourlyRate & JobInvolvement & JobLevel & JobSatisfaction & ⋯ & PerformanceRating & RelationshipSatisfaction & StockOptionLevel & TotalWorkingYears & TrainingTimesLastYear & WorkLifeBalance & YearsAtCompany & YearsInCurrentRole & YearsSinceLastPromotion & YearsWithCurrManager\\\\\n",
       "\\hline\n",
       "\tAge &  1.00000000 &  0.010660943 & -0.001686120 &  0.20803373 & -0.01014547 &  0.01014643 &  0.02428654 &  0.029819959 &  0.509604228 & -0.004891877 & ⋯ &  0.0019038955 &  0.053534720 & 0.037509712 &  0.680380536 & -0.019620819 & -0.021490028 &  0.311308770 &  0.212901056 &  0.216513368 &  0.202088602\\\\\n",
       "\tDailyRate &  0.01066094 &  1.000000000 & -0.004985337 & -0.01680643 & -0.05099043 &  0.01835485 &  0.02338142 &  0.046134874 &  0.002966335 &  0.030571008 & ⋯ &  0.0004732963 &  0.007846031 & 0.042142796 &  0.014514739 &  0.002452543 & -0.037848051 & -0.034054768 &  0.009932015 & -0.033228985 & -0.026363178\\\\\n",
       "\tDistanceFromHome & -0.00168612 & -0.004985337 &  1.000000000 &  0.02104183 &  0.03291641 & -0.01607533 &  0.03113059 &  0.008783280 &  0.005302731 & -0.003668839 & ⋯ &  0.0271096185 &  0.006557475 & 0.044871999 &  0.004628426 & -0.036942234 & -0.026556004 &  0.009507720 &  0.018844999 &  0.010028836 &  0.014406048\\\\\n",
       "\tEducation &  0.20803373 & -0.016806433 &  0.021041826 &  1.00000000 &  0.04207009 & -0.02712831 &  0.01677483 &  0.042437634 &  0.101588886 & -0.011296117 & ⋯ & -0.0245387912 & -0.009118377 & 0.018422220 &  0.148279697 & -0.025100241 &  0.009819189 &  0.069113696 &  0.060235554 &  0.054254334 &  0.069065378\\\\\n",
       "\tEmployeeNumber & -0.01014547 & -0.050990434 &  0.032916407 &  0.04207009 &  1.00000000 &  0.01762080 &  0.03517921 & -0.006887923 & -0.018519194 & -0.046246735 & ⋯ & -0.0203588251 & -0.069861411 & 0.062226693 & -0.014365198 &  0.023603170 &  0.010308641 & -0.011240464 & -0.008416312 & -0.009019064 & -0.009196645\\\\\n",
       "\tEnvironmentSatisfaction &  0.01014643 &  0.018354854 & -0.016075327 & -0.02712831 &  0.01762080 &  1.00000000 & -0.04985696 & -0.008277598 &  0.001211699 & -0.006784353 & ⋯ & -0.0295479523 &  0.007665384 & 0.003432158 & -0.002693070 & -0.019359308 &  0.027627295 &  0.001457549 &  0.018007460 &  0.016193606 & -0.004998723\\\\\n",
       "\\end{tabular}\n"
      ],
      "text/markdown": [
       "\n",
       "A matrix: 6 × 24 of type dbl\n",
       "\n",
       "| <!--/--> | Age | DailyRate | DistanceFromHome | Education | EmployeeNumber | EnvironmentSatisfaction | HourlyRate | JobInvolvement | JobLevel | JobSatisfaction | ⋯ | PerformanceRating | RelationshipSatisfaction | StockOptionLevel | TotalWorkingYears | TrainingTimesLastYear | WorkLifeBalance | YearsAtCompany | YearsInCurrentRole | YearsSinceLastPromotion | YearsWithCurrManager |\n",
       "|---|---|---|---|---|---|---|---|---|---|---|---|---|---|---|---|---|---|---|---|---|---|\n",
       "| Age |  1.00000000 |  0.010660943 | -0.001686120 |  0.20803373 | -0.01014547 |  0.01014643 |  0.02428654 |  0.029819959 |  0.509604228 | -0.004891877 | ⋯ |  0.0019038955 |  0.053534720 | 0.037509712 |  0.680380536 | -0.019620819 | -0.021490028 |  0.311308770 |  0.212901056 |  0.216513368 |  0.202088602 |\n",
       "| DailyRate |  0.01066094 |  1.000000000 | -0.004985337 | -0.01680643 | -0.05099043 |  0.01835485 |  0.02338142 |  0.046134874 |  0.002966335 |  0.030571008 | ⋯ |  0.0004732963 |  0.007846031 | 0.042142796 |  0.014514739 |  0.002452543 | -0.037848051 | -0.034054768 |  0.009932015 | -0.033228985 | -0.026363178 |\n",
       "| DistanceFromHome | -0.00168612 | -0.004985337 |  1.000000000 |  0.02104183 |  0.03291641 | -0.01607533 |  0.03113059 |  0.008783280 |  0.005302731 | -0.003668839 | ⋯ |  0.0271096185 |  0.006557475 | 0.044871999 |  0.004628426 | -0.036942234 | -0.026556004 |  0.009507720 |  0.018844999 |  0.010028836 |  0.014406048 |\n",
       "| Education |  0.20803373 | -0.016806433 |  0.021041826 |  1.00000000 |  0.04207009 | -0.02712831 |  0.01677483 |  0.042437634 |  0.101588886 | -0.011296117 | ⋯ | -0.0245387912 | -0.009118377 | 0.018422220 |  0.148279697 | -0.025100241 |  0.009819189 |  0.069113696 |  0.060235554 |  0.054254334 |  0.069065378 |\n",
       "| EmployeeNumber | -0.01014547 | -0.050990434 |  0.032916407 |  0.04207009 |  1.00000000 |  0.01762080 |  0.03517921 | -0.006887923 | -0.018519194 | -0.046246735 | ⋯ | -0.0203588251 | -0.069861411 | 0.062226693 | -0.014365198 |  0.023603170 |  0.010308641 | -0.011240464 | -0.008416312 | -0.009019064 | -0.009196645 |\n",
       "| EnvironmentSatisfaction |  0.01014643 |  0.018354854 | -0.016075327 | -0.02712831 |  0.01762080 |  1.00000000 | -0.04985696 | -0.008277598 |  0.001211699 | -0.006784353 | ⋯ | -0.0295479523 |  0.007665384 | 0.003432158 | -0.002693070 | -0.019359308 |  0.027627295 |  0.001457549 |  0.018007460 |  0.016193606 | -0.004998723 |\n",
       "\n"
      ],
      "text/plain": [
       "                        Age         DailyRate    DistanceFromHome Education  \n",
       "Age                      1.00000000  0.010660943 -0.001686120      0.20803373\n",
       "DailyRate                0.01066094  1.000000000 -0.004985337     -0.01680643\n",
       "DistanceFromHome        -0.00168612 -0.004985337  1.000000000      0.02104183\n",
       "Education                0.20803373 -0.016806433  0.021041826      1.00000000\n",
       "EmployeeNumber          -0.01014547 -0.050990434  0.032916407      0.04207009\n",
       "EnvironmentSatisfaction  0.01014643  0.018354854 -0.016075327     -0.02712831\n",
       "                        EmployeeNumber EnvironmentSatisfaction HourlyRate \n",
       "Age                     -0.01014547     0.01014643              0.02428654\n",
       "DailyRate               -0.05099043     0.01835485              0.02338142\n",
       "DistanceFromHome         0.03291641    -0.01607533              0.03113059\n",
       "Education                0.04207009    -0.02712831              0.01677483\n",
       "EmployeeNumber           1.00000000     0.01762080              0.03517921\n",
       "EnvironmentSatisfaction  0.01762080     1.00000000             -0.04985696\n",
       "                        JobInvolvement JobLevel     JobSatisfaction ⋯\n",
       "Age                      0.029819959    0.509604228 -0.004891877    ⋯\n",
       "DailyRate                0.046134874    0.002966335  0.030571008    ⋯\n",
       "DistanceFromHome         0.008783280    0.005302731 -0.003668839    ⋯\n",
       "Education                0.042437634    0.101588886 -0.011296117    ⋯\n",
       "EmployeeNumber          -0.006887923   -0.018519194 -0.046246735    ⋯\n",
       "EnvironmentSatisfaction -0.008277598    0.001211699 -0.006784353    ⋯\n",
       "                        PerformanceRating RelationshipSatisfaction\n",
       "Age                      0.0019038955      0.053534720            \n",
       "DailyRate                0.0004732963      0.007846031            \n",
       "DistanceFromHome         0.0271096185      0.006557475            \n",
       "Education               -0.0245387912     -0.009118377            \n",
       "EmployeeNumber          -0.0203588251     -0.069861411            \n",
       "EnvironmentSatisfaction -0.0295479523      0.007665384            \n",
       "                        StockOptionLevel TotalWorkingYears\n",
       "Age                     0.037509712       0.680380536     \n",
       "DailyRate               0.042142796       0.014514739     \n",
       "DistanceFromHome        0.044871999       0.004628426     \n",
       "Education               0.018422220       0.148279697     \n",
       "EmployeeNumber          0.062226693      -0.014365198     \n",
       "EnvironmentSatisfaction 0.003432158      -0.002693070     \n",
       "                        TrainingTimesLastYear WorkLifeBalance YearsAtCompany\n",
       "Age                     -0.019620819          -0.021490028     0.311308770  \n",
       "DailyRate                0.002452543          -0.037848051    -0.034054768  \n",
       "DistanceFromHome        -0.036942234          -0.026556004     0.009507720  \n",
       "Education               -0.025100241           0.009819189     0.069113696  \n",
       "EmployeeNumber           0.023603170           0.010308641    -0.011240464  \n",
       "EnvironmentSatisfaction -0.019359308           0.027627295     0.001457549  \n",
       "                        YearsInCurrentRole YearsSinceLastPromotion\n",
       "Age                      0.212901056        0.216513368           \n",
       "DailyRate                0.009932015       -0.033228985           \n",
       "DistanceFromHome         0.018844999        0.010028836           \n",
       "Education                0.060235554        0.054254334           \n",
       "EmployeeNumber          -0.008416312       -0.009019064           \n",
       "EnvironmentSatisfaction  0.018007460        0.016193606           \n",
       "                        YearsWithCurrManager\n",
       "Age                      0.202088602        \n",
       "DailyRate               -0.026363178        \n",
       "DistanceFromHome         0.014406048        \n",
       "Education                0.069065378        \n",
       "EmployeeNumber          -0.009196645        \n",
       "EnvironmentSatisfaction -0.004998723        "
      ]
     },
     "metadata": {},
     "output_type": "display_data"
    }
   ],
   "source": [
    "corrMatrix <- cor(numericData)  # generates correlation matrix from numeric data.\n",
    "head(corrMatrix)                "
   ]
  },
  {
   "cell_type": "markdown",
   "metadata": {},
   "source": [
    "We will now implement the findCorrelation function from the R package 'caret'. We will use this method to parse the correlation matrix, returning the index of any variables with a correlation over some value. In this case, we will use the standard 0.75 as the cutoff."
   ]
  },
  {
   "cell_type": "code",
   "execution_count": 10,
   "metadata": {},
   "outputs": [
    {
     "data": {
      "text/html": [
       "<style>\n",
       ".list-inline {list-style: none; margin:0; padding: 0}\n",
       ".list-inline>li {display: inline-block}\n",
       ".list-inline>li:not(:last-child)::after {content: \"\\00b7\"; padding: 0 .5ex}\n",
       "</style>\n",
       "<ol class=list-inline><li>'TotalWorkingYears'</li><li>'YearsAtCompany'</li><li>'JobLevel'</li><li>'PercentSalaryHike'</li></ol>\n"
      ],
      "text/latex": [
       "\\begin{enumerate*}\n",
       "\\item 'TotalWorkingYears'\n",
       "\\item 'YearsAtCompany'\n",
       "\\item 'JobLevel'\n",
       "\\item 'PercentSalaryHike'\n",
       "\\end{enumerate*}\n"
      ],
      "text/markdown": [
       "1. 'TotalWorkingYears'\n",
       "2. 'YearsAtCompany'\n",
       "3. 'JobLevel'\n",
       "4. 'PercentSalaryHike'\n",
       "\n",
       "\n"
      ],
      "text/plain": [
       "[1] \"TotalWorkingYears\" \"YearsAtCompany\"    \"JobLevel\"         \n",
       "[4] \"PercentSalaryHike\""
      ]
     },
     "metadata": {},
     "output_type": "display_data"
    }
   ],
   "source": [
    "highCorrIndex <- findCorrelation(corrMatrix, cutoff=0.75) # returns the indexes of highly-correlated columns\n",
    "corrColNames <- colnames(corrMatrix)[highCorrIndex]       # retrieves the column names from the indecies\n",
    "corrColNames                                              # displays the column names to be removed"
   ]
  },
  {
   "cell_type": "markdown",
   "metadata": {},
   "source": [
    "Now that we have the high correlation columns we gotta get them outta here!"
   ]
  },
  {
   "cell_type": "code",
   "execution_count": 11,
   "metadata": {},
   "outputs": [
    {
     "data": {
      "text/html": [
       "<table>\n",
       "<caption>A data.frame: 6 × 20</caption>\n",
       "<thead>\n",
       "\t<tr><th></th><th scope=col>Age</th><th scope=col>DailyRate</th><th scope=col>DistanceFromHome</th><th scope=col>Education</th><th scope=col>EmployeeNumber</th><th scope=col>EnvironmentSatisfaction</th><th scope=col>HourlyRate</th><th scope=col>JobInvolvement</th><th scope=col>JobSatisfaction</th><th scope=col>MonthlyIncome</th><th scope=col>MonthlyRate</th><th scope=col>NumCompaniesWorked</th><th scope=col>PerformanceRating</th><th scope=col>RelationshipSatisfaction</th><th scope=col>StockOptionLevel</th><th scope=col>TrainingTimesLastYear</th><th scope=col>WorkLifeBalance</th><th scope=col>YearsInCurrentRole</th><th scope=col>YearsSinceLastPromotion</th><th scope=col>YearsWithCurrManager</th></tr>\n",
       "\t<tr><th></th><th scope=col>&lt;int&gt;</th><th scope=col>&lt;int&gt;</th><th scope=col>&lt;int&gt;</th><th scope=col>&lt;int&gt;</th><th scope=col>&lt;int&gt;</th><th scope=col>&lt;int&gt;</th><th scope=col>&lt;int&gt;</th><th scope=col>&lt;int&gt;</th><th scope=col>&lt;int&gt;</th><th scope=col>&lt;int&gt;</th><th scope=col>&lt;int&gt;</th><th scope=col>&lt;int&gt;</th><th scope=col>&lt;int&gt;</th><th scope=col>&lt;int&gt;</th><th scope=col>&lt;int&gt;</th><th scope=col>&lt;int&gt;</th><th scope=col>&lt;int&gt;</th><th scope=col>&lt;int&gt;</th><th scope=col>&lt;int&gt;</th><th scope=col>&lt;int&gt;</th></tr>\n",
       "</thead>\n",
       "<tbody>\n",
       "\t<tr><th scope=row>1</th><td>41</td><td>1102</td><td>1</td><td>2</td><td>1</td><td>2</td><td>94</td><td>3</td><td>4</td><td>5993</td><td>19479</td><td>8</td><td>3</td><td>1</td><td>0</td><td>0</td><td>1</td><td>4</td><td>0</td><td>5</td></tr>\n",
       "\t<tr><th scope=row>2</th><td>49</td><td> 279</td><td>8</td><td>1</td><td>2</td><td>3</td><td>61</td><td>2</td><td>2</td><td>5130</td><td>24907</td><td>1</td><td>4</td><td>4</td><td>1</td><td>3</td><td>3</td><td>7</td><td>1</td><td>7</td></tr>\n",
       "\t<tr><th scope=row>3</th><td>37</td><td>1373</td><td>2</td><td>2</td><td>4</td><td>4</td><td>92</td><td>2</td><td>3</td><td>2090</td><td> 2396</td><td>6</td><td>3</td><td>2</td><td>0</td><td>3</td><td>3</td><td>0</td><td>0</td><td>0</td></tr>\n",
       "\t<tr><th scope=row>4</th><td>33</td><td>1392</td><td>3</td><td>4</td><td>5</td><td>4</td><td>56</td><td>3</td><td>3</td><td>2909</td><td>23159</td><td>1</td><td>3</td><td>3</td><td>0</td><td>3</td><td>3</td><td>7</td><td>3</td><td>0</td></tr>\n",
       "\t<tr><th scope=row>5</th><td>27</td><td> 591</td><td>2</td><td>1</td><td>7</td><td>1</td><td>40</td><td>3</td><td>2</td><td>3468</td><td>16632</td><td>9</td><td>3</td><td>4</td><td>1</td><td>3</td><td>3</td><td>2</td><td>2</td><td>2</td></tr>\n",
       "\t<tr><th scope=row>6</th><td>32</td><td>1005</td><td>2</td><td>2</td><td>8</td><td>4</td><td>79</td><td>3</td><td>4</td><td>3068</td><td>11864</td><td>0</td><td>3</td><td>3</td><td>0</td><td>2</td><td>2</td><td>7</td><td>3</td><td>6</td></tr>\n",
       "</tbody>\n",
       "</table>\n"
      ],
      "text/latex": [
       "A data.frame: 6 × 20\n",
       "\\begin{tabular}{r|llllllllllllllllllll}\n",
       "  & Age & DailyRate & DistanceFromHome & Education & EmployeeNumber & EnvironmentSatisfaction & HourlyRate & JobInvolvement & JobSatisfaction & MonthlyIncome & MonthlyRate & NumCompaniesWorked & PerformanceRating & RelationshipSatisfaction & StockOptionLevel & TrainingTimesLastYear & WorkLifeBalance & YearsInCurrentRole & YearsSinceLastPromotion & YearsWithCurrManager\\\\\n",
       "  & <int> & <int> & <int> & <int> & <int> & <int> & <int> & <int> & <int> & <int> & <int> & <int> & <int> & <int> & <int> & <int> & <int> & <int> & <int> & <int>\\\\\n",
       "\\hline\n",
       "\t1 & 41 & 1102 & 1 & 2 & 1 & 2 & 94 & 3 & 4 & 5993 & 19479 & 8 & 3 & 1 & 0 & 0 & 1 & 4 & 0 & 5\\\\\n",
       "\t2 & 49 &  279 & 8 & 1 & 2 & 3 & 61 & 2 & 2 & 5130 & 24907 & 1 & 4 & 4 & 1 & 3 & 3 & 7 & 1 & 7\\\\\n",
       "\t3 & 37 & 1373 & 2 & 2 & 4 & 4 & 92 & 2 & 3 & 2090 &  2396 & 6 & 3 & 2 & 0 & 3 & 3 & 0 & 0 & 0\\\\\n",
       "\t4 & 33 & 1392 & 3 & 4 & 5 & 4 & 56 & 3 & 3 & 2909 & 23159 & 1 & 3 & 3 & 0 & 3 & 3 & 7 & 3 & 0\\\\\n",
       "\t5 & 27 &  591 & 2 & 1 & 7 & 1 & 40 & 3 & 2 & 3468 & 16632 & 9 & 3 & 4 & 1 & 3 & 3 & 2 & 2 & 2\\\\\n",
       "\t6 & 32 & 1005 & 2 & 2 & 8 & 4 & 79 & 3 & 4 & 3068 & 11864 & 0 & 3 & 3 & 0 & 2 & 2 & 7 & 3 & 6\\\\\n",
       "\\end{tabular}\n"
      ],
      "text/markdown": [
       "\n",
       "A data.frame: 6 × 20\n",
       "\n",
       "| <!--/--> | Age &lt;int&gt; | DailyRate &lt;int&gt; | DistanceFromHome &lt;int&gt; | Education &lt;int&gt; | EmployeeNumber &lt;int&gt; | EnvironmentSatisfaction &lt;int&gt; | HourlyRate &lt;int&gt; | JobInvolvement &lt;int&gt; | JobSatisfaction &lt;int&gt; | MonthlyIncome &lt;int&gt; | MonthlyRate &lt;int&gt; | NumCompaniesWorked &lt;int&gt; | PerformanceRating &lt;int&gt; | RelationshipSatisfaction &lt;int&gt; | StockOptionLevel &lt;int&gt; | TrainingTimesLastYear &lt;int&gt; | WorkLifeBalance &lt;int&gt; | YearsInCurrentRole &lt;int&gt; | YearsSinceLastPromotion &lt;int&gt; | YearsWithCurrManager &lt;int&gt; |\n",
       "|---|---|---|---|---|---|---|---|---|---|---|---|---|---|---|---|---|---|---|---|---|\n",
       "| 1 | 41 | 1102 | 1 | 2 | 1 | 2 | 94 | 3 | 4 | 5993 | 19479 | 8 | 3 | 1 | 0 | 0 | 1 | 4 | 0 | 5 |\n",
       "| 2 | 49 |  279 | 8 | 1 | 2 | 3 | 61 | 2 | 2 | 5130 | 24907 | 1 | 4 | 4 | 1 | 3 | 3 | 7 | 1 | 7 |\n",
       "| 3 | 37 | 1373 | 2 | 2 | 4 | 4 | 92 | 2 | 3 | 2090 |  2396 | 6 | 3 | 2 | 0 | 3 | 3 | 0 | 0 | 0 |\n",
       "| 4 | 33 | 1392 | 3 | 4 | 5 | 4 | 56 | 3 | 3 | 2909 | 23159 | 1 | 3 | 3 | 0 | 3 | 3 | 7 | 3 | 0 |\n",
       "| 5 | 27 |  591 | 2 | 1 | 7 | 1 | 40 | 3 | 2 | 3468 | 16632 | 9 | 3 | 4 | 1 | 3 | 3 | 2 | 2 | 2 |\n",
       "| 6 | 32 | 1005 | 2 | 2 | 8 | 4 | 79 | 3 | 4 | 3068 | 11864 | 0 | 3 | 3 | 0 | 2 | 2 | 7 | 3 | 6 |\n",
       "\n"
      ],
      "text/plain": [
       "  Age DailyRate DistanceFromHome Education EmployeeNumber\n",
       "1 41  1102      1                2         1             \n",
       "2 49   279      8                1         2             \n",
       "3 37  1373      2                2         4             \n",
       "4 33  1392      3                4         5             \n",
       "5 27   591      2                1         7             \n",
       "6 32  1005      2                2         8             \n",
       "  EnvironmentSatisfaction HourlyRate JobInvolvement JobSatisfaction\n",
       "1 2                       94         3              4              \n",
       "2 3                       61         2              2              \n",
       "3 4                       92         2              3              \n",
       "4 4                       56         3              3              \n",
       "5 1                       40         3              2              \n",
       "6 4                       79         3              4              \n",
       "  MonthlyIncome MonthlyRate NumCompaniesWorked PerformanceRating\n",
       "1 5993          19479       8                  3                \n",
       "2 5130          24907       1                  4                \n",
       "3 2090           2396       6                  3                \n",
       "4 2909          23159       1                  3                \n",
       "5 3468          16632       9                  3                \n",
       "6 3068          11864       0                  3                \n",
       "  RelationshipSatisfaction StockOptionLevel TrainingTimesLastYear\n",
       "1 1                        0                0                    \n",
       "2 4                        1                3                    \n",
       "3 2                        0                3                    \n",
       "4 3                        0                3                    \n",
       "5 4                        1                3                    \n",
       "6 3                        0                2                    \n",
       "  WorkLifeBalance YearsInCurrentRole YearsSinceLastPromotion\n",
       "1 1               4                  0                      \n",
       "2 3               7                  1                      \n",
       "3 3               0                  0                      \n",
       "4 3               7                  3                      \n",
       "5 3               2                  2                      \n",
       "6 2               7                  3                      \n",
       "  YearsWithCurrManager\n",
       "1 5                   \n",
       "2 7                   \n",
       "3 0                   \n",
       "4 0                   \n",
       "5 2                   \n",
       "6 6                   "
      ]
     },
     "metadata": {},
     "output_type": "display_data"
    }
   ],
   "source": [
    "numericData <- numericData[!names(numericData) %in% corrColNames]  # removes columns listed in currColNames\n",
    "head(numericData)"
   ]
  },
  {
   "cell_type": "markdown",
   "metadata": {},
   "source": [
    "Now that we have the numeric columns figured out, we will re-merge the numeric data with the categorical data. However before merging the two, we will have to save and extract the attrition column to be used for training and \n",
    "testing the model. We will alo have to convert all of the categorical variables into dummies. Dummies are created when a categorical column is converted into multiple integer columns of binary values. For example, a column of Gender with category values of Male and Female, would now become two columns in the dataframe, one of 'GenderMale' and 'GenderFemale', each with either a 1 or 0 to indicate whether the row contains that gender. This is done to allow the model to read in integers for regression and make inferences on categorical data.\n",
    "\n",
    "We will use the fastDummies library to create the dummies."
   ]
  },
  {
   "cell_type": "code",
   "execution_count": 12,
   "metadata": {
    "scrolled": false
   },
   "outputs": [
    {
     "data": {
      "text/html": [
       "<table>\n",
       "<caption>A data.frame: 6 × 59</caption>\n",
       "<thead>\n",
       "\t<tr><th></th><th scope=col>Age</th><th scope=col>BusinessTravel</th><th scope=col>DailyRate</th><th scope=col>Department</th><th scope=col>DistanceFromHome</th><th scope=col>Education</th><th scope=col>EducationField</th><th scope=col>EmployeeNumber</th><th scope=col>EnvironmentSatisfaction</th><th scope=col>Gender</th><th scope=col>⋯</th><th scope=col>JobRole_Manufacturing Director</th><th scope=col>JobRole_Research Director</th><th scope=col>JobRole_Research Scientist</th><th scope=col>JobRole_Sales Executive</th><th scope=col>JobRole_Sales Representative</th><th scope=col>MaritalStatus_Divorced</th><th scope=col>MaritalStatus_Married</th><th scope=col>MaritalStatus_Single</th><th scope=col>OverTime_No</th><th scope=col>OverTime_Yes</th></tr>\n",
       "\t<tr><th></th><th scope=col>&lt;int&gt;</th><th scope=col>&lt;chr&gt;</th><th scope=col>&lt;int&gt;</th><th scope=col>&lt;chr&gt;</th><th scope=col>&lt;int&gt;</th><th scope=col>&lt;int&gt;</th><th scope=col>&lt;chr&gt;</th><th scope=col>&lt;int&gt;</th><th scope=col>&lt;int&gt;</th><th scope=col>&lt;chr&gt;</th><th scope=col>⋯</th><th scope=col>&lt;int&gt;</th><th scope=col>&lt;int&gt;</th><th scope=col>&lt;int&gt;</th><th scope=col>&lt;int&gt;</th><th scope=col>&lt;int&gt;</th><th scope=col>&lt;int&gt;</th><th scope=col>&lt;int&gt;</th><th scope=col>&lt;int&gt;</th><th scope=col>&lt;int&gt;</th><th scope=col>&lt;int&gt;</th></tr>\n",
       "</thead>\n",
       "<tbody>\n",
       "\t<tr><th scope=row>1</th><td>41</td><td>Travel_Rarely    </td><td>1102</td><td>Sales                 </td><td>1</td><td>2</td><td>Life Sciences</td><td>1</td><td>2</td><td>Female</td><td>⋯</td><td>0</td><td>0</td><td>0</td><td>1</td><td>0</td><td>0</td><td>0</td><td>1</td><td>0</td><td>1</td></tr>\n",
       "\t<tr><th scope=row>2</th><td>49</td><td>Travel_Frequently</td><td> 279</td><td>Research &amp; Development</td><td>8</td><td>1</td><td>Life Sciences</td><td>2</td><td>3</td><td><span style=white-space:pre-wrap>Male  </span></td><td>⋯</td><td>0</td><td>0</td><td>1</td><td>0</td><td>0</td><td>0</td><td>1</td><td>0</td><td>1</td><td>0</td></tr>\n",
       "\t<tr><th scope=row>3</th><td>37</td><td><span style=white-space:pre-wrap>Travel_Rarely    </span></td><td>1373</td><td>Research &amp; Development</td><td>2</td><td>2</td><td><span style=white-space:pre-wrap>Other        </span></td><td>4</td><td>4</td><td><span style=white-space:pre-wrap>Male  </span></td><td>⋯</td><td>0</td><td>0</td><td>0</td><td>0</td><td>0</td><td>0</td><td>0</td><td>1</td><td>0</td><td>1</td></tr>\n",
       "\t<tr><th scope=row>4</th><td>33</td><td>Travel_Frequently</td><td>1392</td><td>Research &amp; Development</td><td>3</td><td>4</td><td>Life Sciences</td><td>5</td><td>4</td><td>Female</td><td>⋯</td><td>0</td><td>0</td><td>1</td><td>0</td><td>0</td><td>0</td><td>1</td><td>0</td><td>0</td><td>1</td></tr>\n",
       "\t<tr><th scope=row>5</th><td>27</td><td><span style=white-space:pre-wrap>Travel_Rarely    </span></td><td> 591</td><td>Research &amp; Development</td><td>2</td><td>1</td><td><span style=white-space:pre-wrap>Medical      </span></td><td>7</td><td>1</td><td><span style=white-space:pre-wrap>Male  </span></td><td>⋯</td><td>0</td><td>0</td><td>0</td><td>0</td><td>0</td><td>0</td><td>1</td><td>0</td><td>1</td><td>0</td></tr>\n",
       "\t<tr><th scope=row>6</th><td>32</td><td>Travel_Frequently</td><td>1005</td><td>Research &amp; Development</td><td>2</td><td>2</td><td>Life Sciences</td><td>8</td><td>4</td><td><span style=white-space:pre-wrap>Male  </span></td><td>⋯</td><td>0</td><td>0</td><td>0</td><td>0</td><td>0</td><td>0</td><td>0</td><td>1</td><td>1</td><td>0</td></tr>\n",
       "</tbody>\n",
       "</table>\n"
      ],
      "text/latex": [
       "A data.frame: 6 × 59\n",
       "\\begin{tabular}{r|lllllllllllllllllllll}\n",
       "  & Age & BusinessTravel & DailyRate & Department & DistanceFromHome & Education & EducationField & EmployeeNumber & EnvironmentSatisfaction & Gender & ⋯ & JobRole\\_Manufacturing Director & JobRole\\_Research Director & JobRole\\_Research Scientist & JobRole\\_Sales Executive & JobRole\\_Sales Representative & MaritalStatus\\_Divorced & MaritalStatus\\_Married & MaritalStatus\\_Single & OverTime\\_No & OverTime\\_Yes\\\\\n",
       "  & <int> & <chr> & <int> & <chr> & <int> & <int> & <chr> & <int> & <int> & <chr> & ⋯ & <int> & <int> & <int> & <int> & <int> & <int> & <int> & <int> & <int> & <int>\\\\\n",
       "\\hline\n",
       "\t1 & 41 & Travel\\_Rarely     & 1102 & Sales                  & 1 & 2 & Life Sciences & 1 & 2 & Female & ⋯ & 0 & 0 & 0 & 1 & 0 & 0 & 0 & 1 & 0 & 1\\\\\n",
       "\t2 & 49 & Travel\\_Frequently &  279 & Research \\& Development & 8 & 1 & Life Sciences & 2 & 3 & Male   & ⋯ & 0 & 0 & 1 & 0 & 0 & 0 & 1 & 0 & 1 & 0\\\\\n",
       "\t3 & 37 & Travel\\_Rarely     & 1373 & Research \\& Development & 2 & 2 & Other         & 4 & 4 & Male   & ⋯ & 0 & 0 & 0 & 0 & 0 & 0 & 0 & 1 & 0 & 1\\\\\n",
       "\t4 & 33 & Travel\\_Frequently & 1392 & Research \\& Development & 3 & 4 & Life Sciences & 5 & 4 & Female & ⋯ & 0 & 0 & 1 & 0 & 0 & 0 & 1 & 0 & 0 & 1\\\\\n",
       "\t5 & 27 & Travel\\_Rarely     &  591 & Research \\& Development & 2 & 1 & Medical       & 7 & 1 & Male   & ⋯ & 0 & 0 & 0 & 0 & 0 & 0 & 1 & 0 & 1 & 0\\\\\n",
       "\t6 & 32 & Travel\\_Frequently & 1005 & Research \\& Development & 2 & 2 & Life Sciences & 8 & 4 & Male   & ⋯ & 0 & 0 & 0 & 0 & 0 & 0 & 0 & 1 & 1 & 0\\\\\n",
       "\\end{tabular}\n"
      ],
      "text/markdown": [
       "\n",
       "A data.frame: 6 × 59\n",
       "\n",
       "| <!--/--> | Age &lt;int&gt; | BusinessTravel &lt;chr&gt; | DailyRate &lt;int&gt; | Department &lt;chr&gt; | DistanceFromHome &lt;int&gt; | Education &lt;int&gt; | EducationField &lt;chr&gt; | EmployeeNumber &lt;int&gt; | EnvironmentSatisfaction &lt;int&gt; | Gender &lt;chr&gt; | ⋯ ⋯ | JobRole_Manufacturing Director &lt;int&gt; | JobRole_Research Director &lt;int&gt; | JobRole_Research Scientist &lt;int&gt; | JobRole_Sales Executive &lt;int&gt; | JobRole_Sales Representative &lt;int&gt; | MaritalStatus_Divorced &lt;int&gt; | MaritalStatus_Married &lt;int&gt; | MaritalStatus_Single &lt;int&gt; | OverTime_No &lt;int&gt; | OverTime_Yes &lt;int&gt; |\n",
       "|---|---|---|---|---|---|---|---|---|---|---|---|---|---|---|---|---|---|---|---|---|---|\n",
       "| 1 | 41 | Travel_Rarely     | 1102 | Sales                  | 1 | 2 | Life Sciences | 1 | 2 | Female | ⋯ | 0 | 0 | 0 | 1 | 0 | 0 | 0 | 1 | 0 | 1 |\n",
       "| 2 | 49 | Travel_Frequently |  279 | Research &amp; Development | 8 | 1 | Life Sciences | 2 | 3 | Male   | ⋯ | 0 | 0 | 1 | 0 | 0 | 0 | 1 | 0 | 1 | 0 |\n",
       "| 3 | 37 | Travel_Rarely     | 1373 | Research &amp; Development | 2 | 2 | Other         | 4 | 4 | Male   | ⋯ | 0 | 0 | 0 | 0 | 0 | 0 | 0 | 1 | 0 | 1 |\n",
       "| 4 | 33 | Travel_Frequently | 1392 | Research &amp; Development | 3 | 4 | Life Sciences | 5 | 4 | Female | ⋯ | 0 | 0 | 1 | 0 | 0 | 0 | 1 | 0 | 0 | 1 |\n",
       "| 5 | 27 | Travel_Rarely     |  591 | Research &amp; Development | 2 | 1 | Medical       | 7 | 1 | Male   | ⋯ | 0 | 0 | 0 | 0 | 0 | 0 | 1 | 0 | 1 | 0 |\n",
       "| 6 | 32 | Travel_Frequently | 1005 | Research &amp; Development | 2 | 2 | Life Sciences | 8 | 4 | Male   | ⋯ | 0 | 0 | 0 | 0 | 0 | 0 | 0 | 1 | 1 | 0 |\n",
       "\n"
      ],
      "text/plain": [
       "  Age BusinessTravel    DailyRate Department             DistanceFromHome\n",
       "1 41  Travel_Rarely     1102      Sales                  1               \n",
       "2 49  Travel_Frequently  279      Research & Development 8               \n",
       "3 37  Travel_Rarely     1373      Research & Development 2               \n",
       "4 33  Travel_Frequently 1392      Research & Development 3               \n",
       "5 27  Travel_Rarely      591      Research & Development 2               \n",
       "6 32  Travel_Frequently 1005      Research & Development 2               \n",
       "  Education EducationField EmployeeNumber EnvironmentSatisfaction Gender ⋯\n",
       "1 2         Life Sciences  1              2                       Female ⋯\n",
       "2 1         Life Sciences  2              3                       Male   ⋯\n",
       "3 2         Other          4              4                       Male   ⋯\n",
       "4 4         Life Sciences  5              4                       Female ⋯\n",
       "5 1         Medical        7              1                       Male   ⋯\n",
       "6 2         Life Sciences  8              4                       Male   ⋯\n",
       "  JobRole_Manufacturing Director JobRole_Research Director\n",
       "1 0                              0                        \n",
       "2 0                              0                        \n",
       "3 0                              0                        \n",
       "4 0                              0                        \n",
       "5 0                              0                        \n",
       "6 0                              0                        \n",
       "  JobRole_Research Scientist JobRole_Sales Executive\n",
       "1 0                          1                      \n",
       "2 1                          0                      \n",
       "3 0                          0                      \n",
       "4 1                          0                      \n",
       "5 0                          0                      \n",
       "6 0                          0                      \n",
       "  JobRole_Sales Representative MaritalStatus_Divorced MaritalStatus_Married\n",
       "1 0                            0                      0                    \n",
       "2 0                            0                      1                    \n",
       "3 0                            0                      0                    \n",
       "4 0                            0                      1                    \n",
       "5 0                            0                      1                    \n",
       "6 0                            0                      0                    \n",
       "  MaritalStatus_Single OverTime_No OverTime_Yes\n",
       "1 1                    0           1           \n",
       "2 0                    1           0           \n",
       "3 1                    0           1           \n",
       "4 0                    0           1           \n",
       "5 0                    1           0           \n",
       "6 1                    1           0           "
      ]
     },
     "metadata": {},
     "output_type": "display_data"
    }
   ],
   "source": [
    "library(fastDummies)\n",
    "attrition <- dataframe['Attrition']                         # saves values of attrition \n",
    "dataframe <- dataframe[!names(dataframe) %in% 'Attrition']  # removes attrition, as we dont want attrition dummies\n",
    "dataframe <- dummy_columns(dataframe)                       # generates and saves dummies\n",
    "head(dataframe)\n"
   ]
  },
  {
   "cell_type": "code",
   "execution_count": 13,
   "metadata": {},
   "outputs": [
    {
     "name": "stderr",
     "output_type": "stream",
     "text": [
      "Joining by: Age, DailyRate, DistanceFromHome, Education, EmployeeNumber, EnvironmentSatisfaction, HourlyRate, JobInvolvement, JobSatisfaction, MonthlyIncome, MonthlyRate, NumCompaniesWorked, PerformanceRating, RelationshipSatisfaction, StockOptionLevel, TrainingTimesLastYear, WorkLifeBalance, YearsInCurrentRole, YearsSinceLastPromotion, YearsWithCurrManager\n",
      "\n"
     ]
    }
   ],
   "source": [
    "# We will now do the 're-merge' mentioned earlier, we make sure to only select the numerical dummy values from the\n",
    "# dataframe, and merge those with the numerical data\n",
    "df <- join(numericData, dataframe[ , purrr::map_lgl(dataframe, is.numeric)])"
   ]
  },
  {
   "cell_type": "code",
   "execution_count": 14,
   "metadata": {},
   "outputs": [
    {
     "data": {
      "text/html": [
       "52"
      ],
      "text/latex": [
       "52"
      ],
      "text/markdown": [
       "52"
      ],
      "text/plain": [
       "[1] 52"
      ]
     },
     "metadata": {},
     "output_type": "display_data"
    },
    {
     "data": {
      "text/html": [
       "<table>\n",
       "<caption>A data.frame: 6 × 52</caption>\n",
       "<thead>\n",
       "\t<tr><th></th><th scope=col>Age</th><th scope=col>DailyRate</th><th scope=col>DistanceFromHome</th><th scope=col>Education</th><th scope=col>EmployeeNumber</th><th scope=col>EnvironmentSatisfaction</th><th scope=col>HourlyRate</th><th scope=col>JobInvolvement</th><th scope=col>JobSatisfaction</th><th scope=col>MonthlyIncome</th><th scope=col>⋯</th><th scope=col>JobRole_Manufacturing Director</th><th scope=col>JobRole_Research Director</th><th scope=col>JobRole_Research Scientist</th><th scope=col>JobRole_Sales Executive</th><th scope=col>JobRole_Sales Representative</th><th scope=col>MaritalStatus_Divorced</th><th scope=col>MaritalStatus_Married</th><th scope=col>MaritalStatus_Single</th><th scope=col>OverTime_No</th><th scope=col>OverTime_Yes</th></tr>\n",
       "\t<tr><th></th><th scope=col>&lt;int&gt;</th><th scope=col>&lt;int&gt;</th><th scope=col>&lt;int&gt;</th><th scope=col>&lt;int&gt;</th><th scope=col>&lt;int&gt;</th><th scope=col>&lt;int&gt;</th><th scope=col>&lt;int&gt;</th><th scope=col>&lt;int&gt;</th><th scope=col>&lt;int&gt;</th><th scope=col>&lt;int&gt;</th><th scope=col>⋯</th><th scope=col>&lt;int&gt;</th><th scope=col>&lt;int&gt;</th><th scope=col>&lt;int&gt;</th><th scope=col>&lt;int&gt;</th><th scope=col>&lt;int&gt;</th><th scope=col>&lt;int&gt;</th><th scope=col>&lt;int&gt;</th><th scope=col>&lt;int&gt;</th><th scope=col>&lt;int&gt;</th><th scope=col>&lt;int&gt;</th></tr>\n",
       "</thead>\n",
       "<tbody>\n",
       "\t<tr><th scope=row>1</th><td>41</td><td>1102</td><td>1</td><td>2</td><td>1</td><td>2</td><td>94</td><td>3</td><td>4</td><td>5993</td><td>⋯</td><td>0</td><td>0</td><td>0</td><td>1</td><td>0</td><td>0</td><td>0</td><td>1</td><td>0</td><td>1</td></tr>\n",
       "\t<tr><th scope=row>2</th><td>49</td><td> 279</td><td>8</td><td>1</td><td>2</td><td>3</td><td>61</td><td>2</td><td>2</td><td>5130</td><td>⋯</td><td>0</td><td>0</td><td>1</td><td>0</td><td>0</td><td>0</td><td>1</td><td>0</td><td>1</td><td>0</td></tr>\n",
       "\t<tr><th scope=row>3</th><td>37</td><td>1373</td><td>2</td><td>2</td><td>4</td><td>4</td><td>92</td><td>2</td><td>3</td><td>2090</td><td>⋯</td><td>0</td><td>0</td><td>0</td><td>0</td><td>0</td><td>0</td><td>0</td><td>1</td><td>0</td><td>1</td></tr>\n",
       "\t<tr><th scope=row>4</th><td>33</td><td>1392</td><td>3</td><td>4</td><td>5</td><td>4</td><td>56</td><td>3</td><td>3</td><td>2909</td><td>⋯</td><td>0</td><td>0</td><td>1</td><td>0</td><td>0</td><td>0</td><td>1</td><td>0</td><td>0</td><td>1</td></tr>\n",
       "\t<tr><th scope=row>5</th><td>27</td><td> 591</td><td>2</td><td>1</td><td>7</td><td>1</td><td>40</td><td>3</td><td>2</td><td>3468</td><td>⋯</td><td>0</td><td>0</td><td>0</td><td>0</td><td>0</td><td>0</td><td>1</td><td>0</td><td>1</td><td>0</td></tr>\n",
       "\t<tr><th scope=row>6</th><td>32</td><td>1005</td><td>2</td><td>2</td><td>8</td><td>4</td><td>79</td><td>3</td><td>4</td><td>3068</td><td>⋯</td><td>0</td><td>0</td><td>0</td><td>0</td><td>0</td><td>0</td><td>0</td><td>1</td><td>1</td><td>0</td></tr>\n",
       "</tbody>\n",
       "</table>\n"
      ],
      "text/latex": [
       "A data.frame: 6 × 52\n",
       "\\begin{tabular}{r|lllllllllllllllllllll}\n",
       "  & Age & DailyRate & DistanceFromHome & Education & EmployeeNumber & EnvironmentSatisfaction & HourlyRate & JobInvolvement & JobSatisfaction & MonthlyIncome & ⋯ & JobRole\\_Manufacturing Director & JobRole\\_Research Director & JobRole\\_Research Scientist & JobRole\\_Sales Executive & JobRole\\_Sales Representative & MaritalStatus\\_Divorced & MaritalStatus\\_Married & MaritalStatus\\_Single & OverTime\\_No & OverTime\\_Yes\\\\\n",
       "  & <int> & <int> & <int> & <int> & <int> & <int> & <int> & <int> & <int> & <int> & ⋯ & <int> & <int> & <int> & <int> & <int> & <int> & <int> & <int> & <int> & <int>\\\\\n",
       "\\hline\n",
       "\t1 & 41 & 1102 & 1 & 2 & 1 & 2 & 94 & 3 & 4 & 5993 & ⋯ & 0 & 0 & 0 & 1 & 0 & 0 & 0 & 1 & 0 & 1\\\\\n",
       "\t2 & 49 &  279 & 8 & 1 & 2 & 3 & 61 & 2 & 2 & 5130 & ⋯ & 0 & 0 & 1 & 0 & 0 & 0 & 1 & 0 & 1 & 0\\\\\n",
       "\t3 & 37 & 1373 & 2 & 2 & 4 & 4 & 92 & 2 & 3 & 2090 & ⋯ & 0 & 0 & 0 & 0 & 0 & 0 & 0 & 1 & 0 & 1\\\\\n",
       "\t4 & 33 & 1392 & 3 & 4 & 5 & 4 & 56 & 3 & 3 & 2909 & ⋯ & 0 & 0 & 1 & 0 & 0 & 0 & 1 & 0 & 0 & 1\\\\\n",
       "\t5 & 27 &  591 & 2 & 1 & 7 & 1 & 40 & 3 & 2 & 3468 & ⋯ & 0 & 0 & 0 & 0 & 0 & 0 & 1 & 0 & 1 & 0\\\\\n",
       "\t6 & 32 & 1005 & 2 & 2 & 8 & 4 & 79 & 3 & 4 & 3068 & ⋯ & 0 & 0 & 0 & 0 & 0 & 0 & 0 & 1 & 1 & 0\\\\\n",
       "\\end{tabular}\n"
      ],
      "text/markdown": [
       "\n",
       "A data.frame: 6 × 52\n",
       "\n",
       "| <!--/--> | Age &lt;int&gt; | DailyRate &lt;int&gt; | DistanceFromHome &lt;int&gt; | Education &lt;int&gt; | EmployeeNumber &lt;int&gt; | EnvironmentSatisfaction &lt;int&gt; | HourlyRate &lt;int&gt; | JobInvolvement &lt;int&gt; | JobSatisfaction &lt;int&gt; | MonthlyIncome &lt;int&gt; | ⋯ ⋯ | JobRole_Manufacturing Director &lt;int&gt; | JobRole_Research Director &lt;int&gt; | JobRole_Research Scientist &lt;int&gt; | JobRole_Sales Executive &lt;int&gt; | JobRole_Sales Representative &lt;int&gt; | MaritalStatus_Divorced &lt;int&gt; | MaritalStatus_Married &lt;int&gt; | MaritalStatus_Single &lt;int&gt; | OverTime_No &lt;int&gt; | OverTime_Yes &lt;int&gt; |\n",
       "|---|---|---|---|---|---|---|---|---|---|---|---|---|---|---|---|---|---|---|---|---|---|\n",
       "| 1 | 41 | 1102 | 1 | 2 | 1 | 2 | 94 | 3 | 4 | 5993 | ⋯ | 0 | 0 | 0 | 1 | 0 | 0 | 0 | 1 | 0 | 1 |\n",
       "| 2 | 49 |  279 | 8 | 1 | 2 | 3 | 61 | 2 | 2 | 5130 | ⋯ | 0 | 0 | 1 | 0 | 0 | 0 | 1 | 0 | 1 | 0 |\n",
       "| 3 | 37 | 1373 | 2 | 2 | 4 | 4 | 92 | 2 | 3 | 2090 | ⋯ | 0 | 0 | 0 | 0 | 0 | 0 | 0 | 1 | 0 | 1 |\n",
       "| 4 | 33 | 1392 | 3 | 4 | 5 | 4 | 56 | 3 | 3 | 2909 | ⋯ | 0 | 0 | 1 | 0 | 0 | 0 | 1 | 0 | 0 | 1 |\n",
       "| 5 | 27 |  591 | 2 | 1 | 7 | 1 | 40 | 3 | 2 | 3468 | ⋯ | 0 | 0 | 0 | 0 | 0 | 0 | 1 | 0 | 1 | 0 |\n",
       "| 6 | 32 | 1005 | 2 | 2 | 8 | 4 | 79 | 3 | 4 | 3068 | ⋯ | 0 | 0 | 0 | 0 | 0 | 0 | 0 | 1 | 1 | 0 |\n",
       "\n"
      ],
      "text/plain": [
       "  Age DailyRate DistanceFromHome Education EmployeeNumber\n",
       "1 41  1102      1                2         1             \n",
       "2 49   279      8                1         2             \n",
       "3 37  1373      2                2         4             \n",
       "4 33  1392      3                4         5             \n",
       "5 27   591      2                1         7             \n",
       "6 32  1005      2                2         8             \n",
       "  EnvironmentSatisfaction HourlyRate JobInvolvement JobSatisfaction\n",
       "1 2                       94         3              4              \n",
       "2 3                       61         2              2              \n",
       "3 4                       92         2              3              \n",
       "4 4                       56         3              3              \n",
       "5 1                       40         3              2              \n",
       "6 4                       79         3              4              \n",
       "  MonthlyIncome ⋯ JobRole_Manufacturing Director JobRole_Research Director\n",
       "1 5993          ⋯ 0                              0                        \n",
       "2 5130          ⋯ 0                              0                        \n",
       "3 2090          ⋯ 0                              0                        \n",
       "4 2909          ⋯ 0                              0                        \n",
       "5 3468          ⋯ 0                              0                        \n",
       "6 3068          ⋯ 0                              0                        \n",
       "  JobRole_Research Scientist JobRole_Sales Executive\n",
       "1 0                          1                      \n",
       "2 1                          0                      \n",
       "3 0                          0                      \n",
       "4 1                          0                      \n",
       "5 0                          0                      \n",
       "6 0                          0                      \n",
       "  JobRole_Sales Representative MaritalStatus_Divorced MaritalStatus_Married\n",
       "1 0                            0                      0                    \n",
       "2 0                            0                      1                    \n",
       "3 0                            0                      0                    \n",
       "4 0                            0                      1                    \n",
       "5 0                            0                      1                    \n",
       "6 0                            0                      0                    \n",
       "  MaritalStatus_Single OverTime_No OverTime_Yes\n",
       "1 1                    0           1           \n",
       "2 0                    1           0           \n",
       "3 1                    0           1           \n",
       "4 0                    0           1           \n",
       "5 0                    1           0           \n",
       "6 1                    1           0           "
      ]
     },
     "metadata": {},
     "output_type": "display_data"
    },
    {
     "data": {
      "text/html": [
       "<style>\n",
       ".list-inline {list-style: none; margin:0; padding: 0}\n",
       ".list-inline>li {display: inline-block}\n",
       ".list-inline>li:not(:last-child)::after {content: \"\\00b7\"; padding: 0 .5ex}\n",
       "</style>\n",
       "<ol class=list-inline><li>'Age'</li><li>'DailyRate'</li><li>'DistanceFromHome'</li><li>'Education'</li><li>'EmployeeNumber'</li><li>'EnvironmentSatisfaction'</li><li>'HourlyRate'</li><li>'JobInvolvement'</li><li>'JobSatisfaction'</li><li>'MonthlyIncome'</li><li>'MonthlyRate'</li><li>'NumCompaniesWorked'</li><li>'PerformanceRating'</li><li>'RelationshipSatisfaction'</li><li>'StockOptionLevel'</li><li>'TrainingTimesLastYear'</li><li>'WorkLifeBalance'</li><li>'YearsInCurrentRole'</li><li>'YearsSinceLastPromotion'</li><li>'YearsWithCurrManager'</li><li>'JobLevel'</li><li>'PercentSalaryHike'</li><li>'TotalWorkingYears'</li><li>'YearsAtCompany'</li><li>'BusinessTravel_Non-Travel'</li><li>'BusinessTravel_Travel_Frequently'</li><li>'BusinessTravel_Travel_Rarely'</li><li>'Department_Human Resources'</li><li>'Department_Research &amp; Development'</li><li>'Department_Sales'</li><li>'EducationField_Human Resources'</li><li>'EducationField_Life Sciences'</li><li>'EducationField_Marketing'</li><li>'EducationField_Medical'</li><li>'EducationField_Other'</li><li>'EducationField_Technical Degree'</li><li>'Gender_Female'</li><li>'Gender_Male'</li><li>'JobRole_Healthcare Representative'</li><li>'JobRole_Human Resources'</li><li>'JobRole_Laboratory Technician'</li><li>'JobRole_Manager'</li><li>'JobRole_Manufacturing Director'</li><li>'JobRole_Research Director'</li><li>'JobRole_Research Scientist'</li><li>'JobRole_Sales Executive'</li><li>'JobRole_Sales Representative'</li><li>'MaritalStatus_Divorced'</li><li>'MaritalStatus_Married'</li><li>'MaritalStatus_Single'</li><li>'OverTime_No'</li><li>'OverTime_Yes'</li></ol>\n"
      ],
      "text/latex": [
       "\\begin{enumerate*}\n",
       "\\item 'Age'\n",
       "\\item 'DailyRate'\n",
       "\\item 'DistanceFromHome'\n",
       "\\item 'Education'\n",
       "\\item 'EmployeeNumber'\n",
       "\\item 'EnvironmentSatisfaction'\n",
       "\\item 'HourlyRate'\n",
       "\\item 'JobInvolvement'\n",
       "\\item 'JobSatisfaction'\n",
       "\\item 'MonthlyIncome'\n",
       "\\item 'MonthlyRate'\n",
       "\\item 'NumCompaniesWorked'\n",
       "\\item 'PerformanceRating'\n",
       "\\item 'RelationshipSatisfaction'\n",
       "\\item 'StockOptionLevel'\n",
       "\\item 'TrainingTimesLastYear'\n",
       "\\item 'WorkLifeBalance'\n",
       "\\item 'YearsInCurrentRole'\n",
       "\\item 'YearsSinceLastPromotion'\n",
       "\\item 'YearsWithCurrManager'\n",
       "\\item 'JobLevel'\n",
       "\\item 'PercentSalaryHike'\n",
       "\\item 'TotalWorkingYears'\n",
       "\\item 'YearsAtCompany'\n",
       "\\item 'BusinessTravel\\_Non-Travel'\n",
       "\\item 'BusinessTravel\\_Travel\\_Frequently'\n",
       "\\item 'BusinessTravel\\_Travel\\_Rarely'\n",
       "\\item 'Department\\_Human Resources'\n",
       "\\item 'Department\\_Research \\& Development'\n",
       "\\item 'Department\\_Sales'\n",
       "\\item 'EducationField\\_Human Resources'\n",
       "\\item 'EducationField\\_Life Sciences'\n",
       "\\item 'EducationField\\_Marketing'\n",
       "\\item 'EducationField\\_Medical'\n",
       "\\item 'EducationField\\_Other'\n",
       "\\item 'EducationField\\_Technical Degree'\n",
       "\\item 'Gender\\_Female'\n",
       "\\item 'Gender\\_Male'\n",
       "\\item 'JobRole\\_Healthcare Representative'\n",
       "\\item 'JobRole\\_Human Resources'\n",
       "\\item 'JobRole\\_Laboratory Technician'\n",
       "\\item 'JobRole\\_Manager'\n",
       "\\item 'JobRole\\_Manufacturing Director'\n",
       "\\item 'JobRole\\_Research Director'\n",
       "\\item 'JobRole\\_Research Scientist'\n",
       "\\item 'JobRole\\_Sales Executive'\n",
       "\\item 'JobRole\\_Sales Representative'\n",
       "\\item 'MaritalStatus\\_Divorced'\n",
       "\\item 'MaritalStatus\\_Married'\n",
       "\\item 'MaritalStatus\\_Single'\n",
       "\\item 'OverTime\\_No'\n",
       "\\item 'OverTime\\_Yes'\n",
       "\\end{enumerate*}\n"
      ],
      "text/markdown": [
       "1. 'Age'\n",
       "2. 'DailyRate'\n",
       "3. 'DistanceFromHome'\n",
       "4. 'Education'\n",
       "5. 'EmployeeNumber'\n",
       "6. 'EnvironmentSatisfaction'\n",
       "7. 'HourlyRate'\n",
       "8. 'JobInvolvement'\n",
       "9. 'JobSatisfaction'\n",
       "10. 'MonthlyIncome'\n",
       "11. 'MonthlyRate'\n",
       "12. 'NumCompaniesWorked'\n",
       "13. 'PerformanceRating'\n",
       "14. 'RelationshipSatisfaction'\n",
       "15. 'StockOptionLevel'\n",
       "16. 'TrainingTimesLastYear'\n",
       "17. 'WorkLifeBalance'\n",
       "18. 'YearsInCurrentRole'\n",
       "19. 'YearsSinceLastPromotion'\n",
       "20. 'YearsWithCurrManager'\n",
       "21. 'JobLevel'\n",
       "22. 'PercentSalaryHike'\n",
       "23. 'TotalWorkingYears'\n",
       "24. 'YearsAtCompany'\n",
       "25. 'BusinessTravel_Non-Travel'\n",
       "26. 'BusinessTravel_Travel_Frequently'\n",
       "27. 'BusinessTravel_Travel_Rarely'\n",
       "28. 'Department_Human Resources'\n",
       "29. 'Department_Research &amp; Development'\n",
       "30. 'Department_Sales'\n",
       "31. 'EducationField_Human Resources'\n",
       "32. 'EducationField_Life Sciences'\n",
       "33. 'EducationField_Marketing'\n",
       "34. 'EducationField_Medical'\n",
       "35. 'EducationField_Other'\n",
       "36. 'EducationField_Technical Degree'\n",
       "37. 'Gender_Female'\n",
       "38. 'Gender_Male'\n",
       "39. 'JobRole_Healthcare Representative'\n",
       "40. 'JobRole_Human Resources'\n",
       "41. 'JobRole_Laboratory Technician'\n",
       "42. 'JobRole_Manager'\n",
       "43. 'JobRole_Manufacturing Director'\n",
       "44. 'JobRole_Research Director'\n",
       "45. 'JobRole_Research Scientist'\n",
       "46. 'JobRole_Sales Executive'\n",
       "47. 'JobRole_Sales Representative'\n",
       "48. 'MaritalStatus_Divorced'\n",
       "49. 'MaritalStatus_Married'\n",
       "50. 'MaritalStatus_Single'\n",
       "51. 'OverTime_No'\n",
       "52. 'OverTime_Yes'\n",
       "\n",
       "\n"
      ],
      "text/plain": [
       " [1] \"Age\"                               \"DailyRate\"                        \n",
       " [3] \"DistanceFromHome\"                  \"Education\"                        \n",
       " [5] \"EmployeeNumber\"                    \"EnvironmentSatisfaction\"          \n",
       " [7] \"HourlyRate\"                        \"JobInvolvement\"                   \n",
       " [9] \"JobSatisfaction\"                   \"MonthlyIncome\"                    \n",
       "[11] \"MonthlyRate\"                       \"NumCompaniesWorked\"               \n",
       "[13] \"PerformanceRating\"                 \"RelationshipSatisfaction\"         \n",
       "[15] \"StockOptionLevel\"                  \"TrainingTimesLastYear\"            \n",
       "[17] \"WorkLifeBalance\"                   \"YearsInCurrentRole\"               \n",
       "[19] \"YearsSinceLastPromotion\"           \"YearsWithCurrManager\"             \n",
       "[21] \"JobLevel\"                          \"PercentSalaryHike\"                \n",
       "[23] \"TotalWorkingYears\"                 \"YearsAtCompany\"                   \n",
       "[25] \"BusinessTravel_Non-Travel\"         \"BusinessTravel_Travel_Frequently\" \n",
       "[27] \"BusinessTravel_Travel_Rarely\"      \"Department_Human Resources\"       \n",
       "[29] \"Department_Research & Development\" \"Department_Sales\"                 \n",
       "[31] \"EducationField_Human Resources\"    \"EducationField_Life Sciences\"     \n",
       "[33] \"EducationField_Marketing\"          \"EducationField_Medical\"           \n",
       "[35] \"EducationField_Other\"              \"EducationField_Technical Degree\"  \n",
       "[37] \"Gender_Female\"                     \"Gender_Male\"                      \n",
       "[39] \"JobRole_Healthcare Representative\" \"JobRole_Human Resources\"          \n",
       "[41] \"JobRole_Laboratory Technician\"     \"JobRole_Manager\"                  \n",
       "[43] \"JobRole_Manufacturing Director\"    \"JobRole_Research Director\"        \n",
       "[45] \"JobRole_Research Scientist\"        \"JobRole_Sales Executive\"          \n",
       "[47] \"JobRole_Sales Representative\"      \"MaritalStatus_Divorced\"           \n",
       "[49] \"MaritalStatus_Married\"             \"MaritalStatus_Single\"             \n",
       "[51] \"OverTime_No\"                       \"OverTime_Yes\"                     "
      ]
     },
     "metadata": {},
     "output_type": "display_data"
    }
   ],
   "source": [
    "# We finally have an all-numeric dataframe! Let's do some checks to understand our final predictive variables!\n",
    "ncol(df)          \n",
    "head(df)\n",
    "colnames(df)"
   ]
  },
  {
   "cell_type": "markdown",
   "metadata": {},
   "source": [
    "For the models we will be using, we can't forget to include the attrition column! We will quickly add it to the df"
   ]
  },
  {
   "cell_type": "code",
   "execution_count": 15,
   "metadata": {},
   "outputs": [],
   "source": [
    "df <- cbind(df, attrition)"
   ]
  },
  {
   "cell_type": "markdown",
   "metadata": {},
   "source": [
    "Before building the model, we will want to get a count of the attrition values. This will give us a baseline value to compare our results against by giving us the result we would get by purely guessing either Yes or No. It can also be helpful in pointing out skewness"
   ]
  },
  {
   "cell_type": "code",
   "execution_count": 16,
   "metadata": {},
   "outputs": [
    {
     "data": {
      "text/html": [
       "237"
      ],
      "text/latex": [
       "237"
      ],
      "text/markdown": [
       "237"
      ],
      "text/plain": [
       "[1] 237"
      ]
     },
     "metadata": {},
     "output_type": "display_data"
    }
   ],
   "source": [
    "sum(attrition == \"Yes\")"
   ]
  },
  {
   "cell_type": "code",
   "execution_count": 17,
   "metadata": {},
   "outputs": [
    {
     "data": {
      "text/html": [
       "1233"
      ],
      "text/latex": [
       "1233"
      ],
      "text/markdown": [
       "1233"
      ],
      "text/plain": [
       "[1] 1233"
      ]
     },
     "metadata": {},
     "output_type": "display_data"
    }
   ],
   "source": [
    "sum(attrition == \"No\")"
   ]
  },
  {
   "cell_type": "markdown",
   "metadata": {},
   "source": [
    "Aha! We see that the attrition values are highly skewed. In fact, if we were to guess NO no matter what, we would be right 83% of the time! This is an important number to remember as we create models because we will want to make sure that whatever results we get are higher than 83. This will be tough though, as 83% is already pretty high. "
   ]
  },
  {
   "cell_type": "markdown",
   "metadata": {},
   "source": [
    "To improve our data even further, its good practice to remove this skew from our trainig/testing data. We will do this by using a program to create synthetic, realistic minority cases ('Yes' cases, such that the dataset will be balanced. We will do this through the SMOTE library."
   ]
  },
  {
   "cell_type": "code",
   "execution_count": 18,
   "metadata": {},
   "outputs": [],
   "source": [
    "df$Attrition <- as.factor(df$Attrition)  # this changes Attrition to a factor, a requirement of SMOTE and of later models"
   ]
  },
  {
   "cell_type": "code",
   "execution_count": 19,
   "metadata": {},
   "outputs": [],
   "source": [
    "suppressPackageStartupMessages(library(DMwR))                  # library containing SMOTE function\n",
    "df <- SMOTE(Attrition ~ ., df, perc.over = 600,perc.under=100) # SMOTE Function, perc used to specify number of yes/no that need to be generated"
   ]
  },
  {
   "cell_type": "code",
   "execution_count": 20,
   "metadata": {},
   "outputs": [],
   "source": [
    "attrition <- df$Attrition  # we will now save our normalized attrition values"
   ]
  },
  {
   "cell_type": "markdown",
   "metadata": {},
   "source": [
    "We can see now that the 'yes' rows have increased to close to the same amount as the 'no' rows, success!"
   ]
  },
  {
   "cell_type": "code",
   "execution_count": 21,
   "metadata": {},
   "outputs": [
    {
     "data": {
      "text/html": [
       "1659"
      ],
      "text/latex": [
       "1659"
      ],
      "text/markdown": [
       "1659"
      ],
      "text/plain": [
       "[1] 1659"
      ]
     },
     "metadata": {},
     "output_type": "display_data"
    }
   ],
   "source": [
    "sum(attrition == \"Yes\") "
   ]
  },
  {
   "cell_type": "code",
   "execution_count": 22,
   "metadata": {},
   "outputs": [
    {
     "data": {
      "text/html": [
       "1422"
      ],
      "text/latex": [
       "1422"
      ],
      "text/markdown": [
       "1422"
      ],
      "text/plain": [
       "[1] 1422"
      ]
     },
     "metadata": {},
     "output_type": "display_data"
    }
   ],
   "source": [
    "sum(attrition == \"No\")"
   ]
  },
  {
   "cell_type": "code",
   "execution_count": null,
   "metadata": {},
   "outputs": [],
   "source": []
  },
  {
   "cell_type": "markdown",
   "metadata": {},
   "source": [
    "Whew, now it seems we have data that we can plug into a model. Finally!!!!"
   ]
  },
  {
   "cell_type": "markdown",
   "metadata": {},
   "source": [
    "We will use the Machine Learning package H2O in R to develop numerous ML models to compare against each other and find the best solution. Remember that anything less than 83 percent is not good."
   ]
  },
  {
   "cell_type": "code",
   "execution_count": 23,
   "metadata": {},
   "outputs": [
    {
     "name": "stdout",
     "output_type": "stream",
     "text": [
      " Connection successful!\n",
      "\n",
      "R is connected to the H2O cluster: \n",
      "    H2O cluster uptime:         12 hours 27 minutes \n",
      "    H2O cluster timezone:       America/Los_Angeles \n",
      "    H2O data parsing timezone:  UTC \n",
      "    H2O cluster version:        3.30.1.2 \n",
      "    H2O cluster version age:    8 days  \n",
      "    H2O cluster name:           H2O_from_python_naveenmirapuri_9i7lvx \n",
      "    H2O cluster total nodes:    1 \n",
      "    H2O cluster total memory:   3.41 GB \n",
      "    H2O cluster total cores:    4 \n",
      "    H2O cluster allowed cores:  4 \n",
      "    H2O cluster healthy:        TRUE \n",
      "    H2O Connection ip:          localhost \n",
      "    H2O Connection port:        54321 \n",
      "    H2O Connection proxy:       NA \n",
      "    H2O Internal Security:      FALSE \n",
      "    H2O API Extensions:         Amazon S3, XGBoost, Algos, AutoML, Core V3, TargetEncoder, Core V4 \n",
      "    R Version:                  R version 4.0.2 (2020-06-22) \n",
      "\n"
     ]
    }
   ],
   "source": [
    "# initialize and import supporting packages for h2o\n",
    "suppressPackageStartupMessages(library(dplyr))\n",
    "suppressPackageStartupMessages(library(h2o))\n",
    "h2o.init(nthreads = -1)"
   ]
  },
  {
   "cell_type": "code",
   "execution_count": 24,
   "metadata": {},
   "outputs": [
    {
     "name": "stdout",
     "output_type": "stream",
     "text": [
      "  |======================================================================| 100%\n"
     ]
    }
   ],
   "source": [
    "# we will have to convert our df to an h2o-compatible frame\n",
    "dfH2O <- as.h2o(df)\n",
    "dfH2O['Attrition'] = as.factor(dfH2O['Attrition'])"
   ]
  },
  {
   "cell_type": "code",
   "execution_count": 25,
   "metadata": {},
   "outputs": [
    {
     "data": {
      "text/html": [
       "<style>\n",
       ".list-inline {list-style: none; margin:0; padding: 0}\n",
       ".list-inline>li {display: inline-block}\n",
       ".list-inline>li:not(:last-child)::after {content: \"\\00b7\"; padding: 0 .5ex}\n",
       "</style>\n",
       "<ol class=list-inline><li>3081</li><li>53</li></ol>\n"
      ],
      "text/latex": [
       "\\begin{enumerate*}\n",
       "\\item 3081\n",
       "\\item 53\n",
       "\\end{enumerate*}\n"
      ],
      "text/markdown": [
       "1. 3081\n",
       "2. 53\n",
       "\n",
       "\n"
      ],
      "text/plain": [
       "[1] 3081   53"
      ]
     },
     "metadata": {},
     "output_type": "display_data"
    }
   ],
   "source": [
    "dim(dfH2O)   # returns the dimensions of the dataframe to get a better idea before modeling"
   ]
  },
  {
   "cell_type": "markdown",
   "metadata": {},
   "source": [
    "We will now have to split our H2O frame into a train, cross-validation, and testing set, each of which will be used to evaluate our model. We will use 60% for training, 20% for validation, and 20% for testing, chosen at random"
   ]
  },
  {
   "cell_type": "code",
   "execution_count": 26,
   "metadata": {},
   "outputs": [],
   "source": [
    "split <- h2o.splitFrame(dfH2O, ratios = c(0.6,0.2), seed = 1234)\n",
    "train <- split[[1]]\n",
    "valid <- split[[2]]\n",
    "test <- split[[3]]"
   ]
  },
  {
   "cell_type": "markdown",
   "metadata": {},
   "source": [
    "For our model, we will set our response variable (what we are trying to predict) to Attrition, and our predictors to all of our df columns EXCEPT attrition, as we don't want to use attrition to predict attrition."
   ]
  },
  {
   "cell_type": "code",
   "execution_count": 27,
   "metadata": {},
   "outputs": [
    {
     "data": {
      "text/html": [
       "<style>\n",
       ".list-inline {list-style: none; margin:0; padding: 0}\n",
       ".list-inline>li {display: inline-block}\n",
       ".list-inline>li:not(:last-child)::after {content: \"\\00b7\"; padding: 0 .5ex}\n",
       "</style>\n",
       "<ol class=list-inline><li>'Age'</li><li>'DailyRate'</li><li>'DistanceFromHome'</li><li>'Education'</li><li>'EmployeeNumber'</li><li>'EnvironmentSatisfaction'</li><li>'HourlyRate'</li><li>'JobInvolvement'</li><li>'JobSatisfaction'</li><li>'MonthlyIncome'</li><li>'MonthlyRate'</li><li>'NumCompaniesWorked'</li><li>'PerformanceRating'</li><li>'RelationshipSatisfaction'</li><li>'StockOptionLevel'</li><li>'TrainingTimesLastYear'</li><li>'WorkLifeBalance'</li><li>'YearsInCurrentRole'</li><li>'YearsSinceLastPromotion'</li><li>'YearsWithCurrManager'</li><li>'JobLevel'</li><li>'PercentSalaryHike'</li><li>'TotalWorkingYears'</li><li>'YearsAtCompany'</li><li>'BusinessTravel_Non-Travel'</li><li>'BusinessTravel_Travel_Frequently'</li><li>'BusinessTravel_Travel_Rarely'</li><li>'Department_Human Resources'</li><li>'Department_Research &amp; Development'</li><li>'Department_Sales'</li><li>'EducationField_Human Resources'</li><li>'EducationField_Life Sciences'</li><li>'EducationField_Marketing'</li><li>'EducationField_Medical'</li><li>'EducationField_Other'</li><li>'EducationField_Technical Degree'</li><li>'Gender_Female'</li><li>'Gender_Male'</li><li>'JobRole_Healthcare Representative'</li><li>'JobRole_Human Resources'</li><li>'JobRole_Laboratory Technician'</li><li>'JobRole_Manager'</li><li>'JobRole_Manufacturing Director'</li><li>'JobRole_Research Director'</li><li>'JobRole_Research Scientist'</li><li>'JobRole_Sales Executive'</li><li>'JobRole_Sales Representative'</li><li>'MaritalStatus_Divorced'</li><li>'MaritalStatus_Married'</li><li>'MaritalStatus_Single'</li><li>'OverTime_No'</li><li>'OverTime_Yes'</li></ol>\n"
      ],
      "text/latex": [
       "\\begin{enumerate*}\n",
       "\\item 'Age'\n",
       "\\item 'DailyRate'\n",
       "\\item 'DistanceFromHome'\n",
       "\\item 'Education'\n",
       "\\item 'EmployeeNumber'\n",
       "\\item 'EnvironmentSatisfaction'\n",
       "\\item 'HourlyRate'\n",
       "\\item 'JobInvolvement'\n",
       "\\item 'JobSatisfaction'\n",
       "\\item 'MonthlyIncome'\n",
       "\\item 'MonthlyRate'\n",
       "\\item 'NumCompaniesWorked'\n",
       "\\item 'PerformanceRating'\n",
       "\\item 'RelationshipSatisfaction'\n",
       "\\item 'StockOptionLevel'\n",
       "\\item 'TrainingTimesLastYear'\n",
       "\\item 'WorkLifeBalance'\n",
       "\\item 'YearsInCurrentRole'\n",
       "\\item 'YearsSinceLastPromotion'\n",
       "\\item 'YearsWithCurrManager'\n",
       "\\item 'JobLevel'\n",
       "\\item 'PercentSalaryHike'\n",
       "\\item 'TotalWorkingYears'\n",
       "\\item 'YearsAtCompany'\n",
       "\\item 'BusinessTravel\\_Non-Travel'\n",
       "\\item 'BusinessTravel\\_Travel\\_Frequently'\n",
       "\\item 'BusinessTravel\\_Travel\\_Rarely'\n",
       "\\item 'Department\\_Human Resources'\n",
       "\\item 'Department\\_Research \\& Development'\n",
       "\\item 'Department\\_Sales'\n",
       "\\item 'EducationField\\_Human Resources'\n",
       "\\item 'EducationField\\_Life Sciences'\n",
       "\\item 'EducationField\\_Marketing'\n",
       "\\item 'EducationField\\_Medical'\n",
       "\\item 'EducationField\\_Other'\n",
       "\\item 'EducationField\\_Technical Degree'\n",
       "\\item 'Gender\\_Female'\n",
       "\\item 'Gender\\_Male'\n",
       "\\item 'JobRole\\_Healthcare Representative'\n",
       "\\item 'JobRole\\_Human Resources'\n",
       "\\item 'JobRole\\_Laboratory Technician'\n",
       "\\item 'JobRole\\_Manager'\n",
       "\\item 'JobRole\\_Manufacturing Director'\n",
       "\\item 'JobRole\\_Research Director'\n",
       "\\item 'JobRole\\_Research Scientist'\n",
       "\\item 'JobRole\\_Sales Executive'\n",
       "\\item 'JobRole\\_Sales Representative'\n",
       "\\item 'MaritalStatus\\_Divorced'\n",
       "\\item 'MaritalStatus\\_Married'\n",
       "\\item 'MaritalStatus\\_Single'\n",
       "\\item 'OverTime\\_No'\n",
       "\\item 'OverTime\\_Yes'\n",
       "\\end{enumerate*}\n"
      ],
      "text/markdown": [
       "1. 'Age'\n",
       "2. 'DailyRate'\n",
       "3. 'DistanceFromHome'\n",
       "4. 'Education'\n",
       "5. 'EmployeeNumber'\n",
       "6. 'EnvironmentSatisfaction'\n",
       "7. 'HourlyRate'\n",
       "8. 'JobInvolvement'\n",
       "9. 'JobSatisfaction'\n",
       "10. 'MonthlyIncome'\n",
       "11. 'MonthlyRate'\n",
       "12. 'NumCompaniesWorked'\n",
       "13. 'PerformanceRating'\n",
       "14. 'RelationshipSatisfaction'\n",
       "15. 'StockOptionLevel'\n",
       "16. 'TrainingTimesLastYear'\n",
       "17. 'WorkLifeBalance'\n",
       "18. 'YearsInCurrentRole'\n",
       "19. 'YearsSinceLastPromotion'\n",
       "20. 'YearsWithCurrManager'\n",
       "21. 'JobLevel'\n",
       "22. 'PercentSalaryHike'\n",
       "23. 'TotalWorkingYears'\n",
       "24. 'YearsAtCompany'\n",
       "25. 'BusinessTravel_Non-Travel'\n",
       "26. 'BusinessTravel_Travel_Frequently'\n",
       "27. 'BusinessTravel_Travel_Rarely'\n",
       "28. 'Department_Human Resources'\n",
       "29. 'Department_Research &amp; Development'\n",
       "30. 'Department_Sales'\n",
       "31. 'EducationField_Human Resources'\n",
       "32. 'EducationField_Life Sciences'\n",
       "33. 'EducationField_Marketing'\n",
       "34. 'EducationField_Medical'\n",
       "35. 'EducationField_Other'\n",
       "36. 'EducationField_Technical Degree'\n",
       "37. 'Gender_Female'\n",
       "38. 'Gender_Male'\n",
       "39. 'JobRole_Healthcare Representative'\n",
       "40. 'JobRole_Human Resources'\n",
       "41. 'JobRole_Laboratory Technician'\n",
       "42. 'JobRole_Manager'\n",
       "43. 'JobRole_Manufacturing Director'\n",
       "44. 'JobRole_Research Director'\n",
       "45. 'JobRole_Research Scientist'\n",
       "46. 'JobRole_Sales Executive'\n",
       "47. 'JobRole_Sales Representative'\n",
       "48. 'MaritalStatus_Divorced'\n",
       "49. 'MaritalStatus_Married'\n",
       "50. 'MaritalStatus_Single'\n",
       "51. 'OverTime_No'\n",
       "52. 'OverTime_Yes'\n",
       "\n",
       "\n"
      ],
      "text/plain": [
       " [1] \"Age\"                               \"DailyRate\"                        \n",
       " [3] \"DistanceFromHome\"                  \"Education\"                        \n",
       " [5] \"EmployeeNumber\"                    \"EnvironmentSatisfaction\"          \n",
       " [7] \"HourlyRate\"                        \"JobInvolvement\"                   \n",
       " [9] \"JobSatisfaction\"                   \"MonthlyIncome\"                    \n",
       "[11] \"MonthlyRate\"                       \"NumCompaniesWorked\"               \n",
       "[13] \"PerformanceRating\"                 \"RelationshipSatisfaction\"         \n",
       "[15] \"StockOptionLevel\"                  \"TrainingTimesLastYear\"            \n",
       "[17] \"WorkLifeBalance\"                   \"YearsInCurrentRole\"               \n",
       "[19] \"YearsSinceLastPromotion\"           \"YearsWithCurrManager\"             \n",
       "[21] \"JobLevel\"                          \"PercentSalaryHike\"                \n",
       "[23] \"TotalWorkingYears\"                 \"YearsAtCompany\"                   \n",
       "[25] \"BusinessTravel_Non-Travel\"         \"BusinessTravel_Travel_Frequently\" \n",
       "[27] \"BusinessTravel_Travel_Rarely\"      \"Department_Human Resources\"       \n",
       "[29] \"Department_Research & Development\" \"Department_Sales\"                 \n",
       "[31] \"EducationField_Human Resources\"    \"EducationField_Life Sciences\"     \n",
       "[33] \"EducationField_Marketing\"          \"EducationField_Medical\"           \n",
       "[35] \"EducationField_Other\"              \"EducationField_Technical Degree\"  \n",
       "[37] \"Gender_Female\"                     \"Gender_Male\"                      \n",
       "[39] \"JobRole_Healthcare Representative\" \"JobRole_Human Resources\"          \n",
       "[41] \"JobRole_Laboratory Technician\"     \"JobRole_Manager\"                  \n",
       "[43] \"JobRole_Manufacturing Director\"    \"JobRole_Research Director\"        \n",
       "[45] \"JobRole_Research Scientist\"        \"JobRole_Sales Executive\"          \n",
       "[47] \"JobRole_Sales Representative\"      \"MaritalStatus_Divorced\"           \n",
       "[49] \"MaritalStatus_Married\"             \"MaritalStatus_Single\"             \n",
       "[51] \"OverTime_No\"                       \"OverTime_Yes\"                     "
      ]
     },
     "metadata": {},
     "output_type": "display_data"
    }
   ],
   "source": [
    "response <- \"Attrition\"\n",
    "predictors <- setdiff(names(df), response)\n",
    "predictors # displays all of the variables we will use to predict attrition"
   ]
  },
  {
   "cell_type": "markdown",
   "metadata": {},
   "source": [
    "Now for the core of the model. We will be building multiple models listed below:\n",
    "1. Logistic Regression with Random Hyperparameter Search\n",
    "2. Random Forest with Random Hyperparameter Search\n",
    "3. Gradient Boosting Machine with Random Hyperparameter Search\n",
    "4. Neural Network with Random Hyperparameter Search\n",
    "Ensemble Model"
   ]
  },
  {
   "cell_type": "markdown",
   "metadata": {},
   "source": [
    "First, we will start with the Logistic Regression with Random Hyperparameter Search. Hyperparameters are all the different variables (iterations, batches, max run time, etc.) that can significantly change the performance of the model. In this model we have two hyperparams to control all of these variables. Thus, we will search for the best combination in a grid, then extract the best results for logistic regression with the best hyperparameters."
   ]
  },
  {
   "cell_type": "code",
   "execution_count": 28,
   "metadata": {},
   "outputs": [],
   "source": [
    "hyper_params <- list(alpha = seq(from = 0, to = 1, by = 0.001),\n",
    "                    lambda = seq(from = 0, to = 1, by = 0.000001)\n",
    "                    )"
   ]
  },
  {
   "cell_type": "code",
   "execution_count": 29,
   "metadata": {},
   "outputs": [],
   "source": [
    "search_criteria <- list(strategy = \"RandomDiscrete\",\n",
    "                        max_runtime_secs = 10*3600,\n",
    "                        max_models = 100,\n",
    "                        stopping_metric = \"AUC\", \n",
    "                        stopping_tolerance = 0.00001, \n",
    "                        stopping_rounds = 5, \n",
    "                        seed = 1234\n",
    "                        )"
   ]
  },
  {
   "cell_type": "code",
   "execution_count": 30,
   "metadata": {},
   "outputs": [
    {
     "name": "stdout",
     "output_type": "stream",
     "text": [
      "  |======================================================================| 100%\n"
     ]
    },
    {
     "name": "stderr",
     "output_type": "stream",
     "text": [
      "Warning message in doTryCatch(return(expr), name, parentenv, handler):\n",
      "“Reached maximum number of iterations 100!”\n",
      "Warning message in doTryCatch(return(expr), name, parentenv, handler):\n",
      "“Reached maximum number of iterations 100!”\n",
      "Warning message in doTryCatch(return(expr), name, parentenv, handler):\n",
      "“Reached maximum number of iterations 100!”\n",
      "Warning message in doTryCatch(return(expr), name, parentenv, handler):\n",
      "“Reached maximum number of iterations 100!”\n",
      "Warning message in doTryCatch(return(expr), name, parentenv, handler):\n",
      "“Reached maximum number of iterations 100!”\n",
      "Warning message in doTryCatch(return(expr), name, parentenv, handler):\n",
      "“Reached maximum number of iterations 100!”\n",
      "Warning message in doTryCatch(return(expr), name, parentenv, handler):\n",
      "“Reached maximum number of iterations 100!”\n",
      "Warning message in doTryCatch(return(expr), name, parentenv, handler):\n",
      "“Reached maximum number of iterations 100!”\n",
      "Warning message in doTryCatch(return(expr), name, parentenv, handler):\n",
      "“Reached maximum number of iterations 100!”\n",
      "Warning message in doTryCatch(return(expr), name, parentenv, handler):\n",
      "“Reached maximum number of iterations 100!”\n",
      "Warning message in doTryCatch(return(expr), name, parentenv, handler):\n",
      "“Reached maximum number of iterations 100!”\n",
      "Warning message in doTryCatch(return(expr), name, parentenv, handler):\n",
      "“Reached maximum number of iterations 100!”\n",
      "Warning message in doTryCatch(return(expr), name, parentenv, handler):\n",
      "“Reached maximum number of iterations 100!”\n",
      "Warning message in doTryCatch(return(expr), name, parentenv, handler):\n",
      "“Reached maximum number of iterations 100!”\n",
      "Warning message in doTryCatch(return(expr), name, parentenv, handler):\n",
      "“Reached maximum number of iterations 100!”\n",
      "Warning message in doTryCatch(return(expr), name, parentenv, handler):\n",
      "“Reached maximum number of iterations 100!”\n",
      "Warning message in doTryCatch(return(expr), name, parentenv, handler):\n",
      "“Reached maximum number of iterations 100!”\n",
      "Warning message in doTryCatch(return(expr), name, parentenv, handler):\n",
      "“Reached maximum number of iterations 100!”\n",
      "Warning message in doTryCatch(return(expr), name, parentenv, handler):\n",
      "“Reached maximum number of iterations 100!”\n",
      "Warning message in doTryCatch(return(expr), name, parentenv, handler):\n",
      "“Reached maximum number of iterations 100!”\n",
      "Warning message in doTryCatch(return(expr), name, parentenv, handler):\n",
      "“Reached maximum number of iterations 100!”\n",
      "Warning message in doTryCatch(return(expr), name, parentenv, handler):\n",
      "“Reached maximum number of iterations 100!”\n",
      "Warning message in doTryCatch(return(expr), name, parentenv, handler):\n",
      "“Reached maximum number of iterations 100!”\n",
      "Warning message in doTryCatch(return(expr), name, parentenv, handler):\n",
      "“Reached maximum number of iterations 100!”\n",
      "Warning message in doTryCatch(return(expr), name, parentenv, handler):\n",
      "“Reached maximum number of iterations 100!”\n",
      "Warning message in doTryCatch(return(expr), name, parentenv, handler):\n",
      "“Reached maximum number of iterations 100!”\n",
      "Warning message in doTryCatch(return(expr), name, parentenv, handler):\n",
      "“Reached maximum number of iterations 100!”\n",
      "Warning message in doTryCatch(return(expr), name, parentenv, handler):\n",
      "“Reached maximum number of iterations 100!”\n",
      "Warning message in doTryCatch(return(expr), name, parentenv, handler):\n",
      "“Reached maximum number of iterations 100!”\n",
      "Warning message in doTryCatch(return(expr), name, parentenv, handler):\n",
      "“Reached maximum number of iterations 100!”\n",
      "Warning message in doTryCatch(return(expr), name, parentenv, handler):\n",
      "“Reached maximum number of iterations 100!”\n",
      "Warning message in doTryCatch(return(expr), name, parentenv, handler):\n",
      "“Reached maximum number of iterations 100!”\n",
      "Warning message in doTryCatch(return(expr), name, parentenv, handler):\n",
      "“Reached maximum number of iterations 100!”\n",
      "Warning message in doTryCatch(return(expr), name, parentenv, handler):\n",
      "“Reached maximum number of iterations 100!”\n",
      "Warning message in doTryCatch(return(expr), name, parentenv, handler):\n",
      "“Reached maximum number of iterations 100!”\n",
      "Warning message in doTryCatch(return(expr), name, parentenv, handler):\n",
      "“Reached maximum number of iterations 100!”\n",
      "Warning message in doTryCatch(return(expr), name, parentenv, handler):\n",
      "“Reached maximum number of iterations 100!”\n",
      "Warning message in doTryCatch(return(expr), name, parentenv, handler):\n",
      "“Reached maximum number of iterations 100!”\n",
      "Warning message in doTryCatch(return(expr), name, parentenv, handler):\n",
      "“Reached maximum number of iterations 100!”\n",
      "Warning message in doTryCatch(return(expr), name, parentenv, handler):\n",
      "“Reached maximum number of iterations 100!”\n",
      "Warning message in doTryCatch(return(expr), name, parentenv, handler):\n",
      "“Reached maximum number of iterations 100!”\n",
      "Warning message in doTryCatch(return(expr), name, parentenv, handler):\n",
      "“Reached maximum number of iterations 100!”\n",
      "Warning message in doTryCatch(return(expr), name, parentenv, handler):\n",
      "“Reached maximum number of iterations 100!”\n",
      "Warning message in doTryCatch(return(expr), name, parentenv, handler):\n",
      "“Reached maximum number of iterations 100!”\n",
      "Warning message in doTryCatch(return(expr), name, parentenv, handler):\n",
      "“Reached maximum number of iterations 100!”\n",
      "Warning message in doTryCatch(return(expr), name, parentenv, handler):\n",
      "“Reached maximum number of iterations 100!”\n",
      "Warning message in doTryCatch(return(expr), name, parentenv, handler):\n",
      "“Reached maximum number of iterations 100!”\n",
      "Warning message in doTryCatch(return(expr), name, parentenv, handler):\n",
      "“Reached maximum number of iterations 100!”\n",
      "Warning message in doTryCatch(return(expr), name, parentenv, handler):\n",
      "“Reached maximum number of iterations 100!”\n",
      "Warning message in doTryCatch(return(expr), name, parentenv, handler):\n",
      "“Reached maximum number of iterations 100!”\n",
      "Warning message in doTryCatch(return(expr), name, parentenv, handler):\n",
      "“Reached maximum number of iterations 100!”\n",
      "Warning message in doTryCatch(return(expr), name, parentenv, handler):\n",
      "“Reached maximum number of iterations 100!”\n",
      "Warning message in doTryCatch(return(expr), name, parentenv, handler):\n",
      "“Reached maximum number of iterations 100!”\n",
      "Warning message in doTryCatch(return(expr), name, parentenv, handler):\n",
      "“Reached maximum number of iterations 100!”\n",
      "Warning message in doTryCatch(return(expr), name, parentenv, handler):\n",
      "“Reached maximum number of iterations 100!”\n",
      "Warning message in doTryCatch(return(expr), name, parentenv, handler):\n",
      "“Reached maximum number of iterations 100!”\n",
      "Warning message in doTryCatch(return(expr), name, parentenv, handler):\n",
      "“Reached maximum number of iterations 100!”\n",
      "Warning message in doTryCatch(return(expr), name, parentenv, handler):\n",
      "“Reached maximum number of iterations 100!”\n",
      "Warning message in doTryCatch(return(expr), name, parentenv, handler):\n",
      "“Reached maximum number of iterations 100!”\n",
      "Warning message in doTryCatch(return(expr), name, parentenv, handler):\n",
      "“Reached maximum number of iterations 100!”\n",
      "Warning message in doTryCatch(return(expr), name, parentenv, handler):\n",
      "“Reached maximum number of iterations 100!”\n",
      "Warning message in doTryCatch(return(expr), name, parentenv, handler):\n",
      "“Reached maximum number of iterations 100!”\n",
      "Warning message in doTryCatch(return(expr), name, parentenv, handler):\n",
      "“Reached maximum number of iterations 100!”\n",
      "Warning message in doTryCatch(return(expr), name, parentenv, handler):\n",
      "“Reached maximum number of iterations 100!”\n",
      "Warning message in doTryCatch(return(expr), name, parentenv, handler):\n",
      "“Reached maximum number of iterations 100!”\n",
      "Warning message in doTryCatch(return(expr), name, parentenv, handler):\n",
      "“Reached maximum number of iterations 100!”\n",
      "Warning message in doTryCatch(return(expr), name, parentenv, handler):\n",
      "“Reached maximum number of iterations 100!”\n",
      "Warning message in doTryCatch(return(expr), name, parentenv, handler):\n",
      "“Reached maximum number of iterations 100!”\n",
      "Warning message in doTryCatch(return(expr), name, parentenv, handler):\n",
      "“Reached maximum number of iterations 100!”\n",
      "Warning message in doTryCatch(return(expr), name, parentenv, handler):\n",
      "“Reached maximum number of iterations 100!”\n",
      "Warning message in doTryCatch(return(expr), name, parentenv, handler):\n",
      "“Reached maximum number of iterations 100!”\n",
      "Warning message in doTryCatch(return(expr), name, parentenv, handler):\n",
      "“Reached maximum number of iterations 100!”\n"
     ]
    },
    {
     "name": "stderr",
     "output_type": "stream",
     "text": [
      "Warning message in doTryCatch(return(expr), name, parentenv, handler):\n",
      "“Reached maximum number of iterations 100!”\n",
      "Warning message in doTryCatch(return(expr), name, parentenv, handler):\n",
      "“Reached maximum number of iterations 100!”\n",
      "Warning message in doTryCatch(return(expr), name, parentenv, handler):\n",
      "“Reached maximum number of iterations 100!”\n",
      "Warning message in doTryCatch(return(expr), name, parentenv, handler):\n",
      "“Reached maximum number of iterations 100!”\n",
      "Warning message in doTryCatch(return(expr), name, parentenv, handler):\n",
      "“Reached maximum number of iterations 100!”\n",
      "Warning message in doTryCatch(return(expr), name, parentenv, handler):\n",
      "“Reached maximum number of iterations 100!”\n",
      "Warning message in doTryCatch(return(expr), name, parentenv, handler):\n",
      "“Reached maximum number of iterations 100!”\n",
      "Warning message in doTryCatch(return(expr), name, parentenv, handler):\n",
      "“Reached maximum number of iterations 100!”\n",
      "Warning message in doTryCatch(return(expr), name, parentenv, handler):\n",
      "“Reached maximum number of iterations 100!”\n",
      "Warning message in doTryCatch(return(expr), name, parentenv, handler):\n",
      "“Reached maximum number of iterations 100!”\n",
      "Warning message in doTryCatch(return(expr), name, parentenv, handler):\n",
      "“Reached maximum number of iterations 100!”\n",
      "Warning message in doTryCatch(return(expr), name, parentenv, handler):\n",
      "“Reached maximum number of iterations 100!”\n",
      "Warning message in doTryCatch(return(expr), name, parentenv, handler):\n",
      "“Reached maximum number of iterations 100!”\n",
      "Warning message in doTryCatch(return(expr), name, parentenv, handler):\n",
      "“Reached maximum number of iterations 100!”\n",
      "Warning message in doTryCatch(return(expr), name, parentenv, handler):\n",
      "“Reached maximum number of iterations 100!”\n",
      "Warning message in doTryCatch(return(expr), name, parentenv, handler):\n",
      "“Reached maximum number of iterations 100!”\n",
      "Warning message in doTryCatch(return(expr), name, parentenv, handler):\n",
      "“Reached maximum number of iterations 100!”\n",
      "Warning message in doTryCatch(return(expr), name, parentenv, handler):\n",
      "“Reached maximum number of iterations 100!”\n",
      "Warning message in doTryCatch(return(expr), name, parentenv, handler):\n",
      "“Reached maximum number of iterations 100!”\n",
      "Warning message in doTryCatch(return(expr), name, parentenv, handler):\n",
      "“Reached maximum number of iterations 100!”\n",
      "Warning message in doTryCatch(return(expr), name, parentenv, handler):\n",
      "“Reached maximum number of iterations 100!”\n",
      "Warning message in doTryCatch(return(expr), name, parentenv, handler):\n",
      "“Reached maximum number of iterations 100!”\n",
      "Warning message in doTryCatch(return(expr), name, parentenv, handler):\n",
      "“Reached maximum number of iterations 100!”\n",
      "Warning message in doTryCatch(return(expr), name, parentenv, handler):\n",
      "“Reached maximum number of iterations 100!”\n",
      "Warning message in doTryCatch(return(expr), name, parentenv, handler):\n",
      "“Reached maximum number of iterations 100!”\n",
      "Warning message in doTryCatch(return(expr), name, parentenv, handler):\n",
      "“Reached maximum number of iterations 100!”\n",
      "Warning message in doTryCatch(return(expr), name, parentenv, handler):\n",
      "“Reached maximum number of iterations 100!”\n",
      "Warning message in doTryCatch(return(expr), name, parentenv, handler):\n",
      "“Reached maximum number of iterations 100!”\n"
     ]
    }
   ],
   "source": [
    "models_glm <- h2o.grid(algorithm = \"glm\", grid_id = \"grd_glm\", x = predictors, y = response, \n",
    "                       training_frame = train, validation_frame = valid, \n",
    "                       nfolds = 0, family = \"binomial\", hyper_params = hyper_params, \n",
    "                       search_criteria = search_criteria, stopping_metric = \"AUC\", \n",
    "                       stopping_tolerance = 1e-5, stopping_rounds = 5, max_iterations = 100,\n",
    "                       seed = 1234)\n"
   ]
  },
  {
   "cell_type": "markdown",
   "metadata": {},
   "source": [
    "We have a grid of model results, now it is time to select the best one and extract it's hyperparameters"
   ]
  },
  {
   "cell_type": "code",
   "execution_count": null,
   "metadata": {},
   "outputs": [],
   "source": [
    "models_glm_sort <- h2o.getGrid(grid_id = \"grd_glm\", sort_by = \"auc\", decreasing = TRUE)\n",
    "models_glm_best <- h2o.getModel(models_glm_sort@model_ids[[1]])"
   ]
  },
  {
   "cell_type": "code",
   "execution_count": null,
   "metadata": {},
   "outputs": [],
   "source": [
    "# Parameter values for the best model\n",
    "models_glm_best@allparameters"
   ]
  },
  {
   "cell_type": "code",
   "execution_count": null,
   "metadata": {},
   "outputs": [],
   "source": [
    "# Gets the metrics for the best model\n",
    "models_glm_best@model$validation_metrics@metrics$AUC"
   ]
  },
  {
   "cell_type": "markdown",
   "metadata": {},
   "source": [
    "We can also now actually plot the performance of our model using h2o!"
   ]
  },
  {
   "cell_type": "code",
   "execution_count": null,
   "metadata": {},
   "outputs": [],
   "source": [
    "perf_glm_best <- h2o.performance(models_glm_best, valid)\n",
    "plot(perf_glm_best, type=\"roc\", main=\"ROC Curve for Best Logistic Regression Model\")"
   ]
  },
  {
   "cell_type": "markdown",
   "metadata": {},
   "source": [
    "We can also find which variables were the most important for this model!"
   ]
  },
  {
   "cell_type": "code",
   "execution_count": null,
   "metadata": {},
   "outputs": [],
   "source": [
    "#Variable importance\n",
    "h2o.varimp(models_glm_best)"
   ]
  },
  {
   "cell_type": "code",
   "execution_count": null,
   "metadata": {},
   "outputs": [],
   "source": []
  }
 ],
 "metadata": {
  "kernelspec": {
   "display_name": "R",
   "language": "R",
   "name": "ir"
  },
  "language_info": {
   "codemirror_mode": "r",
   "file_extension": ".r",
   "mimetype": "text/x-r-source",
   "name": "R",
   "pygments_lexer": "r",
   "version": "4.0.2"
  }
 },
 "nbformat": 4,
 "nbformat_minor": 2
}
