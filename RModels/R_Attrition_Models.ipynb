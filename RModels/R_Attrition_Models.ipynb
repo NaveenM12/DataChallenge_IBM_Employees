{
 "cells": [
  {
   "cell_type": "code",
   "execution_count": 1,
   "metadata": {},
   "outputs": [],
   "source": [
    "setwd(\"~/IBM_Attrition_DataChallenge/\") # sets proper working directory"
   ]
  },
  {
   "cell_type": "code",
   "execution_count": 2,
   "metadata": {},
   "outputs": [],
   "source": [
    "# import R libraries to use later\n",
    "suppressPackageStartupMessages(library('caret'))\n",
    "suppressPackageStartupMessages(library('mlbench'))\n",
    "suppressPackageStartupMessages(library(plyr))"
   ]
  },
  {
   "cell_type": "markdown",
   "metadata": {},
   "source": [
    "# Read in Cleaned Data"
   ]
  },
  {
   "cell_type": "code",
   "execution_count": 3,
   "metadata": {
    "scrolled": true
   },
   "outputs": [
    {
     "data": {
      "text/html": [
       "<table>\n",
       "<caption>A data.frame: 6 × 52</caption>\n",
       "<thead>\n",
       "\t<tr><th></th><th scope=col>Age</th><th scope=col>DailyRate</th><th scope=col>DistanceFromHome</th><th scope=col>Education</th><th scope=col>EnvironmentSatisfaction</th><th scope=col>HourlyRate</th><th scope=col>JobInvolvement</th><th scope=col>JobSatisfaction</th><th scope=col>MonthlyIncome</th><th scope=col>MonthlyRate</th><th scope=col>⋯</th><th scope=col>JobRole_Research.Director</th><th scope=col>JobRole_Research.Scientist</th><th scope=col>JobRole_Sales.Executive</th><th scope=col>JobRole_Sales.Representative</th><th scope=col>MaritalStatus_Divorced</th><th scope=col>MaritalStatus_Married</th><th scope=col>MaritalStatus_Single</th><th scope=col>OverTime_No</th><th scope=col>OverTime_Yes</th><th scope=col>Attrition</th></tr>\n",
       "\t<tr><th></th><th scope=col>&lt;dbl&gt;</th><th scope=col>&lt;dbl&gt;</th><th scope=col>&lt;dbl&gt;</th><th scope=col>&lt;dbl&gt;</th><th scope=col>&lt;dbl&gt;</th><th scope=col>&lt;dbl&gt;</th><th scope=col>&lt;dbl&gt;</th><th scope=col>&lt;dbl&gt;</th><th scope=col>&lt;dbl&gt;</th><th scope=col>&lt;dbl&gt;</th><th scope=col>⋯</th><th scope=col>&lt;dbl&gt;</th><th scope=col>&lt;dbl&gt;</th><th scope=col>&lt;dbl&gt;</th><th scope=col>&lt;dbl&gt;</th><th scope=col>&lt;dbl&gt;</th><th scope=col>&lt;dbl&gt;</th><th scope=col>&lt;dbl&gt;</th><th scope=col>&lt;dbl&gt;</th><th scope=col>&lt;dbl&gt;</th><th scope=col>&lt;chr&gt;</th></tr>\n",
       "</thead>\n",
       "<tbody>\n",
       "\t<tr><th scope=row>1</th><td>60</td><td> 696</td><td> 7</td><td>4</td><td>2</td><td>52</td><td>4</td><td>4</td><td> 5220</td><td>10893</td><td>⋯</td><td>0</td><td>0</td><td>1</td><td>0</td><td>1</td><td>0</td><td>0</td><td>0</td><td>1</td><td>No</td></tr>\n",
       "\t<tr><th scope=row>2</th><td>23</td><td> 650</td><td> 9</td><td>1</td><td>2</td><td>37</td><td>3</td><td>1</td><td> 2500</td><td> 4344</td><td>⋯</td><td>0</td><td>0</td><td>0</td><td>0</td><td>0</td><td>1</td><td>0</td><td>1</td><td>0</td><td>No</td></tr>\n",
       "\t<tr><th scope=row>3</th><td>34</td><td> 829</td><td>15</td><td>3</td><td>2</td><td>71</td><td>3</td><td>1</td><td>17007</td><td>11929</td><td>⋯</td><td>1</td><td>0</td><td>0</td><td>0</td><td>1</td><td>0</td><td>0</td><td>1</td><td>0</td><td>No</td></tr>\n",
       "\t<tr><th scope=row>4</th><td>42</td><td> 622</td><td> 2</td><td>4</td><td>3</td><td>81</td><td>3</td><td>4</td><td> 4089</td><td> 5718</td><td>⋯</td><td>0</td><td>0</td><td>0</td><td>0</td><td>0</td><td>1</td><td>0</td><td>1</td><td>0</td><td>No</td></tr>\n",
       "\t<tr><th scope=row>5</th><td>36</td><td>1480</td><td> 3</td><td>2</td><td>4</td><td>30</td><td>3</td><td>2</td><td> 2088</td><td>15062</td><td>⋯</td><td>0</td><td>0</td><td>0</td><td>0</td><td>0</td><td>0</td><td>1</td><td>1</td><td>0</td><td>No</td></tr>\n",
       "\t<tr><th scope=row>6</th><td>38</td><td> 653</td><td>29</td><td>5</td><td>4</td><td>50</td><td>3</td><td>4</td><td> 2406</td><td> 5456</td><td>⋯</td><td>0</td><td>0</td><td>0</td><td>0</td><td>0</td><td>0</td><td>1</td><td>1</td><td>0</td><td>No</td></tr>\n",
       "</tbody>\n",
       "</table>\n"
      ],
      "text/latex": [
       "A data.frame: 6 × 52\n",
       "\\begin{tabular}{r|lllllllllllllllllllll}\n",
       "  & Age & DailyRate & DistanceFromHome & Education & EnvironmentSatisfaction & HourlyRate & JobInvolvement & JobSatisfaction & MonthlyIncome & MonthlyRate & ⋯ & JobRole\\_Research.Director & JobRole\\_Research.Scientist & JobRole\\_Sales.Executive & JobRole\\_Sales.Representative & MaritalStatus\\_Divorced & MaritalStatus\\_Married & MaritalStatus\\_Single & OverTime\\_No & OverTime\\_Yes & Attrition\\\\\n",
       "  & <dbl> & <dbl> & <dbl> & <dbl> & <dbl> & <dbl> & <dbl> & <dbl> & <dbl> & <dbl> & ⋯ & <dbl> & <dbl> & <dbl> & <dbl> & <dbl> & <dbl> & <dbl> & <dbl> & <dbl> & <chr>\\\\\n",
       "\\hline\n",
       "\t1 & 60 &  696 &  7 & 4 & 2 & 52 & 4 & 4 &  5220 & 10893 & ⋯ & 0 & 0 & 1 & 0 & 1 & 0 & 0 & 0 & 1 & No\\\\\n",
       "\t2 & 23 &  650 &  9 & 1 & 2 & 37 & 3 & 1 &  2500 &  4344 & ⋯ & 0 & 0 & 0 & 0 & 0 & 1 & 0 & 1 & 0 & No\\\\\n",
       "\t3 & 34 &  829 & 15 & 3 & 2 & 71 & 3 & 1 & 17007 & 11929 & ⋯ & 1 & 0 & 0 & 0 & 1 & 0 & 0 & 1 & 0 & No\\\\\n",
       "\t4 & 42 &  622 &  2 & 4 & 3 & 81 & 3 & 4 &  4089 &  5718 & ⋯ & 0 & 0 & 0 & 0 & 0 & 1 & 0 & 1 & 0 & No\\\\\n",
       "\t5 & 36 & 1480 &  3 & 2 & 4 & 30 & 3 & 2 &  2088 & 15062 & ⋯ & 0 & 0 & 0 & 0 & 0 & 0 & 1 & 1 & 0 & No\\\\\n",
       "\t6 & 38 &  653 & 29 & 5 & 4 & 50 & 3 & 4 &  2406 &  5456 & ⋯ & 0 & 0 & 0 & 0 & 0 & 0 & 1 & 1 & 0 & No\\\\\n",
       "\\end{tabular}\n"
      ],
      "text/markdown": [
       "\n",
       "A data.frame: 6 × 52\n",
       "\n",
       "| <!--/--> | Age &lt;dbl&gt; | DailyRate &lt;dbl&gt; | DistanceFromHome &lt;dbl&gt; | Education &lt;dbl&gt; | EnvironmentSatisfaction &lt;dbl&gt; | HourlyRate &lt;dbl&gt; | JobInvolvement &lt;dbl&gt; | JobSatisfaction &lt;dbl&gt; | MonthlyIncome &lt;dbl&gt; | MonthlyRate &lt;dbl&gt; | ⋯ ⋯ | JobRole_Research.Director &lt;dbl&gt; | JobRole_Research.Scientist &lt;dbl&gt; | JobRole_Sales.Executive &lt;dbl&gt; | JobRole_Sales.Representative &lt;dbl&gt; | MaritalStatus_Divorced &lt;dbl&gt; | MaritalStatus_Married &lt;dbl&gt; | MaritalStatus_Single &lt;dbl&gt; | OverTime_No &lt;dbl&gt; | OverTime_Yes &lt;dbl&gt; | Attrition &lt;chr&gt; |\n",
       "|---|---|---|---|---|---|---|---|---|---|---|---|---|---|---|---|---|---|---|---|---|---|\n",
       "| 1 | 60 |  696 |  7 | 4 | 2 | 52 | 4 | 4 |  5220 | 10893 | ⋯ | 0 | 0 | 1 | 0 | 1 | 0 | 0 | 0 | 1 | No |\n",
       "| 2 | 23 |  650 |  9 | 1 | 2 | 37 | 3 | 1 |  2500 |  4344 | ⋯ | 0 | 0 | 0 | 0 | 0 | 1 | 0 | 1 | 0 | No |\n",
       "| 3 | 34 |  829 | 15 | 3 | 2 | 71 | 3 | 1 | 17007 | 11929 | ⋯ | 1 | 0 | 0 | 0 | 1 | 0 | 0 | 1 | 0 | No |\n",
       "| 4 | 42 |  622 |  2 | 4 | 3 | 81 | 3 | 4 |  4089 |  5718 | ⋯ | 0 | 0 | 0 | 0 | 0 | 1 | 0 | 1 | 0 | No |\n",
       "| 5 | 36 | 1480 |  3 | 2 | 4 | 30 | 3 | 2 |  2088 | 15062 | ⋯ | 0 | 0 | 0 | 0 | 0 | 0 | 1 | 1 | 0 | No |\n",
       "| 6 | 38 |  653 | 29 | 5 | 4 | 50 | 3 | 4 |  2406 |  5456 | ⋯ | 0 | 0 | 0 | 0 | 0 | 0 | 1 | 1 | 0 | No |\n",
       "\n"
      ],
      "text/plain": [
       "  Age DailyRate DistanceFromHome Education EnvironmentSatisfaction HourlyRate\n",
       "1 60   696       7               4         2                       52        \n",
       "2 23   650       9               1         2                       37        \n",
       "3 34   829      15               3         2                       71        \n",
       "4 42   622       2               4         3                       81        \n",
       "5 36  1480       3               2         4                       30        \n",
       "6 38   653      29               5         4                       50        \n",
       "  JobInvolvement JobSatisfaction MonthlyIncome MonthlyRate ⋯\n",
       "1 4              4                5220         10893       ⋯\n",
       "2 3              1                2500          4344       ⋯\n",
       "3 3              1               17007         11929       ⋯\n",
       "4 3              4                4089          5718       ⋯\n",
       "5 3              2                2088         15062       ⋯\n",
       "6 3              4                2406          5456       ⋯\n",
       "  JobRole_Research.Director JobRole_Research.Scientist JobRole_Sales.Executive\n",
       "1 0                         0                          1                      \n",
       "2 0                         0                          0                      \n",
       "3 1                         0                          0                      \n",
       "4 0                         0                          0                      \n",
       "5 0                         0                          0                      \n",
       "6 0                         0                          0                      \n",
       "  JobRole_Sales.Representative MaritalStatus_Divorced MaritalStatus_Married\n",
       "1 0                            1                      0                    \n",
       "2 0                            0                      1                    \n",
       "3 0                            1                      0                    \n",
       "4 0                            0                      1                    \n",
       "5 0                            0                      0                    \n",
       "6 0                            0                      0                    \n",
       "  MaritalStatus_Single OverTime_No OverTime_Yes Attrition\n",
       "1 0                    0           1            No       \n",
       "2 0                    1           0            No       \n",
       "3 0                    1           0            No       \n",
       "4 0                    1           0            No       \n",
       "5 1                    1           0            No       \n",
       "6 1                    1           0            No       "
      ]
     },
     "metadata": {},
     "output_type": "display_data"
    }
   ],
   "source": [
    "df <- read.csv(file='attrition_model_data_cleaned.csv') \n",
    "head(df)"
   ]
  },
  {
   "cell_type": "markdown",
   "metadata": {},
   "source": [
    "# Splitting the Data"
   ]
  },
  {
   "cell_type": "markdown",
   "metadata": {},
   "source": [
    "We will use the Machine Learning package H2O in R to develop numerous ML models to compare against each other and find the best solution. Remember that anything less than 83 percent is not good."
   ]
  },
  {
   "cell_type": "code",
   "execution_count": 4,
   "metadata": {},
   "outputs": [
    {
     "name": "stdout",
     "output_type": "stream",
     "text": [
      " Connection successful!\n",
      "\n",
      "R is connected to the H2O cluster: \n",
      "    H2O cluster uptime:         13 hours 45 minutes \n",
      "    H2O cluster timezone:       America/Los_Angeles \n",
      "    H2O data parsing timezone:  UTC \n",
      "    H2O cluster version:        3.30.1.2 \n",
      "    H2O cluster version age:    8 days  \n",
      "    H2O cluster name:           H2O_from_python_naveenmirapuri_9i7lvx \n",
      "    H2O cluster total nodes:    1 \n",
      "    H2O cluster total memory:   3.18 GB \n",
      "    H2O cluster total cores:    4 \n",
      "    H2O cluster allowed cores:  4 \n",
      "    H2O cluster healthy:        TRUE \n",
      "    H2O Connection ip:          localhost \n",
      "    H2O Connection port:        54321 \n",
      "    H2O Connection proxy:       NA \n",
      "    H2O Internal Security:      FALSE \n",
      "    H2O API Extensions:         Amazon S3, XGBoost, Algos, AutoML, Core V3, TargetEncoder, Core V4 \n",
      "    R Version:                  R version 4.0.2 (2020-06-22) \n",
      "\n"
     ]
    }
   ],
   "source": [
    "# initialize and import supporting packages for h2o\n",
    "suppressPackageStartupMessages(library(dplyr))\n",
    "suppressPackageStartupMessages(library(h2o))\n",
    "h2o.init(nthreads = -1)"
   ]
  },
  {
   "cell_type": "code",
   "execution_count": 5,
   "metadata": {},
   "outputs": [
    {
     "name": "stdout",
     "output_type": "stream",
     "text": [
      "  |======================================================================| 100%\n"
     ]
    }
   ],
   "source": [
    "# we will have to convert our df to an h2o-compatible frame\n",
    "dfH2O <- as.h2o(df)\n",
    "dfH2O['Attrition'] = as.factor(dfH2O['Attrition'])"
   ]
  },
  {
   "cell_type": "code",
   "execution_count": 6,
   "metadata": {},
   "outputs": [
    {
     "data": {
      "text/html": [
       "<style>\n",
       ".list-inline {list-style: none; margin:0; padding: 0}\n",
       ".list-inline>li {display: inline-block}\n",
       ".list-inline>li:not(:last-child)::after {content: \"\\00b7\"; padding: 0 .5ex}\n",
       "</style>\n",
       "<ol class=list-inline><li>3081</li><li>52</li></ol>\n"
      ],
      "text/latex": [
       "\\begin{enumerate*}\n",
       "\\item 3081\n",
       "\\item 52\n",
       "\\end{enumerate*}\n"
      ],
      "text/markdown": [
       "1. 3081\n",
       "2. 52\n",
       "\n",
       "\n"
      ],
      "text/plain": [
       "[1] 3081   52"
      ]
     },
     "metadata": {},
     "output_type": "display_data"
    }
   ],
   "source": [
    "dim(dfH2O)   # returns the dimensions of the dataframe to get a better idea before modeling"
   ]
  },
  {
   "cell_type": "markdown",
   "metadata": {},
   "source": [
    "We will now have to split our H2O frame into a train, cross-validation, and testing set, each of which will be used to evaluate our model. We will use 60% for training, 20% for validation, and 20% for testing, chosen at random"
   ]
  },
  {
   "cell_type": "code",
   "execution_count": 7,
   "metadata": {},
   "outputs": [],
   "source": [
    "split <- h2o.splitFrame(dfH2O, ratios = c(0.6,0.2), seed = 1234)\n",
    "train <- split[[1]]\n",
    "valid <- split[[2]]\n",
    "test <- split[[3]]"
   ]
  },
  {
   "cell_type": "markdown",
   "metadata": {},
   "source": [
    "For our model, we will set our response variable (what we are trying to predict) to Attrition, and our predictors to all of our df columns EXCEPT attrition, as we don't want to use attrition to predict attrition."
   ]
  },
  {
   "cell_type": "code",
   "execution_count": 8,
   "metadata": {},
   "outputs": [
    {
     "data": {
      "text/html": [
       "<style>\n",
       ".list-inline {list-style: none; margin:0; padding: 0}\n",
       ".list-inline>li {display: inline-block}\n",
       ".list-inline>li:not(:last-child)::after {content: \"\\00b7\"; padding: 0 .5ex}\n",
       "</style>\n",
       "<ol class=list-inline><li>'Age'</li><li>'DailyRate'</li><li>'DistanceFromHome'</li><li>'Education'</li><li>'EnvironmentSatisfaction'</li><li>'HourlyRate'</li><li>'JobInvolvement'</li><li>'JobSatisfaction'</li><li>'MonthlyIncome'</li><li>'MonthlyRate'</li><li>'NumCompaniesWorked'</li><li>'PerformanceRating'</li><li>'RelationshipSatisfaction'</li><li>'StockOptionLevel'</li><li>'TrainingTimesLastYear'</li><li>'WorkLifeBalance'</li><li>'YearsInCurrentRole'</li><li>'YearsSinceLastPromotion'</li><li>'YearsWithCurrManager'</li><li>'JobLevel'</li><li>'PercentSalaryHike'</li><li>'TotalWorkingYears'</li><li>'YearsAtCompany'</li><li>'BusinessTravel_Non.Travel'</li><li>'BusinessTravel_Travel_Frequently'</li><li>'BusinessTravel_Travel_Rarely'</li><li>'Department_Human.Resources'</li><li>'Department_Research...Development'</li><li>'Department_Sales'</li><li>'EducationField_Human.Resources'</li><li>'EducationField_Life.Sciences'</li><li>'EducationField_Marketing'</li><li>'EducationField_Medical'</li><li>'EducationField_Other'</li><li>'EducationField_Technical.Degree'</li><li>'Gender_Female'</li><li>'Gender_Male'</li><li>'JobRole_Healthcare.Representative'</li><li>'JobRole_Human.Resources'</li><li>'JobRole_Laboratory.Technician'</li><li>'JobRole_Manager'</li><li>'JobRole_Manufacturing.Director'</li><li>'JobRole_Research.Director'</li><li>'JobRole_Research.Scientist'</li><li>'JobRole_Sales.Executive'</li><li>'JobRole_Sales.Representative'</li><li>'MaritalStatus_Divorced'</li><li>'MaritalStatus_Married'</li><li>'MaritalStatus_Single'</li><li>'OverTime_No'</li><li>'OverTime_Yes'</li></ol>\n"
      ],
      "text/latex": [
       "\\begin{enumerate*}\n",
       "\\item 'Age'\n",
       "\\item 'DailyRate'\n",
       "\\item 'DistanceFromHome'\n",
       "\\item 'Education'\n",
       "\\item 'EnvironmentSatisfaction'\n",
       "\\item 'HourlyRate'\n",
       "\\item 'JobInvolvement'\n",
       "\\item 'JobSatisfaction'\n",
       "\\item 'MonthlyIncome'\n",
       "\\item 'MonthlyRate'\n",
       "\\item 'NumCompaniesWorked'\n",
       "\\item 'PerformanceRating'\n",
       "\\item 'RelationshipSatisfaction'\n",
       "\\item 'StockOptionLevel'\n",
       "\\item 'TrainingTimesLastYear'\n",
       "\\item 'WorkLifeBalance'\n",
       "\\item 'YearsInCurrentRole'\n",
       "\\item 'YearsSinceLastPromotion'\n",
       "\\item 'YearsWithCurrManager'\n",
       "\\item 'JobLevel'\n",
       "\\item 'PercentSalaryHike'\n",
       "\\item 'TotalWorkingYears'\n",
       "\\item 'YearsAtCompany'\n",
       "\\item 'BusinessTravel\\_Non.Travel'\n",
       "\\item 'BusinessTravel\\_Travel\\_Frequently'\n",
       "\\item 'BusinessTravel\\_Travel\\_Rarely'\n",
       "\\item 'Department\\_Human.Resources'\n",
       "\\item 'Department\\_Research...Development'\n",
       "\\item 'Department\\_Sales'\n",
       "\\item 'EducationField\\_Human.Resources'\n",
       "\\item 'EducationField\\_Life.Sciences'\n",
       "\\item 'EducationField\\_Marketing'\n",
       "\\item 'EducationField\\_Medical'\n",
       "\\item 'EducationField\\_Other'\n",
       "\\item 'EducationField\\_Technical.Degree'\n",
       "\\item 'Gender\\_Female'\n",
       "\\item 'Gender\\_Male'\n",
       "\\item 'JobRole\\_Healthcare.Representative'\n",
       "\\item 'JobRole\\_Human.Resources'\n",
       "\\item 'JobRole\\_Laboratory.Technician'\n",
       "\\item 'JobRole\\_Manager'\n",
       "\\item 'JobRole\\_Manufacturing.Director'\n",
       "\\item 'JobRole\\_Research.Director'\n",
       "\\item 'JobRole\\_Research.Scientist'\n",
       "\\item 'JobRole\\_Sales.Executive'\n",
       "\\item 'JobRole\\_Sales.Representative'\n",
       "\\item 'MaritalStatus\\_Divorced'\n",
       "\\item 'MaritalStatus\\_Married'\n",
       "\\item 'MaritalStatus\\_Single'\n",
       "\\item 'OverTime\\_No'\n",
       "\\item 'OverTime\\_Yes'\n",
       "\\end{enumerate*}\n"
      ],
      "text/markdown": [
       "1. 'Age'\n",
       "2. 'DailyRate'\n",
       "3. 'DistanceFromHome'\n",
       "4. 'Education'\n",
       "5. 'EnvironmentSatisfaction'\n",
       "6. 'HourlyRate'\n",
       "7. 'JobInvolvement'\n",
       "8. 'JobSatisfaction'\n",
       "9. 'MonthlyIncome'\n",
       "10. 'MonthlyRate'\n",
       "11. 'NumCompaniesWorked'\n",
       "12. 'PerformanceRating'\n",
       "13. 'RelationshipSatisfaction'\n",
       "14. 'StockOptionLevel'\n",
       "15. 'TrainingTimesLastYear'\n",
       "16. 'WorkLifeBalance'\n",
       "17. 'YearsInCurrentRole'\n",
       "18. 'YearsSinceLastPromotion'\n",
       "19. 'YearsWithCurrManager'\n",
       "20. 'JobLevel'\n",
       "21. 'PercentSalaryHike'\n",
       "22. 'TotalWorkingYears'\n",
       "23. 'YearsAtCompany'\n",
       "24. 'BusinessTravel_Non.Travel'\n",
       "25. 'BusinessTravel_Travel_Frequently'\n",
       "26. 'BusinessTravel_Travel_Rarely'\n",
       "27. 'Department_Human.Resources'\n",
       "28. 'Department_Research...Development'\n",
       "29. 'Department_Sales'\n",
       "30. 'EducationField_Human.Resources'\n",
       "31. 'EducationField_Life.Sciences'\n",
       "32. 'EducationField_Marketing'\n",
       "33. 'EducationField_Medical'\n",
       "34. 'EducationField_Other'\n",
       "35. 'EducationField_Technical.Degree'\n",
       "36. 'Gender_Female'\n",
       "37. 'Gender_Male'\n",
       "38. 'JobRole_Healthcare.Representative'\n",
       "39. 'JobRole_Human.Resources'\n",
       "40. 'JobRole_Laboratory.Technician'\n",
       "41. 'JobRole_Manager'\n",
       "42. 'JobRole_Manufacturing.Director'\n",
       "43. 'JobRole_Research.Director'\n",
       "44. 'JobRole_Research.Scientist'\n",
       "45. 'JobRole_Sales.Executive'\n",
       "46. 'JobRole_Sales.Representative'\n",
       "47. 'MaritalStatus_Divorced'\n",
       "48. 'MaritalStatus_Married'\n",
       "49. 'MaritalStatus_Single'\n",
       "50. 'OverTime_No'\n",
       "51. 'OverTime_Yes'\n",
       "\n",
       "\n"
      ],
      "text/plain": [
       " [1] \"Age\"                               \"DailyRate\"                        \n",
       " [3] \"DistanceFromHome\"                  \"Education\"                        \n",
       " [5] \"EnvironmentSatisfaction\"           \"HourlyRate\"                       \n",
       " [7] \"JobInvolvement\"                    \"JobSatisfaction\"                  \n",
       " [9] \"MonthlyIncome\"                     \"MonthlyRate\"                      \n",
       "[11] \"NumCompaniesWorked\"                \"PerformanceRating\"                \n",
       "[13] \"RelationshipSatisfaction\"          \"StockOptionLevel\"                 \n",
       "[15] \"TrainingTimesLastYear\"             \"WorkLifeBalance\"                  \n",
       "[17] \"YearsInCurrentRole\"                \"YearsSinceLastPromotion\"          \n",
       "[19] \"YearsWithCurrManager\"              \"JobLevel\"                         \n",
       "[21] \"PercentSalaryHike\"                 \"TotalWorkingYears\"                \n",
       "[23] \"YearsAtCompany\"                    \"BusinessTravel_Non.Travel\"        \n",
       "[25] \"BusinessTravel_Travel_Frequently\"  \"BusinessTravel_Travel_Rarely\"     \n",
       "[27] \"Department_Human.Resources\"        \"Department_Research...Development\"\n",
       "[29] \"Department_Sales\"                  \"EducationField_Human.Resources\"   \n",
       "[31] \"EducationField_Life.Sciences\"      \"EducationField_Marketing\"         \n",
       "[33] \"EducationField_Medical\"            \"EducationField_Other\"             \n",
       "[35] \"EducationField_Technical.Degree\"   \"Gender_Female\"                    \n",
       "[37] \"Gender_Male\"                       \"JobRole_Healthcare.Representative\"\n",
       "[39] \"JobRole_Human.Resources\"           \"JobRole_Laboratory.Technician\"    \n",
       "[41] \"JobRole_Manager\"                   \"JobRole_Manufacturing.Director\"   \n",
       "[43] \"JobRole_Research.Director\"         \"JobRole_Research.Scientist\"       \n",
       "[45] \"JobRole_Sales.Executive\"           \"JobRole_Sales.Representative\"     \n",
       "[47] \"MaritalStatus_Divorced\"            \"MaritalStatus_Married\"            \n",
       "[49] \"MaritalStatus_Single\"              \"OverTime_No\"                      \n",
       "[51] \"OverTime_Yes\"                     "
      ]
     },
     "metadata": {},
     "output_type": "display_data"
    }
   ],
   "source": [
    "response <- \"Attrition\"\n",
    "predictors <- setdiff(names(df), response)\n",
    "predictors # displays all of the variables we will use to predict attrition"
   ]
  },
  {
   "cell_type": "markdown",
   "metadata": {},
   "source": [
    "# Building the Five Models\n",
    "### 1. Logistic Regression with Random Hyperparameter Search\n",
    "### 2. Random Forest with Random Hyperparameter Search\n",
    "### 3. Gradient Boosting Machine with Random Hyperparameter Search\n",
    "### 4. Neural Network with Random Hyperparameter Search\n",
    "### 5. Ensemble Model"
   ]
  },
  {
   "cell_type": "raw",
   "metadata": {},
   "source": []
  },
  {
   "cell_type": "markdown",
   "metadata": {},
   "source": [
    "# Logistic Regression with Random Hyperparameter Search"
   ]
  },
  {
   "cell_type": "markdown",
   "metadata": {},
   "source": [
    "First, we will start with the Logistic Regression with Random Hyperparameter Search. Hyperparameters are all the different variables (iterations, batches, max run time, etc.) that can significantly change the performance of the model. In this model we have two hyperparams to control all of these variables. Thus, we will search for the best combination in a grid, then extract the best results for logistic regression with the best hyperparameters."
   ]
  },
  {
   "cell_type": "code",
   "execution_count": 9,
   "metadata": {},
   "outputs": [],
   "source": [
    "hyper_params <- list(alpha = seq(from = 0, to = 1, by = 0.001),\n",
    "                    lambda = seq(from = 0, to = 1, by = 0.000001)\n",
    "                    )"
   ]
  },
  {
   "cell_type": "code",
   "execution_count": 10,
   "metadata": {},
   "outputs": [],
   "source": [
    "search_criteria <- list(strategy = \"RandomDiscrete\",\n",
    "                        max_runtime_secs = 10*3600,\n",
    "                        max_models = 100,\n",
    "                        stopping_metric = \"AUC\", \n",
    "                        stopping_tolerance = 0.00001, \n",
    "                        stopping_rounds = 5, \n",
    "                        seed = 1234\n",
    "                        )"
   ]
  },
  {
   "cell_type": "code",
   "execution_count": 11,
   "metadata": {},
   "outputs": [
    {
     "name": "stdout",
     "output_type": "stream",
     "text": [
      "  |======================================================================| 100%\n"
     ]
    }
   ],
   "source": [
    "# We will ignore warnings to increase readibility\n",
    "suppressWarnings(models_glm <- h2o.grid(algorithm = \"glm\", grid_id = \"grd_glm\", x = predictors, y = response, \n",
    "                       training_frame = train, validation_frame = valid, \n",
    "                       nfolds = 0, family = \"binomial\", hyper_params = hyper_params, \n",
    "                       search_criteria = search_criteria, stopping_metric = \"AUC\", \n",
    "                       stopping_tolerance = 1e-5, stopping_rounds = 5, max_iterations = 1000,\n",
    "                       seed = 1234))\n"
   ]
  },
  {
   "cell_type": "markdown",
   "metadata": {},
   "source": [
    "We have a grid of model results, now it is time to select the best one and find its accuracy"
   ]
  },
  {
   "cell_type": "code",
   "execution_count": null,
   "metadata": {},
   "outputs": [],
   "source": [
    "models_glm_sort <- h2o.getGrid(grid_id = \"grd_glm\", sort_by = \"auc\", decreasing = TRUE)\n",
    "models_glm_best <- h2o.getModel(models_glm_sort@model_ids[[1]])"
   ]
  },
  {
   "cell_type": "code",
   "execution_count": null,
   "metadata": {},
   "outputs": [],
   "source": [
    "# Gets the auc metric for the best model\n",
    "models_glm_best@model$validation_metrics@metrics$AUC"
   ]
  },
  {
   "cell_type": "markdown",
   "metadata": {},
   "source": [
    "## Logistic Regression AUC: 88.64%"
   ]
  },
  {
   "cell_type": "markdown",
   "metadata": {},
   "source": [
    "We can also now also plot the performance of our model using h2o!"
   ]
  },
  {
   "cell_type": "code",
   "execution_count": null,
   "metadata": {},
   "outputs": [],
   "source": [
    "perf_glm_best <- h2o.performance(models_glm_best, valid)\n",
    "plot(perf_glm_best, type=\"roc\", main=\"ROC Curve for Best Logistic Regression Model\")"
   ]
  },
  {
   "cell_type": "markdown",
   "metadata": {},
   "source": [
    "We can also find which variables were the most important for this model!"
   ]
  },
  {
   "cell_type": "code",
   "execution_count": null,
   "metadata": {},
   "outputs": [],
   "source": [
    "#Variable importance\n",
    "head(h2o.varimp(models_glm_best),10)"
   ]
  },
  {
   "cell_type": "markdown",
   "metadata": {},
   "source": [
    "## Logistic Regression Important Variables\n",
    "#### 1. Environment Satisfaction\n",
    "#### 2. Years At Company\n",
    "#### 3. Years Since Last Promotion\n",
    "#### 4. Business Travel\n",
    "#### 5. Overtime"
   ]
  },
  {
   "cell_type": "code",
   "execution_count": null,
   "metadata": {},
   "outputs": [],
   "source": []
  }
 ],
 "metadata": {
  "kernelspec": {
   "display_name": "R",
   "language": "R",
   "name": "ir"
  },
  "language_info": {
   "codemirror_mode": "r",
   "file_extension": ".r",
   "mimetype": "text/x-r-source",
   "name": "R",
   "pygments_lexer": "r",
   "version": "4.0.2"
  }
 },
 "nbformat": 4,
 "nbformat_minor": 2
}
